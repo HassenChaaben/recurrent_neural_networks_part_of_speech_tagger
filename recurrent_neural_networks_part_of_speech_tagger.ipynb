{
  "cells": [
    {
      "cell_type": "code",
      "execution_count": null,
      "metadata": {
        "colab": {
          "base_uri": "https://localhost:8080/"
        },
        "id": "9NzDja2Sqz2-",
        "outputId": "b27a9075-8dce-41d0-dd5b-a703133a8bf5"
      },
      "outputs": [
        {
          "name": "stdout",
          "output_type": "stream",
          "text": [
            "Requirement already satisfied: nltk in /usr/local/lib/python3.10/dist-packages (3.9.1)\n",
            "Requirement already satisfied: click in /usr/local/lib/python3.10/dist-packages (from nltk) (8.1.7)\n",
            "Requirement already satisfied: joblib in /usr/local/lib/python3.10/dist-packages (from nltk) (1.4.2)\n",
            "Requirement already satisfied: regex>=2021.8.3 in /usr/local/lib/python3.10/dist-packages (from nltk) (2024.11.6)\n",
            "Requirement already satisfied: tqdm in /usr/local/lib/python3.10/dist-packages (from nltk) (4.67.1)\n",
            "Requirement already satisfied: keras in /usr/local/lib/python3.10/dist-packages (3.5.0)\n",
            "Requirement already satisfied: absl-py in /usr/local/lib/python3.10/dist-packages (from keras) (1.4.0)\n",
            "Requirement already satisfied: numpy in /usr/local/lib/python3.10/dist-packages (from keras) (1.26.4)\n",
            "Requirement already satisfied: rich in /usr/local/lib/python3.10/dist-packages (from keras) (13.9.4)\n",
            "Requirement already satisfied: namex in /usr/local/lib/python3.10/dist-packages (from keras) (0.0.8)\n",
            "Requirement already satisfied: h5py in /usr/local/lib/python3.10/dist-packages (from keras) (3.12.1)\n",
            "Requirement already satisfied: optree in /usr/local/lib/python3.10/dist-packages (from keras) (0.13.1)\n",
            "Requirement already satisfied: ml-dtypes in /usr/local/lib/python3.10/dist-packages (from keras) (0.4.1)\n",
            "Requirement already satisfied: packaging in /usr/local/lib/python3.10/dist-packages (from keras) (24.2)\n",
            "Requirement already satisfied: typing-extensions>=4.5.0 in /usr/local/lib/python3.10/dist-packages (from optree->keras) (4.12.2)\n",
            "Requirement already satisfied: markdown-it-py>=2.2.0 in /usr/local/lib/python3.10/dist-packages (from rich->keras) (3.0.0)\n",
            "Requirement already satisfied: pygments<3.0.0,>=2.13.0 in /usr/local/lib/python3.10/dist-packages (from rich->keras) (2.18.0)\n",
            "Requirement already satisfied: mdurl~=0.1 in /usr/local/lib/python3.10/dist-packages (from markdown-it-py>=2.2.0->rich->keras) (0.1.2)\n",
            "Requirement already satisfied: gensim in /usr/local/lib/python3.10/dist-packages (4.3.3)\n",
            "Requirement already satisfied: numpy<2.0,>=1.18.5 in /usr/local/lib/python3.10/dist-packages (from gensim) (1.26.4)\n",
            "Requirement already satisfied: scipy<1.14.0,>=1.7.0 in /usr/local/lib/python3.10/dist-packages (from gensim) (1.13.1)\n",
            "Requirement already satisfied: smart-open>=1.8.1 in /usr/local/lib/python3.10/dist-packages (from gensim) (7.1.0)\n",
            "Requirement already satisfied: wrapt in /usr/local/lib/python3.10/dist-packages (from smart-open>=1.8.1->gensim) (1.17.0)\n",
            "Requirement already satisfied: seaborn in /usr/local/lib/python3.10/dist-packages (0.13.2)\n",
            "Requirement already satisfied: numpy!=1.24.0,>=1.20 in /usr/local/lib/python3.10/dist-packages (from seaborn) (1.26.4)\n",
            "Requirement already satisfied: pandas>=1.2 in /usr/local/lib/python3.10/dist-packages (from seaborn) (2.2.2)\n",
            "Requirement already satisfied: matplotlib!=3.6.1,>=3.4 in /usr/local/lib/python3.10/dist-packages (from seaborn) (3.8.0)\n",
            "Requirement already satisfied: contourpy>=1.0.1 in /usr/local/lib/python3.10/dist-packages (from matplotlib!=3.6.1,>=3.4->seaborn) (1.3.1)\n",
            "Requirement already satisfied: cycler>=0.10 in /usr/local/lib/python3.10/dist-packages (from matplotlib!=3.6.1,>=3.4->seaborn) (0.12.1)\n",
            "Requirement already satisfied: fonttools>=4.22.0 in /usr/local/lib/python3.10/dist-packages (from matplotlib!=3.6.1,>=3.4->seaborn) (4.55.3)\n",
            "Requirement already satisfied: kiwisolver>=1.0.1 in /usr/local/lib/python3.10/dist-packages (from matplotlib!=3.6.1,>=3.4->seaborn) (1.4.7)\n",
            "Requirement already satisfied: packaging>=20.0 in /usr/local/lib/python3.10/dist-packages (from matplotlib!=3.6.1,>=3.4->seaborn) (24.2)\n",
            "Requirement already satisfied: pillow>=6.2.0 in /usr/local/lib/python3.10/dist-packages (from matplotlib!=3.6.1,>=3.4->seaborn) (11.0.0)\n",
            "Requirement already satisfied: pyparsing>=2.3.1 in /usr/local/lib/python3.10/dist-packages (from matplotlib!=3.6.1,>=3.4->seaborn) (3.2.0)\n",
            "Requirement already satisfied: python-dateutil>=2.7 in /usr/local/lib/python3.10/dist-packages (from matplotlib!=3.6.1,>=3.4->seaborn) (2.8.2)\n",
            "Requirement already satisfied: pytz>=2020.1 in /usr/local/lib/python3.10/dist-packages (from pandas>=1.2->seaborn) (2024.2)\n",
            "Requirement already satisfied: tzdata>=2022.7 in /usr/local/lib/python3.10/dist-packages (from pandas>=1.2->seaborn) (2024.2)\n",
            "Requirement already satisfied: six>=1.5 in /usr/local/lib/python3.10/dist-packages (from python-dateutil>=2.7->matplotlib!=3.6.1,>=3.4->seaborn) (1.17.0)\n"
          ]
        }
      ],
      "source": [
        "!pip install nltk\n",
        "!pip install keras\n",
        "!pip install gensim\n",
        "!pip install seaborn\n",
        "\n",
        "\n"
      ]
    },
    {
      "cell_type": "code",
      "execution_count": null,
      "metadata": {
        "id": "BXfDEAHQrwWj"
      },
      "outputs": [],
      "source": [
        "import numpy as np\n",
        "import matplotlib.pyplot as plt\n",
        "import seaborn as sns\n",
        "import nltk\n",
        "from nltk.corpus import brown, conll2000, treebank, masc_tagged\n",
        "from gensim.models import KeyedVectors\n",
        "import gensim.downloader as api\n",
        "import tensorflow as tf\n",
        "from tensorflow.keras.preprocessing.sequence import pad_sequences\n",
        "from keras.utils import to_categorical\n",
        "from tensorflow.keras.models import Sequential\n",
        "from tensorflow.keras.layers import Dense, Dropout, Embedding, LSTM ,Input,GRU,Bidirectional,RNN,SimpleRNN,TimeDistributed\n",
        "from keras.models import Model\n",
        "from tensorflow.keras.preprocessing.text import Tokenizer\n",
        "from keras.optimizers import Adam\n",
        "from sklearn.model_selection import train_test_split\n",
        "from sklearn.utils import shuffle\n",
        "\n"
      ]
    },
    {
      "cell_type": "markdown",
      "metadata": {
        "id": "xRVPfkm8txZA"
      },
      "source": [
        "# 1.preprocess Data"
      ]
    },
    {
      "cell_type": "markdown",
      "metadata": {
        "id": "qTcjlT3mywH9"
      },
      "source": [
        "##Load Data"
      ]
    },
    {
      "cell_type": "code",
      "execution_count": null,
      "metadata": {
        "colab": {
          "base_uri": "https://localhost:8080/"
        },
        "id": "8EsuQOantLbI",
        "outputId": "cc1ebc06-88ff-407d-add9-1ca5ba25d6e4"
      },
      "outputs": [
        {
          "name": "stderr",
          "output_type": "stream",
          "text": [
            "[nltk_data] Downloading package brown to /root/nltk_data...\n",
            "[nltk_data]   Unzipping corpora/brown.zip.\n",
            "[nltk_data] Downloading package treebank to /root/nltk_data...\n",
            "[nltk_data]   Unzipping corpora/treebank.zip.\n",
            "[nltk_data] Downloading package conll2000 to /root/nltk_data...\n",
            "[nltk_data]   Unzipping corpora/conll2000.zip.\n",
            "[nltk_data] Downloading package punkt to /root/nltk_data...\n",
            "[nltk_data]   Unzipping tokenizers/punkt.zip.\n",
            "[nltk_data] Downloading package universal_tagset to /root/nltk_data...\n",
            "[nltk_data]   Unzipping taggers/universal_tagset.zip.\n",
            "[nltk_data] Downloading package masc_tagged to /root/nltk_data...\n"
          ]
        }
      ],
      "source": [
        "import nltk\n",
        "nltk.download('brown')\n",
        "nltk.download('treebank')\n",
        "nltk.download('conll2000')\n",
        "nltk.download('punkt')\n",
        "nltk.download('universal_tagset')\n",
        "nltk.download('masc_tagged')\n",
        "\n",
        "# load POS tagged corpora from NLTK\n",
        "treebank_corpus = treebank.tagged_sents(tagset='universal')\n",
        "brown_corpus = brown.tagged_sents(tagset='universal')\n",
        "conll_corpus = conll2000.tagged_sents(tagset='universal')\n",
        "masc_corpus = masc_tagged.tagged_sents(tagset='universal')\n",
        "tagged_sentences = treebank_corpus + brown_corpus + conll_corpus + masc_corpus\n"
      ]
    },
    {
      "cell_type": "code",
      "execution_count": null,
      "metadata": {
        "colab": {
          "base_uri": "https://localhost:8080/"
        },
        "id": "NPrgE03zuPN2",
        "outputId": "452d9794-f366-4183-a1d8-14cd1a52a2aa"
      },
      "outputs": [
        {
          "data": {
            "text/plain": [
              "[('``', '.'),\n",
              " ('There', 'DET'),\n",
              " (\"'s\", 'VERB'),\n",
              " ('no', 'DET'),\n",
              " ('question', 'NOUN'),\n",
              " ('that', 'ADP'),\n",
              " ('some', 'DET'),\n",
              " ('of', 'ADP'),\n",
              " ('those', 'DET'),\n",
              " ('workers', 'NOUN'),\n",
              " ('and', 'CONJ'),\n",
              " ('managers', 'NOUN'),\n",
              " ('contracted', 'VERB'),\n",
              " ('asbestos-related', 'ADJ'),\n",
              " ('diseases', 'NOUN'),\n",
              " (',', '.'),\n",
              " (\"''\", '.'),\n",
              " ('said', 'VERB'),\n",
              " ('*T*-1', 'X'),\n",
              " ('Darrell', 'NOUN'),\n",
              " ('Phillips', 'NOUN'),\n",
              " (',', '.'),\n",
              " ('vice', 'NOUN'),\n",
              " ('president', 'NOUN'),\n",
              " ('of', 'ADP'),\n",
              " ('human', 'ADJ'),\n",
              " ('resources', 'NOUN'),\n",
              " ('for', 'ADP'),\n",
              " ('Hollingsworth', 'NOUN'),\n",
              " ('&', 'CONJ'),\n",
              " ('Vose', 'NOUN'),\n",
              " ('.', '.')]"
            ]
          },
          "execution_count": 7,
          "metadata": {},
          "output_type": "execute_result"
        }
      ],
      "source": [
        "# let's look at the data\n",
        "# each sentence in the list is a full statement, each word with their Pos\n",
        "tagged_sentences[30]"
      ]
    },
    {
      "cell_type": "code",
      "execution_count": null,
      "metadata": {
        "colab": {
          "base_uri": "https://localhost:8080/"
        },
        "id": "rfHzvL10wC0-",
        "outputId": "34325f18-cf03-4388-ddb2-203bf28f5b6d"
      },
      "outputs": [
        {
          "data": {
            "text/plain": [
              "{'.',\n",
              " 'ADJ',\n",
              " 'ADP',\n",
              " 'ADV',\n",
              " 'CONJ',\n",
              " 'DET',\n",
              " 'NOUN',\n",
              " 'NUM',\n",
              " 'PRON',\n",
              " 'PRT',\n",
              " 'VERB',\n",
              " 'X'}"
            ]
          },
          "execution_count": 8,
          "metadata": {},
          "output_type": "execute_result"
        }
      ],
      "source": [
        "# POS\n",
        "set([pos[1] for list_ in tagged_sentences  for pos in list_ ])"
      ]
    },
    {
      "cell_type": "markdown",
      "metadata": {
        "id": "WOWlo2aby5pE"
      },
      "source": [
        "## Divide data in words (X) and tags (Y)\n",
        "Since this many to many problem , in addition the length of input sequence Tx = the length of output sequence Ty , each data point will be a different sentence of the corpora .\n",
        "Each data point will have multiple words in the input sequence . This is what we will refer to as X .\n",
        "Each word will have its corresponding tag in the output sequence . This what we will refer to as Y .  \n",
        "\n",
        "Sample Dataset :\n",
        "\n",
        "X : Mr Vinken is chairman of Elsevier\n",
        "\n",
        "Y : NOUN NOUN VERB NOUN ADP NOUN\n",
        "\n"
      ]
    },
    {
      "cell_type": "code",
      "execution_count": null,
      "metadata": {
        "id": "XfwJVjdbyAAM"
      },
      "outputs": [],
      "source": [
        "X = [] # store input Sequence\n",
        "Y = [] # store output Sequence\n",
        "\n",
        "for sentence in tagged_sentences:\n",
        "    X_sentence = []\n",
        "    Y_sentence = []\n",
        "    for word in sentence:\n",
        "        X_sentence.append(word[0])\n",
        "        Y_sentence.append(word[1])\n",
        "\n",
        "    X.append(X_sentence)\n",
        "    Y.append(Y_sentence)\n"
      ]
    },
    {
      "cell_type": "code",
      "execution_count": null,
      "metadata": {
        "colab": {
          "base_uri": "https://localhost:8080/"
        },
        "id": "2aIDYT7j1GQS",
        "outputId": "34e05c8e-e9c5-480f-a936-a6bf8eeb8137"
      },
      "outputs": [
        {
          "name": "stdout",
          "output_type": "stream",
          "text": [
            "this many to many problem , with Tx = Ty \n"
          ]
        }
      ],
      "source": [
        "# many to many and Tx = Ty\n",
        "if len(X[0])==len(Y[0]) :\n",
        "  print('this many to many problem , with Tx = Ty ')\n"
      ]
    },
    {
      "cell_type": "code",
      "execution_count": null,
      "metadata": {
        "id": "Klu8-4r82Hrk"
      },
      "outputs": [],
      "source": [
        "num_words = len(set([ word.lower() for sentence in X for word in sentence]))\n",
        "num_tags = len(set([ word.lower() for sentence in Y for word in sentence]))"
      ]
    },
    {
      "cell_type": "code",
      "execution_count": null,
      "metadata": {
        "colab": {
          "base_uri": "https://localhost:8080/"
        },
        "id": "XRzK8nNg2PR-",
        "outputId": "7d2dac61-b9be-49d1-c259-70de2a980fe0"
      },
      "outputs": [
        {
          "name": "stdout",
          "output_type": "stream",
          "text": [
            "Total number of tagged sentences : 106736\n",
            "Total number of unique words : 73104\n",
            "Total number of unique tags : 12\n"
          ]
        }
      ],
      "source": [
        "print(f\"Total number of tagged sentences : {len(X)}\")\n",
        "print(f\"Total number of unique words : {num_words}\")\n",
        "print(f\"Total number of unique tags : {num_tags}\")\n"
      ]
    },
    {
      "cell_type": "code",
      "execution_count": null,
      "metadata": {
        "colab": {
          "base_uri": "https://localhost:8080/"
        },
        "id": "pxuBhSUj32pe",
        "outputId": "92d59ddf-1821-4e06-b9a4-a07936118a9e"
      },
      "outputs": [
        {
          "name": "stdout",
          "output_type": "stream",
          "text": [
            "sample X :  ['Pierre', 'Vinken', ',', '61', 'years', 'old', ',', 'will', 'join', 'the', 'board', 'as', 'a', 'nonexecutive', 'director', 'Nov.', '29', '.'] \n",
            "\n",
            "sample Y :  ['NOUN', 'NOUN', '.', 'NUM', 'NOUN', 'ADJ', '.', 'VERB', 'VERB', 'DET', 'NOUN', 'ADP', 'DET', 'ADJ', 'NOUN', 'NOUN', 'NUM', '.'] \n",
            "\n"
          ]
        }
      ],
      "source": [
        "# let's look at first data point\n",
        "# this one data point that will be fed to the RNN\n",
        "\n",
        "print('sample X : ', X[0] , '\\n')\n",
        "print('sample Y : ', Y[0] , '\\n')\n"
      ]
    },
    {
      "cell_type": "markdown",
      "metadata": {
        "id": "b_GPxr_d5D56"
      },
      "source": [
        "## Vectorise X an Y\n",
        "we can't not feed a RNN or a neural network as general a text as text we should convert it to a numerique format\n",
        "--> Encode  X and Y  to integra values .\n",
        "we will use Tokenize() function from Keras library to encode text sequence to integar sequence"
      ]
    },
    {
      "cell_type": "code",
      "execution_count": null,
      "metadata": {
        "colab": {
          "base_uri": "https://localhost:8080/"
        },
        "id": "fMMLT2qU5q_s",
        "outputId": "07ce17d7-aff7-4f1c-b24b-67f043c21ac3"
      },
      "outputs": [
        {
          "data": {
            "text/plain": [
              "['Rudolph',\n",
              " 'Agnew',\n",
              " ',',\n",
              " '55',\n",
              " 'years',\n",
              " 'old',\n",
              " 'and',\n",
              " 'former',\n",
              " 'chairman',\n",
              " 'of',\n",
              " 'Consolidated',\n",
              " 'Gold',\n",
              " 'Fields',\n",
              " 'PLC',\n",
              " ',',\n",
              " 'was',\n",
              " 'named',\n",
              " '*-1',\n",
              " 'a',\n",
              " 'nonexecutive',\n",
              " 'director',\n",
              " 'of',\n",
              " 'this',\n",
              " 'British',\n",
              " 'industrial',\n",
              " 'conglomerate',\n",
              " '.']"
            ]
          },
          "execution_count": 14,
          "metadata": {},
          "output_type": "execute_result"
        }
      ],
      "source": [
        "X[2]"
      ]
    },
    {
      "cell_type": "markdown",
      "metadata": {
        "id": "a1l2jo_rJA9-"
      },
      "source": [
        "let's see how the Tokenizer will handle the given input sequence:\n",
        "\n",
        "Building the Vocabulary:\n",
        "\n",
        "When word_tokenizer.fit_on_texts(X) is called, the Tokenizer scans through all the sentences in your dataset (X), which we assume includes the sample sentence you provided.\n",
        "It identifies all the unique words and assigns a unique integer (index) to each word. This assignment often follows the order of word frequency (most frequent words get lower indices) but can also be adjusted using different settings within the Tokenizer.\n",
        "It basically creates an internal vocabulary dictionary where each word is a key and its corresponding numerical index is the value.\n",
        "Punctuation marks like commas and periods will also be considered as individual tokens and get assigned their unique indices.\n",
        "Converting the Sample Sentence:\n",
        "\n",
        "Now, when word_tokenizer.texts_to_sequences() is called with the sample sentence as input, it performs the following steps:\n",
        "It reads the sentence word by word.\n",
        "For each word in the sentence, it looks it up in its internal vocabulary dictionary.\n",
        "If the word is found, it replaces the word with its corresponding numerical index.\n",
        "If the word is not found (out-of-vocabulary), it might be skipped or handled according to specific settings within the Tokenizer (like using a default \"unknown\" token).\n",
        "Example:\n",
        "\n",
        "Let's imagine a simplified version of the Tokenizer's internal vocabulary:\n",
        "\n",
        "\n",
        "{\n",
        "    'rudolph': 1,\n",
        "    'agnew': 2,\n",
        "    ',': 3,\n",
        "    '55': 4,\n",
        "    'years': 5,\n",
        "    'old': 6,\n",
        "    'and': 7,\n",
        "    ... # Other words and punctuation\n",
        "}\n",
        "Use code with caution\n",
        "Based on this vocabulary, the given input sentence would be converted into the following numerical sequence:\n",
        "\n",
        "[1, 2, 3, 4, 5, 6, 7, ... ]\n",
        "\n",
        "\"Rudolph\" is replaced with 1\n",
        "\"Agnew\" is replaced with 2\n",
        "\",\" is replaced with 3\n",
        "\"55\" is replaced with 4, and so on.\n",
        "Important Points\n",
        "\n",
        "The actual numerical values assigned to each word might differ depending on the complete dataset (X) and the order in which the Tokenizer encountered them.\n",
        "The output of texts_to_sequences() would be a list of numerical values, representing the encoded form of the input sentence. This list would be stored in X_encoded."
      ]
    },
    {
      "cell_type": "code",
      "execution_count": null,
      "metadata": {
        "id": "by9c_OPr5y2i"
      },
      "outputs": [],
      "source": [
        "# encode X\n",
        "# This code snippet prepares the text data for use in a machine learning model by converting the words into numerical sequences using a Tokenizer object.\n",
        "# This process is called tokenization and\n",
        "# is a fundamental step in many Natural Language Processing (NLP) tasks.\n",
        "word_tokenizer = Tokenizer()#instantiate tokeniser\n",
        "word_tokenizer.fit_on_texts(X)#fit tokeniser on data\n",
        "X_encoded = word_tokenizer.texts_to_sequences(X)#use the tokeniser to encode input sequence\n"
      ]
    },
    {
      "cell_type": "code",
      "execution_count": null,
      "metadata": {
        "colab": {
          "base_uri": "https://localhost:8080/"
        },
        "id": "JBw42WmdHp76",
        "outputId": "dd29833b-56c7-4e08-f823-92e70510231d"
      },
      "outputs": [
        {
          "data": {
            "text/plain": [
              "[13707,\n",
              " 39637,\n",
              " 2,\n",
              " 4135,\n",
              " 111,\n",
              " 191,\n",
              " 6,\n",
              " 733,\n",
              " 597,\n",
              " 4,\n",
              " 7021,\n",
              " 1191,\n",
              " 2004,\n",
              " 3868,\n",
              " 2,\n",
              " 13,\n",
              " 1129,\n",
              " 169,\n",
              " 7,\n",
              " 16302,\n",
              " 739,\n",
              " 4,\n",
              " 26,\n",
              " 721,\n",
              " 773,\n",
              " 13708,\n",
              " 3]"
            ]
          },
          "execution_count": 16,
          "metadata": {},
          "output_type": "execute_result"
        }
      ],
      "source": [
        "X_encoded[2]"
      ]
    },
    {
      "cell_type": "code",
      "execution_count": null,
      "metadata": {
        "id": "j4F_BO_tIdMJ"
      },
      "outputs": [],
      "source": [
        "# encode Y\n",
        "tag_tokenizer = Tokenizer()\n",
        "tag_tokenizer.fit_on_texts(Y)\n",
        "Y_encoded = tag_tokenizer.texts_to_sequences(Y)\n"
      ]
    },
    {
      "cell_type": "code",
      "execution_count": null,
      "metadata": {
        "colab": {
          "base_uri": "https://localhost:8080/"
        },
        "id": "FajPx_kgJZQL",
        "outputId": "d05fabee-44b9-47d3-c6c1-07f5645ac804"
      },
      "outputs": [
        {
          "name": "stdout",
          "output_type": "stream",
          "text": [
            "** raw data point ** \n",
            " ---------------------------------------------------------------------------------------------------- \n",
            "\n",
            "X:  ['Pierre', 'Vinken', ',', '61', 'years', 'old', ',', 'will', 'join', 'the', 'board', 'as', 'a', 'nonexecutive', 'director', 'Nov.', '29', '.'] \n",
            "\n",
            "X:  ['NOUN', 'NOUN', '.', 'NUM', 'NOUN', 'ADJ', '.', 'VERB', 'VERB', 'DET', 'NOUN', 'ADP', 'DET', 'ADJ', 'NOUN', 'NOUN', 'NUM', '.'] \n",
            "\n",
            "** Encoded data point ** \n",
            " ---------------------------------------------------------------------------------------------------- \n",
            "\n",
            "X:  [7796, 29325, 2, 9149, 111, 191, 2, 46, 1555, 1, 296, 18, 7, 16302, 739, 2337, 2163, 3] \n",
            "\n",
            "X:  [1, 1, 3, 11, 1, 6, 3, 2, 2, 5, 1, 4, 5, 6, 1, 1, 11, 3] \n",
            "\n"
          ]
        }
      ],
      "source": [
        "# look at first encoded data point\n",
        "\n",
        "print('** raw data point **','\\n','-'*100,'\\n')\n",
        "print('X: ',X[0],'\\n')\n",
        "print('X: ',Y[0],'\\n')\n",
        "print('** Encoded data point **','\\n','-'*100,'\\n')\n",
        "print('X: ',X_encoded[0],'\\n')\n",
        "print('X: ',Y_encoded[0],'\\n')\n"
      ]
    },
    {
      "cell_type": "code",
      "execution_count": null,
      "metadata": {
        "colab": {
          "base_uri": "https://localhost:8080/"
        },
        "id": "8fdqN98PJ9w8",
        "outputId": "a602d41b-685c-45b5-ec0b-42f7be2b586b"
      },
      "outputs": [
        {
          "name": "stdout",
          "output_type": "stream",
          "text": [
            "0 sentences have disparate input and output lengths\n"
          ]
        }
      ],
      "source": [
        "# make sure that each sequence of input and output is same length\n",
        "\n",
        "different_length = [1 if len(input) != len(output) else 0 for input,output  in zip(X_encoded,Y_encoded)]\n",
        "\n",
        "print(f'{sum(different_length)} sentences have disparate input and output lengths')\n"
      ]
    },
    {
      "cell_type": "markdown",
      "metadata": {
        "id": "y5fODlmHLamX"
      },
      "source": [
        "## Pad sequences\n",
        "####Why Padding is Necessary\n",
        "\n",
        "Neural networks, especially recurrent neural networks (RNNs) like LSTMs and GRUs, typically expect input data to be in a consistent format. This means all input sequences should have the same length.\n",
        "However, natural language sentences vary in length. Some sentences are short, and some are very long.\n",
        "To feed these variable-length sentences into an RNN, we need to make them uniform in length. This is achieved through padding or truncation.\n",
        "Padding Process\n",
        "\n",
        "####Choosing a Maximum Length (Hyperparameter):\n",
        "\n",
        "You need to decide on a fixed sequence length. This is often called maxlen and is a hyperparameter that you would experiment with to find the optimal value for your model.\n",
        "You could determine this length based on the distribution of sentence lengths in your dataset. For instance, you might choose a length that covers most of your sentences (e.g., 95th percentile of sentence lengths).\n",
        "\n",
        "####Pad Short Sequences:\n",
        "\n",
        "If a sentence has fewer words than maxlen, padding is applied.\n",
        "Padding involves adding special \"padding tokens\" to the sequence until it reaches the desired length.\n",
        "The pad_sequences function from Keras is commonly used for this purpose. It offers options for pre-padding (adding tokens at the beginning) or post-padding (adding tokens at the end). Pre-padding is often preferred for RNNs.\n",
        "The padding token is usually represented by 0.\n",
        "####Truncate Long Sequences:\n",
        "\n",
        "If a sentence has more words than maxlen, truncation is applied.\n",
        "Truncation involves simply removing words from the sequence until it reaches the desired length.\n",
        "The pad_sequences function can also handle truncation if you set the truncating parameter accordingly.\n",
        "####Example:\n",
        "\n",
        "Let's say you choose maxlen = 10.\n",
        "\n",
        "Short Sentence: \"The cat sat.\" (Encoded: [1, 2, 3])\n",
        "\n",
        "After padding (pre-padding): [0, 0, 0, 0, 0, 0, 0, 1, 2, 3]\n",
        "Long Sentence: \"The quick brown fox jumps over the lazy dog.\" (Encoded: [1, 4, 5, 6, 7, 8, 1, 9, 10])\n",
        "\n",
        "After truncation (pre-truncation): [4, 5, 6, 7, 8, 1, 9, 10]\n",
        "####How Padding Helps\n",
        "\n",
        "Uniformity: Makes all input sequences the same length, allowing the RNN to process them efficiently.\n",
        "Performance: Padding or truncating can affect model performance. You need to experiment with different maxlen values to find the optimal setting."
      ]
    },
    {
      "cell_type": "code",
      "execution_count": null,
      "metadata": {
        "colab": {
          "base_uri": "https://localhost:8080/"
        },
        "id": "edZWdqafNKIm",
        "outputId": "37a7bd12-1079-4ea6-89f2-5c7b0c4ffc43"
      },
      "outputs": [
        {
          "name": "stdout",
          "output_type": "stream",
          "text": [
            "longest sentence has 499 words\n"
          ]
        }
      ],
      "source": [
        "# check the lengths of longest sentence\n",
        "lengths = [len(seq) for seq in X_encoded]\n",
        "max_length = max(lengths)\n",
        "print(f'longest sentence has {max_length} words')"
      ]
    },
    {
      "cell_type": "code",
      "execution_count": null,
      "metadata": {
        "colab": {
          "base_uri": "https://localhost:8080/",
          "height": 507
        },
        "id": "hCNQ_WAsK19D",
        "outputId": "6e5ec8f2-8160-40ef-88e3-24f0e37ab43a"
      },
      "outputs": [
        {
          "data": {
            "image/png": "[encoded data removed]",
            "text/plain": [
              "<Figure size 1000x600 with 1 Axes>"
            ]
          },
          "metadata": {},
          "output_type": "display_data"
        }
      ],
      "source": [
        "\n",
        "\n",
        "# lengths' is list of sentence lengths\n",
        "\n",
        "def visualize_sentence_lengths(lengths):\n",
        "\n",
        "  sns.set_style(\"whitegrid\")  # Set the overall style of the plot\n",
        "  plt.figure(figsize=(10, 6))  # Adjust the figure size\n",
        "\n",
        "  # Create the histogram with customizations\n",
        "  ax = sns.histplot(\n",
        "      lengths,\n",
        "      bins=20,\n",
        "      kde=True,\n",
        "      color=\"#007acc\",  # Change the bar color\n",
        "      line_kws={\"linewidth\": 2},  # Adjust the KDE line width\n",
        "      alpha=0.7  # Add transparency to the bars\n",
        "  )\n",
        "\n",
        "  # Add labels and title\n",
        "  plt.xlabel(\"Sentence Length\", fontsize=14)\n",
        "  plt.ylabel(\"Frequency\", fontsize=14)\n",
        "  plt.title(\"Distribution of Sentence Lengths\", fontsize=16)\n",
        "\n",
        "  # Remove the top and right spines for a cleaner look\n",
        "  sns.despine()\n",
        "\n",
        "  # Add a grid for better readability\n",
        "  plt.grid(axis=\"y\", linestyle=\"--\", alpha=0.7)\n",
        "\n",
        "  # Annotate the median sentence length\n",
        "  median_length = np.median(lengths)\n",
        "  plt.axvline(median_length, color=\"red\", linestyle=\"--\", linewidth=2)\n",
        "  plt.text(\n",
        "      median_length + 2,\n",
        "      ax.get_ylim()[1] * 0.9,\n",
        "      f\"Median: {median_length:.0f}\",\n",
        "      color=\"red\",\n",
        "      fontsize=12\n",
        "  )\n",
        "  # Calculate the maximum sentence length and its frequency\n",
        "  max_length = max(lengths)\n",
        "  max_freq = np.bincount(lengths)[max_length]\n",
        "\n",
        "  # Annotate the maximum sentence length\n",
        "  plt.axvline(max_length, color=\"green\", linestyle=\"--\", linewidth=2)\n",
        "  plt.text(\n",
        "      max_length + 2,\n",
        "      max_freq,  # Position the text near the maximum frequency\n",
        "      f\"Maximum: {max_length:.0f}\",\n",
        "      color=\"green\",\n",
        "      fontsize=12,\n",
        "  )\n",
        "\n",
        "  plt.show()\n",
        "visualize_sentence_lengths(lengths)"
      ]
    },
    {
      "cell_type": "code",
      "execution_count": null,
      "metadata": {
        "colab": {
          "base_uri": "https://localhost:8080/"
        },
        "id": "giTXKG_FOpDM",
        "outputId": "4de3e465-ab8e-4746-b2f9-b1f27e1e766e"
      },
      "outputs": [
        {
          "name": "stdout",
          "output_type": "stream",
          "text": [
            "i think according to this graph 100 as max_length will be a good trade-off between capturing information and computational cost.\n",
            "\n",
            "any sequence < 100 , we will add zeros on the left side to it because 0 is  not exist in X_encoded\n",
            "any sequence > 100 , we will truncate  it from right side  [:100]\n"
          ]
        }
      ],
      "source": [
        "#Cover most data: Aim to have a maxlen that covers a significant portion of your sentences\n",
        "#to avoid excessive truncation.\n",
        "#--> i think according to this graph 100 as max_length will be a good trade-off between capturing information and computational cost.\n",
        "print('i think according to this graph 100 as max_length will be a good trade-off between capturing information and computational cost.')\n",
        "print('\\nany sequence < 100 , we will add zeros on the left side to it because 0 is  not exist in X_encoded')\n",
        "print('any sequence > 100 , we will truncate  it from right side  [:100]')\n"
      ]
    },
    {
      "cell_type": "code",
      "execution_count": null,
      "metadata": {
        "colab": {
          "base_uri": "https://localhost:8080/"
        },
        "id": "pROUGjGXTfvv",
        "outputId": "47cda0e0-2c87-4bc0-b97a-55a9cdf7e405"
      },
      "outputs": [
        {
          "name": "stdout",
          "output_type": "stream",
          "text": [
            "number of input sequences length less than 100 =  106631\n",
            "\n",
            "number of input sequences length greater  than 100 =  104\n",
            "\n"
          ]
        }
      ],
      "source": [
        "#Pad each sequence to MAX_SEQ_LENGTH using KERAS pad_sequences() function\n",
        "#Sentences longer than MAX_SEQ_LENGTH are truncated\n",
        "#Sentences shorter than MAX_SEQ_LENGTH are padded with zeros\n",
        "\n",
        "#Truncation and padding can either be 'pre' or 'post'\n",
        "# for padding we are using 'pre' padding type , that is add zeros on the left side\n",
        "# for truncation , we are using 'post' , that is , truncate a sentence from right side\n",
        "\n",
        "print(f'number of input sequences length less than 100 =  {len([len(x) for x in X_encoded if len(x) < 100])}\\n')\n",
        "print(f'number of input sequences length greater  than 100 =  {len([len(x) for x in X_encoded if len(x) > 100])}\\n')\n",
        "\n",
        "MAX_SEQ_LENGTH = 100\n",
        "\n",
        "X_padded = pad_sequences(X_encoded , maxlen=MAX_SEQ_LENGTH , padding='pre' , truncating='post')\n",
        "Y_padded = pad_sequences(Y_encoded , maxlen=MAX_SEQ_LENGTH , padding='pre' , truncating='post')\n"
      ]
    },
    {
      "cell_type": "code",
      "execution_count": null,
      "metadata": {
        "colab": {
          "base_uri": "https://localhost:8080/",
          "height": 250
        },
        "id": "A-bsae32WINo",
        "outputId": "b8b63089-c104-4be6-e169-ab06aaefaa28"
      },
      "outputs": [
        {
          "data": {
            "image/png": "[encoded data removed]",
            "text/plain": [
              "<Figure size 1000x600 with 1 Axes>"
            ]
          },
          "metadata": {},
          "output_type": "display_data"
        }
      ],
      "source": [
        "# check the lengths of longest sentence\n",
        "lengths_padded = [len(seq) for seq in X_padded]\n",
        "visualize_sentence_lengths(lengths_padded)"
      ]
    },
    {
      "cell_type": "code",
      "execution_count": null,
      "metadata": {
        "colab": {
          "base_uri": "https://localhost:8080/"
        },
        "id": "ZfjvASk7W4YI",
        "outputId": "c77a34cc-2148-4f9e-99a8-4ceb59dbddf1"
      },
      "outputs": [
        {
          "name": "stdout",
          "output_type": "stream",
          "text": [
            "0 sentences have disparate input and output lengths and not padded \n"
          ]
        }
      ],
      "source": [
        "# make sure that each sequence of input and output is same length and all are 100\n",
        "\n",
        "different_length = [1 if (len(input) != len(output) and len(input)==100 )  else 0 for input,output  in zip(X_padded,Y_padded)]\n",
        "\n",
        "print(f'{sum(different_length)} sentences have disparate input and output lengths and not padded ')"
      ]
    },
    {
      "cell_type": "code",
      "execution_count": null,
      "metadata": {
        "colab": {
          "base_uri": "https://localhost:8080/"
        },
        "id": "bqbnU_vuXj9O",
        "outputId": "48f92112-a907-484b-f0fb-6e582e8056b2"
      },
      "outputs": [
        {
          "name": "stdout",
          "output_type": "stream",
          "text": [
            "[    0     0     0     0     0     0     0     0     0     0     0     0\n",
            "     0     0     0     0     0     0     0     0     0     0     0     0\n",
            "     0     0     0     0     0     0     0     0     0     0     0     0\n",
            "     0     0     0     0     0     0     0     0     0     0     0     0\n",
            "     0     0     0     0     0     0     0     0     0     0     0     0\n",
            "     0     0     0     0     0     0     0     0     0     0     0     0\n",
            "     0     0     0     0     0     0     0     0     0     0  7796 29325\n",
            "     2  9149   111   191     2    46  1555     1   296    18     7 16302\n",
            "   739  2337  2163     3] \n",
            "\n",
            "\n",
            "\n",
            "[ 0  0  0  0  0  0  0  0  0  0  0  0  0  0  0  0  0  0  0  0  0  0  0  0\n",
            "  0  0  0  0  0  0  0  0  0  0  0  0  0  0  0  0  0  0  0  0  0  0  0  0\n",
            "  0  0  0  0  0  0  0  0  0  0  0  0  0  0  0  0  0  0  0  0  0  0  0  0\n",
            "  0  0  0  0  0  0  0  0  0  0  1  1  3 11  1  6  3  2  2  5  1  4  5  6\n",
            "  1  1 11  3]\n"
          ]
        }
      ],
      "source": [
        "# print the first sequence\n",
        "print(X_padded[0],\"\\n\"*3)\n",
        "print(Y_padded[0])"
      ]
    },
    {
      "cell_type": "code",
      "execution_count": null,
      "metadata": {
        "id": "t0vdubTYwgWx"
      },
      "outputs": [],
      "source": [
        "# assign padded sequences to X and Y\n",
        "X , Y  = X_padded , Y_padded"
      ]
    },
    {
      "cell_type": "markdown",
      "metadata": {
        "id": "Owi4c7lfaW8n"
      },
      "source": [
        "## word embeddings  \n",
        "Currently , each word and each tag is encoded as an integar .\n",
        "we will use word embeddings technique to represent the input words (X) for some reasons .\n",
        "\n",
        "####Encoding vs. Embeddings\n",
        "\n",
        "####Integer Encoding:\n",
        "When you encode words and tags as integers, you're essentially giving each unique word or tag a numerical identifier. This allows your model to process them as inputs, but it doesn't capture any semantic or contextual information about the words themselves.\n",
        "\n",
        "####Word Embeddings:\n",
        "on the other hand, are dense vector representations of words that capture semantic relationships and contextual information. They map words to a continuous vector space where similar words have similar vector representations.\n",
        "\n",
        "####Why Word Embeddings Are Important\n",
        "\n",
        "Even though integer encoding allows your model to process words, using word embeddings provides several advantages:\n",
        "\n",
        "Semantic Representation: Word embeddings encode the meaning of words in a way that allows the model to understand relationships between them. For example, the embeddings for \"king\" and \"queen\" would be closer in vector space than the embeddings for \"king\" and \"table.\"\n",
        "\n",
        "Contextual Information: Depending on the type of embedding (e.g., Word2Vec, GloVe, BERT), word embeddings can also capture contextual information about how words are used in different sentences and contexts.\n",
        "\n",
        "#### Choosing the dimension of your word embeddings :\n",
        "\n",
        "Imagine a 2-dimensional space (like a graph). Each word would be represented by a point with two coordinates (x and y). If you increase the dimensionality to 3, you're essentially adding a z-axis, and each word would have three coordinates (x, y, z).\n",
        "\n",
        "Word embeddings typically have much higher dimensionality (e.g., 100, 200, 300, or more). It's difficult to visualize these high-dimensional spaces directly, but the concept remains the same: each word is a point with a certain number of coordinates, and that number is the dimensionality of the embedding.\n",
        "\n",
        "####Why Dimensionality Matters\n",
        "\n",
        "Information Capacity: Higher dimensionality allows for encoding more information about each word, potentially capturing finer-grained semantic relationships and nuances.\n",
        "\n",
        "\n",
        "Computational Cost: Higher dimensionality increases the computational burden on your model, requiring more memory and processing time.\n",
        "\n",
        "\n",
        "Generalization: The dimensionality can affect the model's ability to generalize to unseen words.\n",
        "Choosing the Right Dimensionality\n",
        "\n",
        "There's no one-size-fits-all answer for the best dimensionality. It depends on your specific dataset, task, and computational resources. You'll typically need to experiment with different dimensions and evaluate their performance on your task.\n",
        "\n",
        "Conclusion :\n",
        "\n",
        "Dimensionality of word embeddings simply refers to the number of elements in each word's vector representation.\n",
        "It represents the amount of information that can be encoded about each word.\n",
        "Choosing the right dimensionality is a balance between information capacity, computational cost, and generalization ability. I hope this clarifies the concept of dimensionality in word embeddings\n",
        "\n",
        "####In the context of your POS tagging code:\n",
        "\n",
        "Word embeddings can help your model understand the semantic relationships between words, which is crucial for POS tagging. For example, knowing that \"run\" is a verb and \"running\" is a noun (or verb, depending on context) can be encoded in their embeddings.\n",
        "They can improve the accuracy of your tagger by providing more information about the words in the input sequence.\n",
        "\n",
        "####Mathematical Representation\n",
        "\n",
        "Let's say you have a vocabulary of V unique words. A word embedding for a word w can be represented as:\n",
        "\n",
        "w = [w1, w2, w3, ..., wd]\n",
        "\n",
        "where:\n",
        "\n",
        "w is the embedding vector for word w.\n",
        "w1, w2, w3, ..., wd are the individual components or dimensions of the vector.\n",
        "d is the dimensionality of the embedding space.\n",
        "\n",
        "####Semantic Similarity:\n",
        " Words with similar meanings tend to have embedding vectors that are close together in the embedding space. This is measured using metrics like cosine similarity.\n",
        "\n",
        "Cosine Similarity( u, v ) = ( u • v ) / ( || u || * || v || )\n",
        "\n",
        "where:\n",
        "\n",
        "u and v are two embedding vectors.\n",
        "• represents the dot product.\n",
        "\n",
        "|| u || and || v || represent the magnitudes of the vectors.\n",
        "####Linear Relationships:\n",
        " Word embeddings often exhibit interesting linear relationships. For example, the famous analogy:\n",
        "\n",
        "king - man + woman ≈ queen\n",
        "\n",
        "This means that if you subtract the embedding vector for \"man\" from the embedding vector for \"king\" and add the embedding vector for \"woman,\" the resulting vector is close to the embedding vector for \"queen.\"\n",
        "\n",
        "\n",
        "## why not one_hot encoder instead of word_embedding ?\n",
        "\n",
        "While one-hot encoding is a simple and straightforward way to represent words numerically, it has several limitations that make it a poor substitute for word embeddings in most NLP tasks:\n",
        "\n",
        "####High Dimensionality:\n",
        "One-hot encoding creates extremely high-dimensional vectors, especially with large vocabularies. This can lead to:\n",
        "\n",
        "Increased computational cost: More memory and processing time are required to handle these large vectors in our case our voccabulary size is 73104.\n",
        "\n",
        "Sparsity issues: The vectors are mostly filled with 0s, which can make them inefficient for many machine learning algorithms.\n",
        "\n",
        "####Increased computational cost:\n",
        "More memory and processing time are required to handle these large vectors.\n",
        "Sparsity issues: The vectors are mostly filled with 0s, which can make them inefficient for many machine learning algorithms.\n",
        "\n",
        "Lack of Semantic Relationships: One-hot encoding doesn't capture any relationships between words. Every word is treated as independent and equally distant from every other word. This means the model can't leverage the semantic similarities between words to improve its understanding of the text.\n",
        "\n",
        "\n"
      ]
    },
    {
      "cell_type": "markdown",
      "metadata": {
        "id": "tB2soO9gi9zY"
      },
      "source": [
        "-->Initially, we had 12 distinct POS tags in our dataset. To handle varying sentence lengths during the padding process, we introduced a padding character represented by '0'. This addition brings the total number of unique tags to 13. Given this relatively small vocabulary size for our target variable (POS tags), we can efficiently utilize one-hot encoding. This approach involves representing each tag as a 13-dimensional vector, where only one element is '1' (indicating the specific tag) while the rest are '0'. Despite the simplicity of one-hot encoding, it's well-suited for this scenario because POS tags represent distinct grammatical categories without inherent semantic relationships. While one-hot vectors might not explicitly capture such relationships, the LSTM network possesses the capability to learn its own representations of these tags during the training process. Consequently, the LSTM can effectively associate specific patterns within the input word sequence with the corresponding one-hot encoded POS tags, ultimately enabling accurate POS tagging."
      ]
    },
    {
      "cell_type": "markdown",
      "metadata": {
        "id": "Lr2lPWELkzCI"
      },
      "source": [
        "#### to use word embeddings , you can go for either of the following models  \n",
        "1 . word2vec model\n",
        "\n",
        "\n",
        "2 . GloVe model\n",
        "\n",
        "Dimension of a word embedding is (Voccabularry_size , Embedding_Dimension )\n"
      ]
    },
    {
      "cell_type": "code",
      "execution_count": null,
      "metadata": {
        "colab": {
          "base_uri": "https://localhost:8080/"
        },
        "id": "3K4c7lOkXy6o",
        "outputId": "ac93bdf0-1f9f-4dbf-e9c7-ad306e454db4"
      },
      "outputs": [
        {
          "name": "stdout",
          "output_type": "stream",
          "text": [
            "[==================================================] 100.0% 1662.8/1662.8MB downloaded\n"
          ]
        }
      ],
      "source": [
        "# Download the pre-trained Word2Vec model (GoogleNews-vectors-negative300)\n",
        "Word2Vec = api.load('word2vec-google-news-300')\n",
        "\n"
      ]
    },
    {
      "cell_type": "code",
      "execution_count": null,
      "metadata": {
        "colab": {
          "base_uri": "https://localhost:8080/"
        },
        "id": "vz_hH8c4YDE8",
        "outputId": "20747533-ed24-452d-80f7-83fe777f70bd"
      },
      "outputs": [
        {
          "data": {
            "text/plain": [
              "[('Queen', 0.4929387867450714),\n",
              " ('Tupou_V.', 0.45174285769462585),\n",
              " ('Oprah_BFF_Gayle', 0.4422132968902588),\n",
              " ('Jackson', 0.440250426530838),\n",
              " ('NECN_Alison', 0.4331282675266266),\n",
              " ('Whitfield', 0.42834725975990295),\n",
              " ('Ida_Vandross', 0.42084527015686035),\n",
              " ('prosecutor_Dan_Satterberg', 0.420758992433548),\n",
              " ('martin_Luther_King', 0.42059651017189026),\n",
              " ('Coretta_King', 0.4202733635902405)]"
            ]
          },
          "execution_count": 29,
          "metadata": {},
          "output_type": "execute_result"
        }
      ],
      "source": [
        "#word2vec effectivness\n",
        "Word2Vec.most_similar(positive=['King','Woman'] , negative=['Man'])"
      ]
    },
    {
      "cell_type": "code",
      "execution_count": null,
      "metadata": {
        "id": "KmmIWPOaYt_4"
      },
      "outputs": [],
      "source": [
        "#assign word vectors from word2vec model\n",
        "\n",
        "EMBEDDING_SIZE = 300 # each word in word2vec model is represented using a 300 dimensional vector\n",
        "VOCABULARY_SIZE = len(word_tokenizer.word_index) + 1\n",
        "\n",
        "# create an empty embedding matrix\n",
        "\n",
        "embedding_weights = np.zeros((VOCABULARY_SIZE , EMBEDDING_SIZE))\n",
        "\n",
        "# create a word to index dictionnary mapping\n",
        "\n",
        "word2id = word_tokenizer.word_index\n",
        "\n",
        "# copy vectors from word2vec model to the words in the corpus\n",
        "\n",
        "for word , index in word2id.items():\n",
        "  if word in Word2Vec.key_to_index:\n",
        "    try:\n",
        "      embedding_weights[index, :] = Word2Vec[word]\n",
        "    except KeyError:\n",
        "      pass\n",
        "\n",
        "\n",
        "\n",
        "\n"
      ]
    },
    {
      "cell_type": "code",
      "execution_count": null,
      "metadata": {
        "colab": {
          "base_uri": "https://localhost:8080/"
        },
        "id": "_5bHrUqruYoh",
        "outputId": "54d0a24a-cbfd-475b-a96c-3984f2e20088"
      },
      "outputs": [
        {
          "name": "stdout",
          "output_type": "stream",
          "text": [
            "Embedding shape : (73105, 300) \n"
          ]
        }
      ],
      "source": [
        "# check embedding dimension\n",
        "print(f\"Embedding shape : {embedding_weights.shape} \")"
      ]
    },
    {
      "cell_type": "code",
      "execution_count": null,
      "metadata": {
        "colab": {
          "base_uri": "https://localhost:8080/"
        },
        "id": "PmjUeu1Ru5yM",
        "outputId": "fd135f7e-3d3b-47dd-e041-03908a3c208a"
      },
      "outputs": [
        {
          "data": {
            "text/plain": [
              "array([ 0.4453125 , -0.20019531,  0.20019531, -0.03149414,  0.078125  ,\n",
              "       -0.390625  ,  0.13671875, -0.13867188,  0.05395508,  0.10546875,\n",
              "       -0.05029297, -0.23730469,  0.19921875,  0.12597656, -0.12695312,\n",
              "        0.34179688,  0.06347656,  0.26757812, -0.07324219, -0.29101562,\n",
              "        0.10498047,  0.11914062,  0.23730469,  0.00640869,  0.12451172,\n",
              "       -0.00939941, -0.02770996,  0.03076172,  0.07421875, -0.22851562,\n",
              "       -0.08056641, -0.05273438,  0.16894531,  0.19824219, -0.15625   ,\n",
              "       -0.08740234,  0.10742188, -0.07177734,  0.05200195,  0.25976562,\n",
              "        0.171875  , -0.13574219,  0.06738281,  0.00531006,  0.15527344,\n",
              "       -0.03515625,  0.08789062,  0.3359375 , -0.12890625,  0.17578125,\n",
              "       -0.08642578,  0.32421875, -0.09033203,  0.35351562,  0.24316406,\n",
              "       -0.07470703, -0.06640625, -0.17578125,  0.06689453, -0.03833008,\n",
              "        0.0100708 , -0.21484375, -0.03686523,  0.04394531,  0.02209473,\n",
              "        0.00219727, -0.22460938,  0.03015137, -0.21582031,  0.16015625,\n",
              "        0.23339844, -0.16699219, -0.09228516,  0.10644531,  0.19335938,\n",
              "       -0.26757812,  0.15722656, -0.08691406,  0.11181641,  0.14941406,\n",
              "       -0.20507812,  0.04882812, -0.07519531, -0.21582031, -0.10107422,\n",
              "       -0.13378906, -0.06103516,  0.05444336,  0.07470703,  0.09521484,\n",
              "       -0.0144043 ,  0.27929688, -0.25585938, -0.05273438, -0.22460938,\n",
              "        0.10253906, -0.15136719,  0.21289062, -0.04711914, -0.12109375,\n",
              "        0.04663086,  0.25976562,  0.13574219,  0.00799561,  0.02001953,\n",
              "        0.1796875 ,  0.30664062,  0.06152344,  0.13574219, -0.09619141,\n",
              "       -0.07421875,  0.38671875,  0.20800781,  0.12695312,  0.05200195,\n",
              "        0.17675781, -0.16796875, -0.19335938, -0.06152344, -0.07568359,\n",
              "       -0.18457031,  0.06030273, -0.15136719, -0.1953125 , -0.23339844,\n",
              "        0.00738525, -0.02478027, -0.09765625, -0.06054688,  0.20214844,\n",
              "       -0.2734375 ,  0.00595093, -0.34570312, -0.12988281,  0.00418091,\n",
              "        0.09960938,  0.0246582 ,  0.15917969, -0.02038574,  0.30273438,\n",
              "       -0.20800781, -0.20214844, -0.03930664, -0.06494141,  0.00436401,\n",
              "       -0.02270508, -0.171875  ,  0.30273438, -0.16113281, -0.49414062,\n",
              "        0.3515625 ,  0.39257812,  0.09814453,  0.41796875,  0.05371094,\n",
              "        0.02392578, -0.03710938, -0.08251953, -0.38671875, -0.40625   ,\n",
              "       -0.05664062,  0.203125  , -0.01782227,  0.3359375 ,  0.19140625,\n",
              "       -0.44335938,  0.00927734,  0.24804688, -0.05102539,  0.19726562,\n",
              "        0.03881836,  0.03442383, -0.40039062, -0.09912109, -0.07128906,\n",
              "        0.21484375, -0.01422119,  0.04907227, -0.07421875, -0.21582031,\n",
              "       -0.41992188,  0.02172852,  0.11083984, -0.33398438, -0.2734375 ,\n",
              "       -0.05322266, -0.16601562, -0.28515625, -0.12207031,  0.04882812,\n",
              "       -0.0625    , -0.04077148, -0.16503906,  0.0480957 , -0.21191406,\n",
              "        0.20019531, -0.2109375 ,  0.10839844, -0.14648438, -0.07958984,\n",
              "       -0.05151367, -0.16601562, -0.24902344, -0.375     ,  0.05664062,\n",
              "       -0.13671875, -0.2578125 ,  0.28515625, -0.04736328,  0.13574219,\n",
              "       -0.14550781,  0.19433594, -0.21972656,  0.08447266, -0.10791016,\n",
              "       -0.11816406, -0.16015625,  0.12060547, -0.10888672,  0.04345703,\n",
              "        0.11474609, -0.08447266, -0.00720215,  0.03662109, -0.38671875,\n",
              "       -0.03881836, -0.03198242,  0.00344849,  0.22558594, -0.06787109,\n",
              "       -0.16699219,  0.2421875 ,  0.05712891,  0.27539062, -0.0456543 ,\n",
              "       -0.19042969, -0.17285156,  0.00836182, -0.03271484,  0.16992188,\n",
              "       -0.18554688, -0.0703125 , -0.32617188, -0.00668335, -0.02770996,\n",
              "        0.3359375 ,  0.125     , -0.2109375 ,  0.06005859, -0.07080078,\n",
              "        0.11132812,  0.125     ,  0.25390625,  0.29296875, -0.03125   ,\n",
              "        0.09033203, -0.20507812, -0.07861328,  0.02062988, -0.0546875 ,\n",
              "       -0.23339844,  0.00096893, -0.04516602,  0.16894531, -0.22167969,\n",
              "        0.08105469,  0.33398438,  0.09619141,  0.00866699, -0.03271484,\n",
              "        0.05493164,  0.12109375,  0.16210938, -0.10302734,  0.27148438,\n",
              "       -0.03344727, -0.30273438,  0.04223633,  0.08496094, -0.15527344,\n",
              "        0.10107422, -0.11474609, -0.13085938,  0.22949219,  0.12988281,\n",
              "        0.09863281, -0.03588867,  0.10693359, -0.24902344,  0.19238281,\n",
              "       -0.05322266, -0.09033203, -0.31640625, -0.5703125 , -0.15917969,\n",
              "        0.0291748 , -0.0246582 , -0.07714844, -0.04663086, -0.17578125])"
            ]
          },
          "execution_count": 32,
          "metadata": {},
          "output_type": "execute_result"
        }
      ],
      "source": [
        "# let's look at an embedding of a word\n",
        "\n",
        "embedding_weights[word_tokenizer.word_index['joy']]\n",
        "\n"
      ]
    },
    {
      "cell_type": "markdown",
      "metadata": {
        "id": "_vaVZzSPv79J"
      },
      "source": [
        "### Use one-hot encoding for output sequences (Y)"
      ]
    },
    {
      "cell_type": "code",
      "execution_count": null,
      "metadata": {
        "id": "x5r7hJebwFVL"
      },
      "outputs": [],
      "source": [
        "# use Keras to categorical function to one-hot encode Y\n",
        "Y = to_categorical(Y)"
      ]
    },
    {
      "cell_type": "code",
      "execution_count": null,
      "metadata": {
        "colab": {
          "base_uri": "https://localhost:8080/"
        },
        "id": "W-6qs69bwGB-",
        "outputId": "f9bc90dc-1951-4919-d8b8-fe0afcbaba5e"
      },
      "outputs": [
        {
          "data": {
            "text/plain": [
              "(106736, 100, 13)"
            ]
          },
          "execution_count": 34,
          "metadata": {},
          "output_type": "execute_result"
        }
      ],
      "source": [
        "# print Keras' to_categorical function to one-hot encode Y\n",
        "Y.shape"
      ]
    },
    {
      "cell_type": "code",
      "execution_count": null,
      "metadata": {
        "colab": {
          "base_uri": "https://localhost:8080/"
        },
        "id": "8K2UziI2a1b0",
        "outputId": "024b5472-0f00-437d-b2fc-5e5086223b1a"
      },
      "outputs": [
        {
          "data": {
            "text/plain": [
              "(106736, 100)"
            ]
          },
          "execution_count": 35,
          "metadata": {},
          "output_type": "execute_result"
        }
      ],
      "source": [
        "X.shape"
      ]
    },
    {
      "cell_type": "markdown",
      "metadata": {
        "id": "beRxQ_cQXSTp"
      },
      "source": [
        "## Split data in training , validation , testing sets"
      ]
    },
    {
      "cell_type": "code",
      "execution_count": null,
      "metadata": {
        "id": "yVFXArgRXJiL"
      },
      "outputs": [],
      "source": [
        "# split entire data into training and testing sets\n",
        "TEST_SIZE = 0.15\n",
        "X_train , X_test , Y_train , Y_test = train_test_split(X , Y , test_size=TEST_SIZE , random_state=42)"
      ]
    },
    {
      "cell_type": "code",
      "execution_count": null,
      "metadata": {
        "id": "nBptpXSQwGHn"
      },
      "outputs": [],
      "source": [
        "# Split training data into training and validation sets\n",
        "VALIDATION_SIZE = 0.15\n",
        "X_train , X_val , Y_train , Y_val = train_test_split(X_train , Y_train , test_size=VALIDATION_SIZE , random_state=42)\n"
      ]
    },
    {
      "cell_type": "code",
      "execution_count": null,
      "metadata": {
        "colab": {
          "base_uri": "https://localhost:8080/"
        },
        "id": "5Oewk3k1wGKA",
        "outputId": "105ea98b-f4c4-4892-86d2-ab8991178912"
      },
      "outputs": [
        {
          "name": "stdout",
          "output_type": "stream",
          "text": [
            "Training Data : \n",
            "Shape of input Sequence : (77116, 100)\n",
            "Shape of output Sequence : (77116, 100, 13)\n",
            "__________________________________________________\n",
            "Validation Data : \n",
            "Shape of input Sequence : (13609, 100)\n",
            "Shape of output Sequence : (13609, 100, 13)\n",
            "__________________________________________________\n",
            "Testing Data : \n",
            "Shape of input Sequence : (16011, 100)\n",
            "Shape of output Sequence : (16011, 100, 13)\n",
            "__________________________________________________\n"
          ]
        }
      ],
      "source": [
        "# print number of samples in each sets\n",
        "print(\"Training Data : \")\n",
        "print(f\"Shape of input Sequence : {X_train.shape}\")\n",
        "print(f\"Shape of output Sequence : {Y_train.shape}\")\n",
        "print(\"_\"*50)\n",
        "print(\"Validation Data : \")\n",
        "print(f\"Shape of input Sequence : {X_val.shape}\")\n",
        "print(f\"Shape of output Sequence : {Y_val.shape}\")\n",
        "print(\"_\"*50)\n",
        "print(\"Testing Data : \")\n",
        "print(f\"Shape of input Sequence : {X_test.shape}\")\n",
        "print(f\"Shape of output Sequence : {Y_test.shape}\")\n",
        "print(\"_\"*50)\n"
      ]
    },
    {
      "cell_type": "markdown",
      "metadata": {
        "id": "TmLlhCjVYktX"
      },
      "source": [
        "### Before using RNN , we must make sure the dimensions of the data are what the RNN expects , in general , an RNN expects the following shape\n",
        "#### Shape of X : (#samples , #timesteps , #features)\n",
        "#### Shape of Y : (#samples , #timesteps , #features)\n",
        "\n",
        "Our input data X currently has the shape (106736, 100), representing 106,736 samples, each with a sequence length of 100. RNNs can accept various input shapes depending on the specific architecture. Since we're dealing with a many-to-many problem where both input and output sequences have the same length (timesteps), the input shape is suitable.\n",
        "\n",
        "Notice that X only has two dimensions. The missing third dimension, representing the number of features, will be automatically handled by the Embedding layer in Keras. This layer transforms the input data into the expected format of (#samples, #timesteps, #features), where #features corresponds to the embedding dimension. Therefore, there's no need to explicitly reshape the data beforehand when using an Embedding layer as the first layer in our RNN.\n",
        "\n",
        "However, if you were to use an RNN without an Embedding layer, you would need to reshape the input data to include the feature dimension explicitly, resulting in the shape (#samples, #timesteps, #features) embedding layer always the first layer of RNN ) while using the embedding layer we only need to reshape the data to (#samples , #timesteps,#features) which what have done . however note you will need to shape it (#samples , #timesteps, #features ) in case you don't use the Embedding() layer in keras ."
      ]
    },
    {
      "cell_type": "markdown",
      "metadata": {
        "id": "6nNHeEQOdmBg"
      },
      "source": [
        "## vanilla RNN"
      ]
    },
    {
      "cell_type": "markdown",
      "metadata": {
        "id": "Rsq74wsWfUdk"
      },
      "source": [
        "When building our RNN model , we are going to use word embedding to represent the word , now when training the model , you can also train the word embedding as well along the network weights . these are often called embedding weights .\n",
        "while training the embedding weights will be treated as normal weighs of the network which will be updated at every iteration so we will experiment three situation :            \n",
        "\n",
        "Three Scenarios for Training Word Embeddings\n",
        "You're exploring different approaches to using word embeddings in your RNN model, focusing on whether the embedding weights are trainable or not. This is an important consideration as it can impact the performance and adaptability of your model. Here's a breakdown of the three scenarios:\n",
        "\n",
        "###1. RNN + Arbitrarily Initialized Untrainable Embedding\n",
        "\n",
        "Embedding Initialization:\n",
        "\n",
        "In this case, initialize the embedding weights randomly or using some predefined scheme.\n",
        "\n",
        "Trainability: The key here is that these embedding weights are set to be untrainable. This means that during the training process, the weights of the embedding layer will remain fixed. They won't be updated based on the training data.\n",
        "\n",
        "Advantages: This approach can be useful when you have limited training data or want to prevent the embeddings from overfitting to your specific dataset. It also reduces the number of parameters to train, potentially speeding up the training process.\n",
        "\n",
        "Disadvantages: The embeddings might not be optimal for your specific task, as they are not adapted to the nuances of your data. This could lead to lower performance compared to trainable embeddings.\n",
        "\n",
        "\n",
        "###2. RNN + Arbitrarily Initialized Trainable Embedding\n",
        "Embedding Initialization:\n",
        "\n",
        "Similar to the previous scenario, the embedding weights are initialized randomly or with a predefined scheme.\n",
        "\n",
        "\n",
        "Trainability: However, in this case, the embedding weights are set to be trainable. This means they will be updated during the training process alongside the other weights of your RNN model.\n",
        "\n",
        "\n",
        "Advantages: This approach allows the embeddings to adapt to your specific dataset, potentially leading to better performance. It provides more flexibility for the model to learn relevant representations of words within the context of your task.\n",
        "\n",
        "\n",
        "Disadvantages: This increases the number of parameters to train, which can make the training process more computationally expensive and potentially increase the risk of overfitting.\n",
        "\n",
        "\n",
        "###3. RNN + Trainable Word2Vec Embedding\n",
        "Embedding Initialization:\n",
        "\n",
        "Instead of random initialization, you'll use pre-trained Word2Vec embeddings as the initial values for your embedding layer. This provides a starting point with embeddings that have already captured semantic relationships from a large corpus of text.\n",
        "\n",
        "\n",
        "Trainability: You'll make these Word2Vec embeddings trainable during the training of your RNN.\n",
        "\n",
        "\n",
        "Advantages: This approach combines the benefits of pre-trained embeddings with the adaptability of trainable weights. You start with a strong foundation of semantic knowledge from Word2Vec and then fine-tune the embeddings to your specific task and dataset. This can lead to faster convergence during training and potentially improved performance.\n",
        "\n",
        "\n",
        "Disadvantages: As with other trainable embeddings, there's a risk of overfitting if you have a limited dataset."
      ]
    },
    {
      "cell_type": "markdown",
      "metadata": {
        "id": "MN0koipchShb"
      },
      "source": [
        "# 1 Arbitrarily Initialized Untrainable Embedding\n",
        "\n",
        "First let's try running a vanilla RNN , for this RNN we won't use the pre-trained word embeddings . we will use randomly initialised embeddings . moreover , we won't update the embeddings weights ."
      ]
    },
    {
      "cell_type": "code",
      "execution_count": null,
      "metadata": {
        "id": "6TCV-9tRdE3d"
      },
      "outputs": [],
      "source": [
        "# total number of tags\n",
        "NUM_CLASSES = Y.shape[2]\n"
      ]
    },
    {
      "cell_type": "code",
      "execution_count": null,
      "metadata": {
        "colab": {
          "base_uri": "https://localhost:8080/"
        },
        "id": "zBVOTC_YpbWA",
        "outputId": "0b3dcb01-f414-4dd5-d077-409cfbd42685"
      },
      "outputs": [
        {
          "data": {
            "text/plain": [
              "13"
            ]
          },
          "execution_count": 40,
          "metadata": {},
          "output_type": "execute_result"
        }
      ],
      "source": [
        "NUM_CLASSES"
      ]
    },
    {
      "cell_type": "code",
      "execution_count": null,
      "metadata": {
        "colab": {
          "base_uri": "https://localhost:8080/"
        },
        "id": "RQPV4upm2Bkr",
        "outputId": "83d46544-0f9e-4d9c-d3cf-f37b809a61d9"
      },
      "outputs": [
        {
          "data": {
            "text/plain": [
              "100"
            ]
          },
          "execution_count": 41,
          "metadata": {},
          "output_type": "execute_result"
        }
      ],
      "source": [
        "MAX_SEQ_LENGTH"
      ]
    },
    {
      "cell_type": "code",
      "execution_count": null,
      "metadata": {
        "colab": {
          "base_uri": "https://localhost:8080/"
        },
        "id": "FCMOgVO9pbcg",
        "outputId": "54b42f8f-2890-4999-e0d2-fd42e2c259a8"
      },
      "outputs": [
        {
          "name": "stderr",
          "output_type": "stream",
          "text": [
            "/usr/local/lib/python3.10/dist-packages/keras/src/layers/core/embedding.py:90: UserWarning: Argument `input_length` is deprecated. Just remove it.\n",
            "  warnings.warn(\n"
          ]
        }
      ],
      "source": [
        "from tensorflow.keras.models import Sequential\n",
        "from tensorflow.keras.layers import Embedding, SimpleRNN, Dense, TimeDistributed\n",
        "\n",
        "# create architecture\n",
        "from tensorflow.keras import backend as K\n",
        "K.clear_session()\n",
        "\n",
        "rnn_model = Sequential()\n",
        "\n",
        "# create embedding Layer - usually the first layer in text problems\n",
        "\n",
        "rnn_model.add(Embedding(input_dim = VOCABULARY_SIZE, # vocabulary size - number of unique words in data\n",
        "                       output_dim = EMBEDDING_SIZE,# length of vector with which each word is represented\n",
        "                       input_length = MAX_SEQ_LENGTH,#length of input sequence\n",
        "                       trainable = False # False - don't update the embeddings weights\n",
        "\n",
        "))\n",
        "\n",
        "# add an RNN layer which  contains 64 RNN cells\n",
        "\n",
        "rnn_model.add(SimpleRNN(64,\n",
        "                        return_sequences=True # True : return whole sequence ; False : only return the songle output\n",
        "))\n",
        "\n",
        "# add time distributed (output at each sequence ) layer\n",
        "# The TimeDistributed layer is used to apply a Dense layer to each time step of the RNN's output,\n",
        "#  allowing you to get predictions for each word in the sequence.\n",
        "\n",
        "rnn_model.add(TimeDistributed(Dense(NUM_CLASSES , activation='softmax')))\n"
      ]
    },
    {
      "cell_type": "markdown",
      "metadata": {
        "id": "HhhKc-8Vu35w"
      },
      "source": [
        "### compile model"
      ]
    },
    {
      "cell_type": "code",
      "execution_count": null,
      "metadata": {
        "id": "pFiNstrqpbhH"
      },
      "outputs": [],
      "source": [
        "rnn_model.compile(loss ='categorical_crossentropy' , optimizer = 'adam' , metrics = ['acc'])\n",
        "\n",
        "\n",
        "# Build the computational graph it's essential to :\n",
        "#Model Summary: Calling build() is necessary to generate the model summary (rnn_model.summary()),\n",
        "#which provides a detailed overview of the model's structure and parameters.\n",
        "#Weight Initialization: Before training, the model's weights need to be initialized.\n",
        "#build() ensures this initialization happens correctly based on the specified input shape.\n",
        "#Graph Completion: The computational graph is a representation of the model's operations.\n",
        "#Building it with build() makes the model ready for training and prediction.\n",
        "\n",
        "\n",
        "rnn_model.build(input_shape=(None, 100))\n",
        "\n"
      ]
    },
    {
      "cell_type": "code",
      "execution_count": null,
      "metadata": {
        "colab": {
          "base_uri": "https://localhost:8080/",
          "height": 225
        },
        "id": "WC6Ns_JDpbjv",
        "outputId": "1ac0a06d-fc19-4e88-c97f-2f6276ca2fb4"
      },
      "outputs": [
        {
          "data": {
            "text/html": [
              "<pre style=\"white-space:pre;overflow-x:auto;line-height:normal;font-family:Menlo,'DejaVu Sans Mono',consolas,'Courier New',monospace\"><span style=\"font-weight: bold\">Model: \"sequential\"</span>\n",
              "</pre>\n"
            ],
            "text/plain": [
              "\u001b[1mModel: \"sequential\"\u001b[0m\n"
            ]
          },
          "metadata": {},
          "output_type": "display_data"
        },
        {
          "data": {
            "text/html": [
              "<pre style=\"white-space:pre;overflow-x:auto;line-height:normal;font-family:Menlo,'DejaVu Sans Mono',consolas,'Courier New',monospace\">┏━━━━━━━━━━━━━━━━━━━━━━━━━━━━━━━━━━━━━━┳━━━━━━━━━━━━━━━━━━━━━━━━━━━━━┳━━━━━━━━━━━━━━━━━┓\n",
              "┃<span style=\"font-weight: bold\"> Layer (type)                         </span>┃<span style=\"font-weight: bold\"> Output Shape                </span>┃<span style=\"font-weight: bold\">         Param # </span>┃\n",
              "┡━━━━━━━━━━━━━━━━━━━━━━━━━━━━━━━━━━━━━━╇━━━━━━━━━━━━━━━━━━━━━━━━━━━━━╇━━━━━━━━━━━━━━━━━┩\n",
              "│ embedding (<span style=\"color: #0087ff; text-decoration-color: #0087ff\">Embedding</span>)                │ (<span style=\"color: #00d7ff; text-decoration-color: #00d7ff\">None</span>, <span style=\"color: #00af00; text-decoration-color: #00af00\">100</span>, <span style=\"color: #00af00; text-decoration-color: #00af00\">300</span>)            │      <span style=\"color: #00af00; text-decoration-color: #00af00\">21,931,500</span> │\n",
              "├──────────────────────────────────────┼─────────────────────────────┼─────────────────┤\n",
              "│ simple_rnn (<span style=\"color: #0087ff; text-decoration-color: #0087ff\">SimpleRNN</span>)               │ (<span style=\"color: #00d7ff; text-decoration-color: #00d7ff\">None</span>, <span style=\"color: #00af00; text-decoration-color: #00af00\">100</span>, <span style=\"color: #00af00; text-decoration-color: #00af00\">64</span>)             │          <span style=\"color: #00af00; text-decoration-color: #00af00\">23,360</span> │\n",
              "├──────────────────────────────────────┼─────────────────────────────┼─────────────────┤\n",
              "│ time_distributed (<span style=\"color: #0087ff; text-decoration-color: #0087ff\">TimeDistributed</span>)   │ (<span style=\"color: #00d7ff; text-decoration-color: #00d7ff\">None</span>, <span style=\"color: #00af00; text-decoration-color: #00af00\">100</span>, <span style=\"color: #00af00; text-decoration-color: #00af00\">13</span>)             │             <span style=\"color: #00af00; text-decoration-color: #00af00\">845</span> │\n",
              "└──────────────────────────────────────┴─────────────────────────────┴─────────────────┘\n",
              "</pre>\n"
            ],
            "text/plain": [
              "┏━━━━━━━━━━━━━━━━━━━━━━━━━━━━━━━━━━━━━━┳━━━━━━━━━━━━━━━━━━━━━━━━━━━━━┳━━━━━━━━━━━━━━━━━┓\n",
              "┃\u001b[1m \u001b[0m\u001b[1mLayer (type)                        \u001b[0m\u001b[1m \u001b[0m┃\u001b[1m \u001b[0m\u001b[1mOutput Shape               \u001b[0m\u001b[1m \u001b[0m┃\u001b[1m \u001b[0m\u001b[1m        Param #\u001b[0m\u001b[1m \u001b[0m┃\n",
              "┡━━━━━━━━━━━━━━━━━━━━━━━━━━━━━━━━━━━━━━╇━━━━━━━━━━━━━━━━━━━━━━━━━━━━━╇━━━━━━━━━━━━━━━━━┩\n",
              "│ embedding (\u001b[38;5;33mEmbedding\u001b[0m)                │ (\u001b[38;5;45mNone\u001b[0m, \u001b[38;5;34m100\u001b[0m, \u001b[38;5;34m300\u001b[0m)            │      \u001b[38;5;34m21,931,500\u001b[0m │\n",
              "├──────────────────────────────────────┼─────────────────────────────┼─────────────────┤\n",
              "│ simple_rnn (\u001b[38;5;33mSimpleRNN\u001b[0m)               │ (\u001b[38;5;45mNone\u001b[0m, \u001b[38;5;34m100\u001b[0m, \u001b[38;5;34m64\u001b[0m)             │          \u001b[38;5;34m23,360\u001b[0m │\n",
              "├──────────────────────────────────────┼─────────────────────────────┼─────────────────┤\n",
              "│ time_distributed (\u001b[38;5;33mTimeDistributed\u001b[0m)   │ (\u001b[38;5;45mNone\u001b[0m, \u001b[38;5;34m100\u001b[0m, \u001b[38;5;34m13\u001b[0m)             │             \u001b[38;5;34m845\u001b[0m │\n",
              "└──────────────────────────────────────┴─────────────────────────────┴─────────────────┘\n"
            ]
          },
          "metadata": {},
          "output_type": "display_data"
        },
        {
          "data": {
            "text/html": [
              "<pre style=\"white-space:pre;overflow-x:auto;line-height:normal;font-family:Menlo,'DejaVu Sans Mono',consolas,'Courier New',monospace\"><span style=\"font-weight: bold\"> Total params: </span><span style=\"color: #00af00; text-decoration-color: #00af00\">21,955,705</span> (83.75 MB)\n",
              "</pre>\n"
            ],
            "text/plain": [
              "\u001b[1m Total params: \u001b[0m\u001b[38;5;34m21,955,705\u001b[0m (83.75 MB)\n"
            ]
          },
          "metadata": {},
          "output_type": "display_data"
        },
        {
          "data": {
            "text/html": [
              "<pre style=\"white-space:pre;overflow-x:auto;line-height:normal;font-family:Menlo,'DejaVu Sans Mono',consolas,'Courier New',monospace\"><span style=\"font-weight: bold\"> Trainable params: </span><span style=\"color: #00af00; text-decoration-color: #00af00\">24,205</span> (94.55 KB)\n",
              "</pre>\n"
            ],
            "text/plain": [
              "\u001b[1m Trainable params: \u001b[0m\u001b[38;5;34m24,205\u001b[0m (94.55 KB)\n"
            ]
          },
          "metadata": {},
          "output_type": "display_data"
        },
        {
          "data": {
            "text/html": [
              "<pre style=\"white-space:pre;overflow-x:auto;line-height:normal;font-family:Menlo,'DejaVu Sans Mono',consolas,'Courier New',monospace\"><span style=\"font-weight: bold\"> Non-trainable params: </span><span style=\"color: #00af00; text-decoration-color: #00af00\">21,931,500</span> (83.66 MB)\n",
              "</pre>\n"
            ],
            "text/plain": [
              "\u001b[1m Non-trainable params: \u001b[0m\u001b[38;5;34m21,931,500\u001b[0m (83.66 MB)\n"
            ]
          },
          "metadata": {},
          "output_type": "display_data"
        }
      ],
      "source": [
        "# check the summary of the model\n",
        "rnn_model.summary()\n"
      ]
    },
    {
      "cell_type": "markdown",
      "metadata": {
        "id": "olE6wN7E-SUQ"
      },
      "source": [
        "## Fit Model"
      ]
    },
    {
      "cell_type": "markdown",
      "metadata": {
        "id": "LjhhNVF2-3iM"
      },
      "source": [
        "rnn_training =: This part assigns the result of the training process to the variable rnn_training. This result typically contains information about the model's performance during training, such as loss and accuracy over each epoch.\n",
        "\n",
        "rnn_model.fit(): fit() is a function that is central to training machine learning models in Keras (a deep learning library). It's the method you call to start the learning process.\n",
        "\n",
        "X_train: This is the training data containing the input sequences (encoded and padded sentences) that the model will learn from.\n",
        "\n",
        "Y_train: This is the training data containing the corresponding target values or labels (one-hot encoded POS tags) for each input sequence in X_train. The model learns to predict these target values.\n",
        "\n",
        "batch_size=128: This argument controls how many samples (sentences, in this case) are processed before the model's internal parameters are updated. A batch size of 128 means the model will see 128 sentences before making adjustments to its weights.\n",
        "\n",
        "epochs=10: This argument specifies the number of times the entire training dataset (X_train and Y_train) will be passed through the model during training. Each complete pass through the dataset is called an epoch.\n",
        "\n",
        "validation_data=(X_val , Y_val): This argument provides a separate set of data (X_val and Y_val), called the validation set, that the model is evaluated on after each epoch. This helps you monitor how well the model is generalizing to unseen data and prevents overfitting (where the model learns the training data too well but doesn't perform well on new data)."
      ]
    },
    {
      "cell_type": "code",
      "execution_count": null,
      "metadata": {
        "colab": {
          "base_uri": "https://localhost:8080/"
        },
        "id": "dGXgRDJ_woiq",
        "outputId": "8d96cb2a-0ed3-41e4-e627-896499977b39"
      },
      "outputs": [
        {
          "name": "stdout",
          "output_type": "stream",
          "text": [
            "Epoch 1/10\n",
            "\u001b[1m603/603\u001b[0m \u001b[32m━━━━━━━━━━━━━━━━━━━━\u001b[0m\u001b[37m\u001b[0m \u001b[1m164s\u001b[0m 256ms/step - acc: 0.8428 - loss: 0.6196 - val_acc: 0.9124 - val_loss: 0.2757\n",
            "Epoch 2/10\n",
            "\u001b[1m603/603\u001b[0m \u001b[32m━━━━━━━━━━━━━━━━━━━━\u001b[0m\u001b[37m\u001b[0m \u001b[1m163s\u001b[0m 191ms/step - acc: 0.9234 - loss: 0.2482 - val_acc: 0.9422 - val_loss: 0.1887\n",
            "Epoch 3/10\n",
            "\u001b[1m603/603\u001b[0m \u001b[32m━━━━━━━━━━━━━━━━━━━━\u001b[0m\u001b[37m\u001b[0m \u001b[1m125s\u001b[0m 208ms/step - acc: 0.9442 - loss: 0.1793 - val_acc: 0.9503 - val_loss: 0.1559\n",
            "Epoch 4/10\n",
            "\u001b[1m603/603\u001b[0m \u001b[32m━━━━━━━━━━━━━━━━━━━━\u001b[0m\u001b[37m\u001b[0m \u001b[1m149s\u001b[0m 219ms/step - acc: 0.9509 - loss: 0.1526 - val_acc: 0.9549 - val_loss: 0.1388\n",
            "Epoch 5/10\n",
            "\u001b[1m603/603\u001b[0m \u001b[32m━━━━━━━━━━━━━━━━━━━━\u001b[0m\u001b[37m\u001b[0m \u001b[1m142s\u001b[0m 218ms/step - acc: 0.9553 - loss: 0.1367 - val_acc: 0.9573 - val_loss: 0.1291\n",
            "Epoch 6/10\n",
            "\u001b[1m603/603\u001b[0m \u001b[32m━━━━━━━━━━━━━━━━━━━━\u001b[0m\u001b[37m\u001b[0m \u001b[1m124s\u001b[0m 189ms/step - acc: 0.9576 - loss: 0.1279 - val_acc: 0.9590 - val_loss: 0.1234\n",
            "Epoch 7/10\n",
            "\u001b[1m603/603\u001b[0m \u001b[32m━━━━━━━━━━━━━━━━━━━━\u001b[0m\u001b[37m\u001b[0m \u001b[1m123s\u001b[0m 203ms/step - acc: 0.9593 - loss: 0.1218 - val_acc: 0.9602 - val_loss: 0.1186\n",
            "Epoch 8/10\n",
            "\u001b[1m603/603\u001b[0m \u001b[32m━━━━━━━━━━━━━━━━━━━━\u001b[0m\u001b[37m\u001b[0m \u001b[1m138s\u001b[0m 197ms/step - acc: 0.9603 - loss: 0.1178 - val_acc: 0.9607 - val_loss: 0.1156\n",
            "Epoch 9/10\n",
            "\u001b[1m603/603\u001b[0m \u001b[32m━━━━━━━━━━━━━━━━━━━━\u001b[0m\u001b[37m\u001b[0m \u001b[1m135s\u001b[0m 186ms/step - acc: 0.9611 - loss: 0.1154 - val_acc: 0.9618 - val_loss: 0.1128\n",
            "Epoch 10/10\n",
            "\u001b[1m603/603\u001b[0m \u001b[32m━━━━━━━━━━━━━━━━━━━━\u001b[0m\u001b[37m\u001b[0m \u001b[1m142s\u001b[0m 186ms/step - acc: 0.9617 - loss: 0.1127 - val_acc: 0.9623 - val_loss: 0.1106\n"
          ]
        }
      ],
      "source": [
        "rnn_training = rnn_model.fit(X_train , Y_train , batch_size=128 , epochs=10 , validation_data=(X_val , Y_val))"
      ]
    },
    {
      "cell_type": "code",
      "execution_count": null,
      "metadata": {
        "colab": {
          "base_uri": "https://localhost:8080/",
          "height": 472
        },
        "id": "bXBR8JtP-k5A",
        "outputId": "8aa25604-750e-4a0f-fcce-3aba581052f4"
      },
      "outputs": [
        {
          "data": {
            "image/png": "[encoded data removed]",
            "text/plain": [
              "<Figure size 640x480 with 1 Axes>"
            ]
          },
          "metadata": {},
          "output_type": "display_data"
        }
      ],
      "source": [
        "# visualise training history\n",
        "#rnn_training.history['acc']: Represents the training accuracy recorded during each epoch of training.\n",
        "#It shows how well the model is performing on the training data as training progresses.\n",
        "#rnn_training.history['val_acc']: Represents the validation accuracy recorded during each epoch of training.\n",
        "#It indicates how well the model is generalizing to the unseen data in the validation set.\n",
        "plt.plot(rnn_training.history['acc'])\n",
        "plt.plot(rnn_training.history['val_acc'])\n",
        "plt.title('model accuracy')\n",
        "plt.ylabel('accuracy')\n",
        "plt.xlabel('epoch')\n",
        "plt.legend(['train' ,'text'],loc=\"lower right\")\n",
        "plt.show()\n"
      ]
    },
    {
      "cell_type": "markdown",
      "metadata": {
        "id": "6a52ID6yCzPS"
      },
      "source": [
        "# 2 . RNN + Arbitrarily (Randomly) Initialized Trainable Embedding\n",
        "\n",
        "---\n",
        "\n"
      ]
    },
    {
      "cell_type": "code",
      "execution_count": null,
      "metadata": {
        "colab": {
          "base_uri": "https://localhost:8080/"
        },
        "id": "lfSKDtLdDQfZ",
        "outputId": "aaea191f-60e2-41da-a0e6-0663a7308127"
      },
      "outputs": [
        {
          "name": "stderr",
          "output_type": "stream",
          "text": [
            "/usr/local/lib/python3.10/dist-packages/keras/src/layers/core/embedding.py:90: UserWarning: Argument `input_length` is deprecated. Just remove it.\n",
            "  warnings.warn(\n"
          ]
        }
      ],
      "source": [
        "from tensorflow.keras.models import Sequential\n",
        "from tensorflow.keras.layers import Embedding, SimpleRNN, Dense, TimeDistributed\n",
        "\n",
        "# create architecture\n",
        "from tensorflow.keras import backend as K\n",
        "K.clear_session()\n",
        "\n",
        "rnn_model = Sequential()\n",
        "\n",
        "# create embedding Layer - usually the first layer in text problems\n",
        "\n",
        "rnn_model.add(Embedding(input_dim = VOCABULARY_SIZE, # vocabulary size - number of unique words in data\n",
        "                       output_dim = EMBEDDING_SIZE,# length of vector with which each word is represented\n",
        "                       input_length = MAX_SEQ_LENGTH,#length of input sequence\n",
        "                       trainable = True # False - don't update the embeddings weights\n",
        "\n",
        "))\n",
        "\n",
        "# add an RNN layer which  contains 64 RNN cells\n",
        "\n",
        "rnn_model.add(SimpleRNN(64,\n",
        "                        return_sequences=True # True : return whole sequence ; False : only return the songle output\n",
        "))\n",
        "\n",
        "# add time distributed (output at each sequence ) layer\n",
        "# The TimeDistributed layer is used to apply a Dense layer to each time step of the RNN's output,\n",
        "#  allowing you to get predictions for each word in the sequence.\n",
        "\n",
        "rnn_model.add(TimeDistributed(Dense(NUM_CLASSES , activation='softmax')))\n"
      ]
    },
    {
      "cell_type": "markdown",
      "metadata": {
        "id": "2n618-bnDhMH"
      },
      "source": [
        "## compile the model"
      ]
    },
    {
      "cell_type": "code",
      "execution_count": null,
      "metadata": {
        "id": "XI7VJVbnDZfZ"
      },
      "outputs": [],
      "source": [
        "\n",
        "rnn_model.compile(loss ='categorical_crossentropy' , optimizer = 'adam' , metrics = ['acc'])\n",
        "rnn_model.build(input_shape=(None, 100))\n",
        "\n"
      ]
    },
    {
      "cell_type": "code",
      "execution_count": null,
      "metadata": {
        "colab": {
          "base_uri": "https://localhost:8080/",
          "height": 225
        },
        "id": "Wa606JVyD1BB",
        "outputId": "677abd7e-8af8-4d5a-b3f4-7ddfa53187dc"
      },
      "outputs": [
        {
          "data": {
            "text/html": [
              "<pre style=\"white-space:pre;overflow-x:auto;line-height:normal;font-family:Menlo,'DejaVu Sans Mono',consolas,'Courier New',monospace\"><span style=\"font-weight: bold\">Model: \"sequential\"</span>\n",
              "</pre>\n"
            ],
            "text/plain": [
              "\u001b[1mModel: \"sequential\"\u001b[0m\n"
            ]
          },
          "metadata": {},
          "output_type": "display_data"
        },
        {
          "data": {
            "text/html": [
              "<pre style=\"white-space:pre;overflow-x:auto;line-height:normal;font-family:Menlo,'DejaVu Sans Mono',consolas,'Courier New',monospace\">┏━━━━━━━━━━━━━━━━━━━━━━━━━━━━━━━━━━━━━━┳━━━━━━━━━━━━━━━━━━━━━━━━━━━━━┳━━━━━━━━━━━━━━━━━┓\n",
              "┃<span style=\"font-weight: bold\"> Layer (type)                         </span>┃<span style=\"font-weight: bold\"> Output Shape                </span>┃<span style=\"font-weight: bold\">         Param # </span>┃\n",
              "┡━━━━━━━━━━━━━━━━━━━━━━━━━━━━━━━━━━━━━━╇━━━━━━━━━━━━━━━━━━━━━━━━━━━━━╇━━━━━━━━━━━━━━━━━┩\n",
              "│ embedding (<span style=\"color: #0087ff; text-decoration-color: #0087ff\">Embedding</span>)                │ (<span style=\"color: #00d7ff; text-decoration-color: #00d7ff\">None</span>, <span style=\"color: #00af00; text-decoration-color: #00af00\">100</span>, <span style=\"color: #00af00; text-decoration-color: #00af00\">300</span>)            │      <span style=\"color: #00af00; text-decoration-color: #00af00\">21,931,500</span> │\n",
              "├──────────────────────────────────────┼─────────────────────────────┼─────────────────┤\n",
              "│ simple_rnn (<span style=\"color: #0087ff; text-decoration-color: #0087ff\">SimpleRNN</span>)               │ (<span style=\"color: #00d7ff; text-decoration-color: #00d7ff\">None</span>, <span style=\"color: #00af00; text-decoration-color: #00af00\">100</span>, <span style=\"color: #00af00; text-decoration-color: #00af00\">64</span>)             │          <span style=\"color: #00af00; text-decoration-color: #00af00\">23,360</span> │\n",
              "├──────────────────────────────────────┼─────────────────────────────┼─────────────────┤\n",
              "│ time_distributed (<span style=\"color: #0087ff; text-decoration-color: #0087ff\">TimeDistributed</span>)   │ (<span style=\"color: #00d7ff; text-decoration-color: #00d7ff\">None</span>, <span style=\"color: #00af00; text-decoration-color: #00af00\">100</span>, <span style=\"color: #00af00; text-decoration-color: #00af00\">13</span>)             │             <span style=\"color: #00af00; text-decoration-color: #00af00\">845</span> │\n",
              "└──────────────────────────────────────┴─────────────────────────────┴─────────────────┘\n",
              "</pre>\n"
            ],
            "text/plain": [
              "┏━━━━━━━━━━━━━━━━━━━━━━━━━━━━━━━━━━━━━━┳━━━━━━━━━━━━━━━━━━━━━━━━━━━━━┳━━━━━━━━━━━━━━━━━┓\n",
              "┃\u001b[1m \u001b[0m\u001b[1mLayer (type)                        \u001b[0m\u001b[1m \u001b[0m┃\u001b[1m \u001b[0m\u001b[1mOutput Shape               \u001b[0m\u001b[1m \u001b[0m┃\u001b[1m \u001b[0m\u001b[1m        Param #\u001b[0m\u001b[1m \u001b[0m┃\n",
              "┡━━━━━━━━━━━━━━━━━━━━━━━━━━━━━━━━━━━━━━╇━━━━━━━━━━━━━━━━━━━━━━━━━━━━━╇━━━━━━━━━━━━━━━━━┩\n",
              "│ embedding (\u001b[38;5;33mEmbedding\u001b[0m)                │ (\u001b[38;5;45mNone\u001b[0m, \u001b[38;5;34m100\u001b[0m, \u001b[38;5;34m300\u001b[0m)            │      \u001b[38;5;34m21,931,500\u001b[0m │\n",
              "├──────────────────────────────────────┼─────────────────────────────┼─────────────────┤\n",
              "│ simple_rnn (\u001b[38;5;33mSimpleRNN\u001b[0m)               │ (\u001b[38;5;45mNone\u001b[0m, \u001b[38;5;34m100\u001b[0m, \u001b[38;5;34m64\u001b[0m)             │          \u001b[38;5;34m23,360\u001b[0m │\n",
              "├──────────────────────────────────────┼─────────────────────────────┼─────────────────┤\n",
              "│ time_distributed (\u001b[38;5;33mTimeDistributed\u001b[0m)   │ (\u001b[38;5;45mNone\u001b[0m, \u001b[38;5;34m100\u001b[0m, \u001b[38;5;34m13\u001b[0m)             │             \u001b[38;5;34m845\u001b[0m │\n",
              "└──────────────────────────────────────┴─────────────────────────────┴─────────────────┘\n"
            ]
          },
          "metadata": {},
          "output_type": "display_data"
        },
        {
          "data": {
            "text/html": [
              "<pre style=\"white-space:pre;overflow-x:auto;line-height:normal;font-family:Menlo,'DejaVu Sans Mono',consolas,'Courier New',monospace\"><span style=\"font-weight: bold\"> Total params: </span><span style=\"color: #00af00; text-decoration-color: #00af00\">21,955,705</span> (83.75 MB)\n",
              "</pre>\n"
            ],
            "text/plain": [
              "\u001b[1m Total params: \u001b[0m\u001b[38;5;34m21,955,705\u001b[0m (83.75 MB)\n"
            ]
          },
          "metadata": {},
          "output_type": "display_data"
        },
        {
          "data": {
            "text/html": [
              "<pre style=\"white-space:pre;overflow-x:auto;line-height:normal;font-family:Menlo,'DejaVu Sans Mono',consolas,'Courier New',monospace\"><span style=\"font-weight: bold\"> Trainable params: </span><span style=\"color: #00af00; text-decoration-color: #00af00\">21,955,705</span> (83.75 MB)\n",
              "</pre>\n"
            ],
            "text/plain": [
              "\u001b[1m Trainable params: \u001b[0m\u001b[38;5;34m21,955,705\u001b[0m (83.75 MB)\n"
            ]
          },
          "metadata": {},
          "output_type": "display_data"
        },
        {
          "data": {
            "text/html": [
              "<pre style=\"white-space:pre;overflow-x:auto;line-height:normal;font-family:Menlo,'DejaVu Sans Mono',consolas,'Courier New',monospace\"><span style=\"font-weight: bold\"> Non-trainable params: </span><span style=\"color: #00af00; text-decoration-color: #00af00\">0</span> (0.00 B)\n",
              "</pre>\n"
            ],
            "text/plain": [
              "\u001b[1m Non-trainable params: \u001b[0m\u001b[38;5;34m0\u001b[0m (0.00 B)\n"
            ]
          },
          "metadata": {},
          "output_type": "display_data"
        }
      ],
      "source": [
        "# check the summary of the model\n",
        "rnn_model.summary()"
      ]
    },
    {
      "cell_type": "markdown",
      "metadata": {
        "id": "qeZoPXaiD2QR"
      },
      "source": [
        "## Fit the model\n"
      ]
    },
    {
      "cell_type": "code",
      "execution_count": null,
      "metadata": {
        "colab": {
          "base_uri": "https://localhost:8080/"
        },
        "id": "sbs9wAEkD7zl",
        "outputId": "e3970839-bf19-4f3c-a5fe-562dde99c3d7"
      },
      "outputs": [
        {
          "name": "stdout",
          "output_type": "stream",
          "text": [
            "Epoch 1/10\n",
            "\u001b[1m603/603\u001b[0m \u001b[32m━━━━━━━━━━━━━━━━━━━━\u001b[0m\u001b[37m\u001b[0m \u001b[1m349s\u001b[0m 566ms/step - acc: 0.9383 - loss: 0.2447 - val_acc: 0.9884 - val_loss: 0.0338\n",
            "Epoch 2/10\n",
            "\u001b[1m603/603\u001b[0m \u001b[32m━━━━━━━━━━━━━━━━━━━━\u001b[0m\u001b[37m\u001b[0m \u001b[1m385s\u001b[0m 571ms/step - acc: 0.9902 - loss: 0.0276 - val_acc: 0.9894 - val_loss: 0.0287\n",
            "Epoch 3/10\n",
            "\u001b[1m603/603\u001b[0m \u001b[32m━━━━━━━━━━━━━━━━━━━━\u001b[0m\u001b[37m\u001b[0m \u001b[1m402s\u001b[0m 604ms/step - acc: 0.9921 - loss: 0.0209 - val_acc: 0.9897 - val_loss: 0.0277\n",
            "Epoch 4/10\n",
            "\u001b[1m603/603\u001b[0m \u001b[32m━━━━━━━━━━━━━━━━━━━━\u001b[0m\u001b[37m\u001b[0m \u001b[1m364s\u001b[0m 574ms/step - acc: 0.9932 - loss: 0.0179 - val_acc: 0.9897 - val_loss: 0.0281\n",
            "Epoch 5/10\n",
            "\u001b[1m603/603\u001b[0m \u001b[32m━━━━━━━━━━━━━━━━━━━━\u001b[0m\u001b[37m\u001b[0m \u001b[1m393s\u001b[0m 593ms/step - acc: 0.9942 - loss: 0.0154 - val_acc: 0.9897 - val_loss: 0.0292\n",
            "Epoch 6/10\n",
            "\u001b[1m603/603\u001b[0m \u001b[32m━━━━━━━━━━━━━━━━━━━━\u001b[0m\u001b[37m\u001b[0m \u001b[1m354s\u001b[0m 587ms/step - acc: 0.9952 - loss: 0.0130 - val_acc: 0.9895 - val_loss: 0.0310\n",
            "Epoch 7/10\n",
            "\u001b[1m603/603\u001b[0m \u001b[32m━━━━━━━━━━━━━━━━━━━━\u001b[0m\u001b[37m\u001b[0m \u001b[1m347s\u001b[0m 529ms/step - acc: 0.9961 - loss: 0.0110 - val_acc: 0.9893 - val_loss: 0.0331\n",
            "Epoch 8/10\n",
            "\u001b[1m603/603\u001b[0m \u001b[32m━━━━━━━━━━━━━━━━━━━━\u001b[0m\u001b[37m\u001b[0m \u001b[1m318s\u001b[0m 522ms/step - acc: 0.9969 - loss: 0.0090 - val_acc: 0.9890 - val_loss: 0.0359\n",
            "Epoch 9/10\n",
            "\u001b[1m603/603\u001b[0m \u001b[32m━━━━━━━━━━━━━━━━━━━━\u001b[0m\u001b[37m\u001b[0m \u001b[1m323s\u001b[0m 524ms/step - acc: 0.9974 - loss: 0.0076 - val_acc: 0.9888 - val_loss: 0.0390\n",
            "Epoch 10/10\n",
            "\u001b[1m603/603\u001b[0m \u001b[32m━━━━━━━━━━━━━━━━━━━━\u001b[0m\u001b[37m\u001b[0m \u001b[1m322s\u001b[0m 525ms/step - acc: 0.9978 - loss: 0.0066 - val_acc: 0.9884 - val_loss: 0.0420\n"
          ]
        }
      ],
      "source": [
        "rnn_training = rnn_model.fit(X_train , Y_train , batch_size=128 , epochs=10 , validation_data=(X_val , Y_val))"
      ]
    },
    {
      "cell_type": "code",
      "execution_count": null,
      "metadata": {
        "colab": {
          "base_uri": "https://localhost:8080/",
          "height": 472
        },
        "id": "fJJU9XyTD8ep",
        "outputId": "325d6fcc-7ab5-4580-9457-d45f9bea10f8"
      },
      "outputs": [
        {
          "data": {
            "image/png": "[encoded data removed]",
            "text/plain": [
              "<Figure size 640x480 with 1 Axes>"
            ]
          },
          "metadata": {},
          "output_type": "display_data"
        }
      ],
      "source": [
        "# visualise the training process\n",
        "plt.plot(rnn_training.history['acc'])\n",
        "plt.plot(rnn_training.history['val_acc'])\n",
        "plt.title('model accuracy')\n",
        "plt.ylabel('accuracy')\n",
        "plt.xlabel('epoch')\n",
        "plt.legend(['train' ,'text'],loc=\"lower right\")\n",
        "plt.show()"
      ]
    },
    {
      "cell_type": "markdown",
      "metadata": {
        "id": "iW1tMWoeEqkl"
      },
      "source": [
        "# RNN + Trainable Word2Vec Embedding\n",
        "Using pre_trained embedding weights"
      ]
    },
    {
      "cell_type": "code",
      "execution_count": null,
      "metadata": {
        "colab": {
          "base_uri": "https://localhost:8080/"
        },
        "id": "RhxeC7tLExGh",
        "outputId": "93420c66-fe29-4509-e04e-24921389db46"
      },
      "outputs": [
        {
          "name": "stderr",
          "output_type": "stream",
          "text": [
            "/usr/local/lib/python3.10/dist-packages/keras/src/layers/core/embedding.py:90: UserWarning: Argument `input_length` is deprecated. Just remove it.\n",
            "  warnings.warn(\n"
          ]
        }
      ],
      "source": [
        "from tensorflow.keras.models import Sequential\n",
        "from tensorflow.keras.layers import Embedding, SimpleRNN, Dense, TimeDistributed\n",
        "\n",
        "# create architecture\n",
        "from tensorflow.keras import backend as K\n",
        "K.clear_session()\n",
        "\n",
        "rnn_model = Sequential()\n",
        "\n",
        "# create embedding Layer - usually the first layer in text problems\n",
        "\n",
        "rnn_model.add(Embedding(input_dim = VOCABULARY_SIZE, # vocabulary size - number of unique words in data\n",
        "                       output_dim = EMBEDDING_SIZE,# length of vector with which each word is represented\n",
        "                       input_length = MAX_SEQ_LENGTH,#length of input sequence\n",
        "                       trainable = True, # False - don't update the embeddings weights\n",
        "                       weights=[embedding_weights]\n",
        "\n",
        "\n",
        "))\n",
        "\n",
        "# add an RNN layer which  contains 64 RNN cells\n",
        "\n",
        "rnn_model.add(SimpleRNN(64,\n",
        "                        return_sequences=True # True : return whole sequence ; False : only return the songle output\n",
        "))\n",
        "\n",
        "# add time distributed (output at each sequence ) layer\n",
        "# The TimeDistributed layer is used to apply a Dense layer to each time step of the RNN's output,\n",
        "#  allowing you to get predictions for each word in the sequence.\n",
        "\n",
        "rnn_model.add(TimeDistributed(Dense(NUM_CLASSES , activation='softmax')))\n"
      ]
    },
    {
      "cell_type": "markdown",
      "metadata": {
        "id": "MqXZ5PdPHewt"
      },
      "source": [
        "## Compile model"
      ]
    },
    {
      "cell_type": "code",
      "execution_count": null,
      "metadata": {
        "id": "Ua9Gkx8sHd7R"
      },
      "outputs": [],
      "source": [
        "\n",
        "rnn_model.compile(loss ='categorical_crossentropy' , optimizer = 'adam' , metrics = ['acc'])\n",
        "rnn_model.build(input_shape=(None, 100))"
      ]
    },
    {
      "cell_type": "code",
      "execution_count": null,
      "metadata": {
        "colab": {
          "base_uri": "https://localhost:8080/",
          "height": 225
        },
        "id": "nobKkXY5Hobi",
        "outputId": "a5768861-1183-4213-970f-705aa1b29995"
      },
      "outputs": [
        {
          "data": {
            "text/html": [
              "<pre style=\"white-space:pre;overflow-x:auto;line-height:normal;font-family:Menlo,'DejaVu Sans Mono',consolas,'Courier New',monospace\"><span style=\"font-weight: bold\">Model: \"sequential\"</span>\n",
              "</pre>\n"
            ],
            "text/plain": [
              "\u001b[1mModel: \"sequential\"\u001b[0m\n"
            ]
          },
          "metadata": {},
          "output_type": "display_data"
        },
        {
          "data": {
            "text/html": [
              "<pre style=\"white-space:pre;overflow-x:auto;line-height:normal;font-family:Menlo,'DejaVu Sans Mono',consolas,'Courier New',monospace\">┏━━━━━━━━━━━━━━━━━━━━━━━━━━━━━━━━━━━━━━┳━━━━━━━━━━━━━━━━━━━━━━━━━━━━━┳━━━━━━━━━━━━━━━━━┓\n",
              "┃<span style=\"font-weight: bold\"> Layer (type)                         </span>┃<span style=\"font-weight: bold\"> Output Shape                </span>┃<span style=\"font-weight: bold\">         Param # </span>┃\n",
              "┡━━━━━━━━━━━━━━━━━━━━━━━━━━━━━━━━━━━━━━╇━━━━━━━━━━━━━━━━━━━━━━━━━━━━━╇━━━━━━━━━━━━━━━━━┩\n",
              "│ embedding (<span style=\"color: #0087ff; text-decoration-color: #0087ff\">Embedding</span>)                │ (<span style=\"color: #00d7ff; text-decoration-color: #00d7ff\">None</span>, <span style=\"color: #00af00; text-decoration-color: #00af00\">100</span>, <span style=\"color: #00af00; text-decoration-color: #00af00\">300</span>)            │      <span style=\"color: #00af00; text-decoration-color: #00af00\">21,931,500</span> │\n",
              "├──────────────────────────────────────┼─────────────────────────────┼─────────────────┤\n",
              "│ simple_rnn (<span style=\"color: #0087ff; text-decoration-color: #0087ff\">SimpleRNN</span>)               │ (<span style=\"color: #00d7ff; text-decoration-color: #00d7ff\">None</span>, <span style=\"color: #00af00; text-decoration-color: #00af00\">100</span>, <span style=\"color: #00af00; text-decoration-color: #00af00\">64</span>)             │          <span style=\"color: #00af00; text-decoration-color: #00af00\">23,360</span> │\n",
              "├──────────────────────────────────────┼─────────────────────────────┼─────────────────┤\n",
              "│ time_distributed (<span style=\"color: #0087ff; text-decoration-color: #0087ff\">TimeDistributed</span>)   │ (<span style=\"color: #00d7ff; text-decoration-color: #00d7ff\">None</span>, <span style=\"color: #00af00; text-decoration-color: #00af00\">100</span>, <span style=\"color: #00af00; text-decoration-color: #00af00\">13</span>)             │             <span style=\"color: #00af00; text-decoration-color: #00af00\">845</span> │\n",
              "└──────────────────────────────────────┴─────────────────────────────┴─────────────────┘\n",
              "</pre>\n"
            ],
            "text/plain": [
              "┏━━━━━━━━━━━━━━━━━━━━━━━━━━━━━━━━━━━━━━┳━━━━━━━━━━━━━━━━━━━━━━━━━━━━━┳━━━━━━━━━━━━━━━━━┓\n",
              "┃\u001b[1m \u001b[0m\u001b[1mLayer (type)                        \u001b[0m\u001b[1m \u001b[0m┃\u001b[1m \u001b[0m\u001b[1mOutput Shape               \u001b[0m\u001b[1m \u001b[0m┃\u001b[1m \u001b[0m\u001b[1m        Param #\u001b[0m\u001b[1m \u001b[0m┃\n",
              "┡━━━━━━━━━━━━━━━━━━━━━━━━━━━━━━━━━━━━━━╇━━━━━━━━━━━━━━━━━━━━━━━━━━━━━╇━━━━━━━━━━━━━━━━━┩\n",
              "│ embedding (\u001b[38;5;33mEmbedding\u001b[0m)                │ (\u001b[38;5;45mNone\u001b[0m, \u001b[38;5;34m100\u001b[0m, \u001b[38;5;34m300\u001b[0m)            │      \u001b[38;5;34m21,931,500\u001b[0m │\n",
              "├──────────────────────────────────────┼─────────────────────────────┼─────────────────┤\n",
              "│ simple_rnn (\u001b[38;5;33mSimpleRNN\u001b[0m)               │ (\u001b[38;5;45mNone\u001b[0m, \u001b[38;5;34m100\u001b[0m, \u001b[38;5;34m64\u001b[0m)             │          \u001b[38;5;34m23,360\u001b[0m │\n",
              "├──────────────────────────────────────┼─────────────────────────────┼─────────────────┤\n",
              "│ time_distributed (\u001b[38;5;33mTimeDistributed\u001b[0m)   │ (\u001b[38;5;45mNone\u001b[0m, \u001b[38;5;34m100\u001b[0m, \u001b[38;5;34m13\u001b[0m)             │             \u001b[38;5;34m845\u001b[0m │\n",
              "└──────────────────────────────────────┴─────────────────────────────┴─────────────────┘\n"
            ]
          },
          "metadata": {},
          "output_type": "display_data"
        },
        {
          "data": {
            "text/html": [
              "<pre style=\"white-space:pre;overflow-x:auto;line-height:normal;font-family:Menlo,'DejaVu Sans Mono',consolas,'Courier New',monospace\"><span style=\"font-weight: bold\"> Total params: </span><span style=\"color: #00af00; text-decoration-color: #00af00\">21,955,705</span> (83.75 MB)\n",
              "</pre>\n"
            ],
            "text/plain": [
              "\u001b[1m Total params: \u001b[0m\u001b[38;5;34m21,955,705\u001b[0m (83.75 MB)\n"
            ]
          },
          "metadata": {},
          "output_type": "display_data"
        },
        {
          "data": {
            "text/html": [
              "<pre style=\"white-space:pre;overflow-x:auto;line-height:normal;font-family:Menlo,'DejaVu Sans Mono',consolas,'Courier New',monospace\"><span style=\"font-weight: bold\"> Trainable params: </span><span style=\"color: #00af00; text-decoration-color: #00af00\">21,955,705</span> (83.75 MB)\n",
              "</pre>\n"
            ],
            "text/plain": [
              "\u001b[1m Trainable params: \u001b[0m\u001b[38;5;34m21,955,705\u001b[0m (83.75 MB)\n"
            ]
          },
          "metadata": {},
          "output_type": "display_data"
        },
        {
          "data": {
            "text/html": [
              "<pre style=\"white-space:pre;overflow-x:auto;line-height:normal;font-family:Menlo,'DejaVu Sans Mono',consolas,'Courier New',monospace\"><span style=\"font-weight: bold\"> Non-trainable params: </span><span style=\"color: #00af00; text-decoration-color: #00af00\">0</span> (0.00 B)\n",
              "</pre>\n"
            ],
            "text/plain": [
              "\u001b[1m Non-trainable params: \u001b[0m\u001b[38;5;34m0\u001b[0m (0.00 B)\n"
            ]
          },
          "metadata": {},
          "output_type": "display_data"
        }
      ],
      "source": [
        "# check the summary of the model\n",
        "rnn_model.summary()"
      ]
    },
    {
      "cell_type": "markdown",
      "metadata": {
        "id": "j5aGzO0PHsPC"
      },
      "source": [
        "## Fit the model"
      ]
    },
    {
      "cell_type": "code",
      "execution_count": null,
      "metadata": {
        "colab": {
          "base_uri": "https://localhost:8080/"
        },
        "id": "gEsjzl96HuH7",
        "outputId": "b8cf180a-74c7-4c78-f19a-31c23202c00a"
      },
      "outputs": [
        {
          "name": "stdout",
          "output_type": "stream",
          "text": [
            "Epoch 1/10\n",
            "\u001b[1m603/603\u001b[0m \u001b[32m━━━━━━━━━━━━━━━━━━━━\u001b[0m\u001b[37m\u001b[0m \u001b[1m320s\u001b[0m 518ms/step - acc: 0.9551 - loss: 0.2157 - val_acc: 0.9891 - val_loss: 0.0310\n",
            "Epoch 2/10\n",
            "\u001b[1m603/603\u001b[0m \u001b[32m━━━━━━━━━━━━━━━━━━━━\u001b[0m\u001b[37m\u001b[0m \u001b[1m312s\u001b[0m 518ms/step - acc: 0.9907 - loss: 0.0259 - val_acc: 0.9899 - val_loss: 0.0269\n",
            "Epoch 3/10\n",
            "\u001b[1m603/603\u001b[0m \u001b[32m━━━━━━━━━━━━━━━━━━━━\u001b[0m\u001b[37m\u001b[0m \u001b[1m311s\u001b[0m 516ms/step - acc: 0.9921 - loss: 0.0205 - val_acc: 0.9902 - val_loss: 0.0261\n",
            "Epoch 4/10\n",
            "\u001b[1m603/603\u001b[0m \u001b[32m━━━━━━━━━━━━━━━━━━━━\u001b[0m\u001b[37m\u001b[0m \u001b[1m323s\u001b[0m 518ms/step - acc: 0.9932 - loss: 0.0179 - val_acc: 0.9904 - val_loss: 0.0260\n",
            "Epoch 5/10\n",
            "\u001b[1m603/603\u001b[0m \u001b[32m━━━━━━━━━━━━━━━━━━━━\u001b[0m\u001b[37m\u001b[0m \u001b[1m313s\u001b[0m 520ms/step - acc: 0.9942 - loss: 0.0155 - val_acc: 0.9904 - val_loss: 0.0265\n",
            "Epoch 6/10\n",
            "\u001b[1m603/603\u001b[0m \u001b[32m━━━━━━━━━━━━━━━━━━━━\u001b[0m\u001b[37m\u001b[0m \u001b[1m320s\u001b[0m 517ms/step - acc: 0.9952 - loss: 0.0132 - val_acc: 0.9904 - val_loss: 0.0277\n",
            "Epoch 7/10\n",
            "\u001b[1m603/603\u001b[0m \u001b[32m━━━━━━━━━━━━━━━━━━━━\u001b[0m\u001b[37m\u001b[0m \u001b[1m321s\u001b[0m 515ms/step - acc: 0.9959 - loss: 0.0114 - val_acc: 0.9901 - val_loss: 0.0295\n",
            "Epoch 8/10\n",
            "\u001b[1m603/603\u001b[0m \u001b[32m━━━━━━━━━━━━━━━━━━━━\u001b[0m\u001b[37m\u001b[0m \u001b[1m323s\u001b[0m 516ms/step - acc: 0.9966 - loss: 0.0096 - val_acc: 0.9901 - val_loss: 0.0310\n",
            "Epoch 9/10\n",
            "\u001b[1m603/603\u001b[0m \u001b[32m━━━━━━━━━━━━━━━━━━━━\u001b[0m\u001b[37m\u001b[0m \u001b[1m311s\u001b[0m 516ms/step - acc: 0.9972 - loss: 0.0083 - val_acc: 0.9899 - val_loss: 0.0331\n",
            "Epoch 10/10\n",
            "\u001b[1m603/603\u001b[0m \u001b[32m━━━━━━━━━━━━━━━━━━━━\u001b[0m\u001b[37m\u001b[0m \u001b[1m324s\u001b[0m 520ms/step - acc: 0.9976 - loss: 0.0072 - val_acc: 0.9898 - val_loss: 0.0354\n"
          ]
        }
      ],
      "source": [
        "rnn_training = rnn_model.fit(X_train , Y_train , batch_size=128 , epochs=10 , validation_data=(X_val , Y_val))"
      ]
    },
    {
      "cell_type": "code",
      "execution_count": null,
      "metadata": {
        "colab": {
          "base_uri": "https://localhost:8080/",
          "height": 472
        },
        "id": "Kkg0n4UZHyxZ",
        "outputId": "4dca04c2-0863-43a9-edcf-18c9007cbdb4"
      },
      "outputs": [
        {
          "data": {
            "image/png": "[encoded data removed]",
            "text/plain": [
              "<Figure size 640x480 with 1 Axes>"
            ]
          },
          "metadata": {},
          "output_type": "display_data"
        }
      ],
      "source": [
        "# visualise the training process\n",
        "plt.plot(rnn_training.history['acc'])\n",
        "plt.plot(rnn_training.history['val_acc'])\n",
        "plt.title('model accuracy')\n",
        "plt.ylabel('accuracy')\n",
        "plt.xlabel('epoch')\n",
        "plt.legend(['train' ,'text'],loc=\"lower right\")\n",
        "plt.show()"
      ]
    },
    {
      "cell_type": "markdown",
      "metadata": {
        "id": "Bay1EixlJZjS"
      },
      "source": [
        "# LSTM:\n",
        "we will pre_trained word embeddings in the following models and allow them to be updated as well"
      ]
    },
    {
      "cell_type": "code",
      "execution_count": null,
      "metadata": {
        "id": "n6lwhLwvJlMF"
      },
      "outputs": [],
      "source": [
        "\n",
        "LSTM_model = Sequential()\n",
        "\n",
        "# create embedding Layer - usually the first layer in text problems\n",
        "\n",
        "LSTM_model.add(Embedding(input_dim = VOCABULARY_SIZE, # vocabulary size - number of unique words in data\n",
        "                       output_dim = EMBEDDING_SIZE,# length of vector with which each word is represented\n",
        "                       input_length = MAX_SEQ_LENGTH,#length of input sequence\n",
        "                       trainable = True, # False - don't update the embeddings weights\n",
        "                       weights=[embedding_weights]\n",
        "\n",
        "\n",
        "))\n",
        "\n",
        "# add an RNN layer which  contains 64 RNN cells\n",
        "\n",
        "LSTM_model.add(LSTM(64,\n",
        "                        return_sequences=True # True : return whole sequence ; False : only return the songle output\n",
        "))\n",
        "\n",
        "# add time distributed (output at each sequence ) layer\n",
        "# The TimeDistributed layer is used to apply a Dense layer to each time step of the RNN's output,\n",
        "#  allowing you to get predictions for each word in the sequence.\n",
        "\n",
        "LSTM_model.add(TimeDistributed(Dense(NUM_CLASSES , activation='softmax')))\n"
      ]
    },
    {
      "cell_type": "markdown",
      "metadata": {
        "id": "H9TUjgLzJ7Bb"
      },
      "source": [
        "## compile the model"
      ]
    },
    {
      "cell_type": "code",
      "execution_count": null,
      "metadata": {
        "id": "mNs3GmLpKB59"
      },
      "outputs": [],
      "source": [
        "LSTM_model.compile(loss ='categorical_crossentropy' , optimizer = 'adam' , metrics = ['acc'])\n",
        "LSTM_model.build(input_shape=(None, 100))"
      ]
    },
    {
      "cell_type": "code",
      "execution_count": null,
      "metadata": {
        "colab": {
          "base_uri": "https://localhost:8080/",
          "height": 225
        },
        "id": "suM33pECKCzq",
        "outputId": "6a18abea-4d61-447f-d0ff-a412f675f5a7"
      },
      "outputs": [
        {
          "data": {
            "text/html": [
              "<pre style=\"white-space:pre;overflow-x:auto;line-height:normal;font-family:Menlo,'DejaVu Sans Mono',consolas,'Courier New',monospace\"><span style=\"font-weight: bold\">Model: \"sequential_1\"</span>\n",
              "</pre>\n"
            ],
            "text/plain": [
              "\u001b[1mModel: \"sequential_1\"\u001b[0m\n"
            ]
          },
          "metadata": {},
          "output_type": "display_data"
        },
        {
          "data": {
            "text/html": [
              "<pre style=\"white-space:pre;overflow-x:auto;line-height:normal;font-family:Menlo,'DejaVu Sans Mono',consolas,'Courier New',monospace\">┏━━━━━━━━━━━━━━━━━━━━━━━━━━━━━━━━━━━━━━┳━━━━━━━━━━━━━━━━━━━━━━━━━━━━━┳━━━━━━━━━━━━━━━━━┓\n",
              "┃<span style=\"font-weight: bold\"> Layer (type)                         </span>┃<span style=\"font-weight: bold\"> Output Shape                </span>┃<span style=\"font-weight: bold\">         Param # </span>┃\n",
              "┡━━━━━━━━━━━━━━━━━━━━━━━━━━━━━━━━━━━━━━╇━━━━━━━━━━━━━━━━━━━━━━━━━━━━━╇━━━━━━━━━━━━━━━━━┩\n",
              "│ embedding_1 (<span style=\"color: #0087ff; text-decoration-color: #0087ff\">Embedding</span>)              │ (<span style=\"color: #00d7ff; text-decoration-color: #00d7ff\">None</span>, <span style=\"color: #00af00; text-decoration-color: #00af00\">100</span>, <span style=\"color: #00af00; text-decoration-color: #00af00\">300</span>)            │      <span style=\"color: #00af00; text-decoration-color: #00af00\">21,931,500</span> │\n",
              "├──────────────────────────────────────┼─────────────────────────────┼─────────────────┤\n",
              "│ lstm (<span style=\"color: #0087ff; text-decoration-color: #0087ff\">LSTM</span>)                          │ (<span style=\"color: #00d7ff; text-decoration-color: #00d7ff\">None</span>, <span style=\"color: #00af00; text-decoration-color: #00af00\">100</span>, <span style=\"color: #00af00; text-decoration-color: #00af00\">64</span>)             │          <span style=\"color: #00af00; text-decoration-color: #00af00\">93,440</span> │\n",
              "├──────────────────────────────────────┼─────────────────────────────┼─────────────────┤\n",
              "│ time_distributed_1 (<span style=\"color: #0087ff; text-decoration-color: #0087ff\">TimeDistributed</span>) │ (<span style=\"color: #00d7ff; text-decoration-color: #00d7ff\">None</span>, <span style=\"color: #00af00; text-decoration-color: #00af00\">100</span>, <span style=\"color: #00af00; text-decoration-color: #00af00\">13</span>)             │             <span style=\"color: #00af00; text-decoration-color: #00af00\">845</span> │\n",
              "└──────────────────────────────────────┴─────────────────────────────┴─────────────────┘\n",
              "</pre>\n"
            ],
            "text/plain": [
              "┏━━━━━━━━━━━━━━━━━━━━━━━━━━━━━━━━━━━━━━┳━━━━━━━━━━━━━━━━━━━━━━━━━━━━━┳━━━━━━━━━━━━━━━━━┓\n",
              "┃\u001b[1m \u001b[0m\u001b[1mLayer (type)                        \u001b[0m\u001b[1m \u001b[0m┃\u001b[1m \u001b[0m\u001b[1mOutput Shape               \u001b[0m\u001b[1m \u001b[0m┃\u001b[1m \u001b[0m\u001b[1m        Param #\u001b[0m\u001b[1m \u001b[0m┃\n",
              "┡━━━━━━━━━━━━━━━━━━━━━━━━━━━━━━━━━━━━━━╇━━━━━━━━━━━━━━━━━━━━━━━━━━━━━╇━━━━━━━━━━━━━━━━━┩\n",
              "│ embedding_1 (\u001b[38;5;33mEmbedding\u001b[0m)              │ (\u001b[38;5;45mNone\u001b[0m, \u001b[38;5;34m100\u001b[0m, \u001b[38;5;34m300\u001b[0m)            │      \u001b[38;5;34m21,931,500\u001b[0m │\n",
              "├──────────────────────────────────────┼─────────────────────────────┼─────────────────┤\n",
              "│ lstm (\u001b[38;5;33mLSTM\u001b[0m)                          │ (\u001b[38;5;45mNone\u001b[0m, \u001b[38;5;34m100\u001b[0m, \u001b[38;5;34m64\u001b[0m)             │          \u001b[38;5;34m93,440\u001b[0m │\n",
              "├──────────────────────────────────────┼─────────────────────────────┼─────────────────┤\n",
              "│ time_distributed_1 (\u001b[38;5;33mTimeDistributed\u001b[0m) │ (\u001b[38;5;45mNone\u001b[0m, \u001b[38;5;34m100\u001b[0m, \u001b[38;5;34m13\u001b[0m)             │             \u001b[38;5;34m845\u001b[0m │\n",
              "└──────────────────────────────────────┴─────────────────────────────┴─────────────────┘\n"
            ]
          },
          "metadata": {},
          "output_type": "display_data"
        },
        {
          "data": {
            "text/html": [
              "<pre style=\"white-space:pre;overflow-x:auto;line-height:normal;font-family:Menlo,'DejaVu Sans Mono',consolas,'Courier New',monospace\"><span style=\"font-weight: bold\"> Total params: </span><span style=\"color: #00af00; text-decoration-color: #00af00\">22,025,785</span> (84.02 MB)\n",
              "</pre>\n"
            ],
            "text/plain": [
              "\u001b[1m Total params: \u001b[0m\u001b[38;5;34m22,025,785\u001b[0m (84.02 MB)\n"
            ]
          },
          "metadata": {},
          "output_type": "display_data"
        },
        {
          "data": {
            "text/html": [
              "<pre style=\"white-space:pre;overflow-x:auto;line-height:normal;font-family:Menlo,'DejaVu Sans Mono',consolas,'Courier New',monospace\"><span style=\"font-weight: bold\"> Trainable params: </span><span style=\"color: #00af00; text-decoration-color: #00af00\">22,025,785</span> (84.02 MB)\n",
              "</pre>\n"
            ],
            "text/plain": [
              "\u001b[1m Trainable params: \u001b[0m\u001b[38;5;34m22,025,785\u001b[0m (84.02 MB)\n"
            ]
          },
          "metadata": {},
          "output_type": "display_data"
        },
        {
          "data": {
            "text/html": [
              "<pre style=\"white-space:pre;overflow-x:auto;line-height:normal;font-family:Menlo,'DejaVu Sans Mono',consolas,'Courier New',monospace\"><span style=\"font-weight: bold\"> Non-trainable params: </span><span style=\"color: #00af00; text-decoration-color: #00af00\">0</span> (0.00 B)\n",
              "</pre>\n"
            ],
            "text/plain": [
              "\u001b[1m Non-trainable params: \u001b[0m\u001b[38;5;34m0\u001b[0m (0.00 B)\n"
            ]
          },
          "metadata": {},
          "output_type": "display_data"
        }
      ],
      "source": [
        "# check the summary of the model\n",
        "LSTM_model.summary()"
      ]
    },
    {
      "cell_type": "markdown",
      "metadata": {
        "id": "DNIRuvt6Khqf"
      },
      "source": [
        "## Fit the model"
      ]
    },
    {
      "cell_type": "code",
      "execution_count": null,
      "metadata": {
        "colab": {
          "base_uri": "https://localhost:8080/"
        },
        "id": "MuE2V7aYKomm",
        "outputId": "0ac753cf-d546-42aa-e7a8-a173f4ed5205"
      },
      "outputs": [
        {
          "name": "stdout",
          "output_type": "stream",
          "text": [
            "Epoch 1/10\n",
            "\u001b[1m603/603\u001b[0m \u001b[32m━━━━━━━━━━━━━━━━━━━━\u001b[0m\u001b[37m\u001b[0m \u001b[1m420s\u001b[0m 684ms/step - acc: 0.9345 - loss: 0.2624 - val_acc: 0.9890 - val_loss: 0.0314\n",
            "Epoch 2/10\n",
            "\u001b[1m603/603\u001b[0m \u001b[32m━━━━━━━━━━━━━━━━━━━━\u001b[0m\u001b[37m\u001b[0m \u001b[1m409s\u001b[0m 677ms/step - acc: 0.9902 - loss: 0.0272 - val_acc: 0.9901 - val_loss: 0.0265\n",
            "Epoch 3/10\n",
            "\u001b[1m603/603\u001b[0m \u001b[32m━━━━━━━━━━━━━━━━━━━━\u001b[0m\u001b[37m\u001b[0m \u001b[1m407s\u001b[0m 675ms/step - acc: 0.9917 - loss: 0.0215 - val_acc: 0.9905 - val_loss: 0.0252\n",
            "Epoch 4/10\n",
            "\u001b[1m603/603\u001b[0m \u001b[32m━━━━━━━━━━━━━━━━━━━━\u001b[0m\u001b[37m\u001b[0m \u001b[1m411s\u001b[0m 681ms/step - acc: 0.9929 - loss: 0.0187 - val_acc: 0.9910 - val_loss: 0.0245\n",
            "Epoch 5/10\n",
            "\u001b[1m603/603\u001b[0m \u001b[32m━━━━━━━━━━━━━━━━━━━━\u001b[0m\u001b[37m\u001b[0m \u001b[1m414s\u001b[0m 687ms/step - acc: 0.9941 - loss: 0.0160 - val_acc: 0.9911 - val_loss: 0.0245\n",
            "Epoch 6/10\n",
            "\u001b[1m603/603\u001b[0m \u001b[32m━━━━━━━━━━━━━━━━━━━━\u001b[0m\u001b[37m\u001b[0m \u001b[1m440s\u001b[0m 684ms/step - acc: 0.9950 - loss: 0.0139 - val_acc: 0.9912 - val_loss: 0.0249\n",
            "Epoch 7/10\n",
            "\u001b[1m603/603\u001b[0m \u001b[32m━━━━━━━━━━━━━━━━━━━━\u001b[0m\u001b[37m\u001b[0m \u001b[1m441s\u001b[0m 682ms/step - acc: 0.9956 - loss: 0.0121 - val_acc: 0.9911 - val_loss: 0.0259\n",
            "Epoch 8/10\n",
            "\u001b[1m603/603\u001b[0m \u001b[32m━━━━━━━━━━━━━━━━━━━━\u001b[0m\u001b[37m\u001b[0m \u001b[1m441s\u001b[0m 681ms/step - acc: 0.9962 - loss: 0.0106 - val_acc: 0.9910 - val_loss: 0.0270\n",
            "Epoch 9/10\n",
            "\u001b[1m603/603\u001b[0m \u001b[32m━━━━━━━━━━━━━━━━━━━━\u001b[0m\u001b[37m\u001b[0m \u001b[1m415s\u001b[0m 688ms/step - acc: 0.9967 - loss: 0.0095 - val_acc: 0.9907 - val_loss: 0.0287\n",
            "Epoch 10/10\n",
            "\u001b[1m603/603\u001b[0m \u001b[32m━━━━━━━━━━━━━━━━━━━━\u001b[0m\u001b[37m\u001b[0m \u001b[1m412s\u001b[0m 684ms/step - acc: 0.9971 - loss: 0.0083 - val_acc: 0.9908 - val_loss: 0.0301\n"
          ]
        }
      ],
      "source": [
        "LSTM_training = LSTM_model.fit(X_train , Y_train , batch_size=128 , epochs=10 , validation_data=(X_val , Y_val))"
      ]
    },
    {
      "cell_type": "code",
      "execution_count": null,
      "metadata": {
        "colab": {
          "base_uri": "https://localhost:8080/",
          "height": 472
        },
        "id": "lX_XqU98KvOj",
        "outputId": "65deaf85-07b6-4d89-eb0f-474fe90bb283"
      },
      "outputs": [
        {
          "data": {
            "image/png": "[encoded data removed]",
            "text/plain": [
              "<Figure size 640x480 with 1 Axes>"
            ]
          },
          "metadata": {},
          "output_type": "display_data"
        }
      ],
      "source": [
        "# visualise the training process\n",
        "plt.plot(LSTM_training.history['acc'])\n",
        "plt.plot(LSTM_training.history['val_acc'])\n",
        "plt.title('model accuracy')\n",
        "plt.ylabel('accuracy')\n",
        "plt.xlabel('epoch')\n",
        "plt.legend(['train' ,'text'],loc=\"lower right\")\n",
        "plt.show()"
      ]
    },
    {
      "cell_type": "markdown",
      "metadata": {
        "id": "vOHpKyqBK2x8"
      },
      "source": [
        "# GRU"
      ]
    },
    {
      "cell_type": "code",
      "execution_count": null,
      "metadata": {
        "colab": {
          "base_uri": "https://localhost:8080/"
        },
        "id": "o6mf7sYZK4lr",
        "outputId": "3dc682b7-560b-44f4-badb-086c501cf228"
      },
      "outputs": [
        {
          "name": "stderr",
          "output_type": "stream",
          "text": [
            "/usr/local/lib/python3.10/dist-packages/keras/src/layers/core/embedding.py:90: UserWarning: Argument `input_length` is deprecated. Just remove it.\n",
            "  warnings.warn(\n"
          ]
        }
      ],
      "source": [
        "\n",
        "GRU_model = Sequential()\n",
        "\n",
        "# create embedding Layer - usually the first layer in text problems\n",
        "\n",
        "GRU_model.add(Embedding(input_dim = VOCABULARY_SIZE, # vocabulary size - number of unique words in data\n",
        "                       output_dim = EMBEDDING_SIZE,# length of vector with which each word is represented\n",
        "                       input_length = MAX_SEQ_LENGTH,#length of input sequence\n",
        "                       trainable = True, # False - don't update the embeddings weights\n",
        "                       weights=[embedding_weights]\n",
        "\n",
        "\n",
        "))\n",
        "\n",
        "# add an RNN layer which  contains 64 RNN cells\n",
        "\n",
        "GRU_model.add(GRU(64,\n",
        "                        return_sequences=True # True : return whole sequence ; False : only return the songle output\n",
        "))\n",
        "\n",
        "# add time distributed (output at each sequence ) layer\n",
        "# The TimeDistributed layer is used to apply a Dense layer to each time step of the RNN's output,\n",
        "#  allowing you to get predictions for each word in the sequence.\n",
        "\n",
        "GRU_model.add(TimeDistributed(Dense(NUM_CLASSES , activation='softmax')))\n"
      ]
    },
    {
      "cell_type": "markdown",
      "metadata": {
        "id": "g2GFeu2VLX8U"
      },
      "source": [
        "## compile the model"
      ]
    },
    {
      "cell_type": "code",
      "execution_count": null,
      "metadata": {
        "id": "dgrfj_zYLaGi"
      },
      "outputs": [],
      "source": [
        "GRU_model.compile(loss ='categorical_crossentropy' , optimizer = 'adam' , metrics = ['acc'])\n",
        "GRU_model.build(input_shape=(None, 100))"
      ]
    },
    {
      "cell_type": "code",
      "execution_count": null,
      "metadata": {
        "colab": {
          "base_uri": "https://localhost:8080/",
          "height": 225
        },
        "id": "txdx3AMzLefD",
        "outputId": "81024dd6-e523-4ed3-f205-1d19a3c3237a"
      },
      "outputs": [
        {
          "data": {
            "text/html": [
              "<pre style=\"white-space:pre;overflow-x:auto;line-height:normal;font-family:Menlo,'DejaVu Sans Mono',consolas,'Courier New',monospace\"><span style=\"font-weight: bold\">Model: \"sequential_2\"</span>\n",
              "</pre>\n"
            ],
            "text/plain": [
              "\u001b[1mModel: \"sequential_2\"\u001b[0m\n"
            ]
          },
          "metadata": {},
          "output_type": "display_data"
        },
        {
          "data": {
            "text/html": [
              "<pre style=\"white-space:pre;overflow-x:auto;line-height:normal;font-family:Menlo,'DejaVu Sans Mono',consolas,'Courier New',monospace\">┏━━━━━━━━━━━━━━━━━━━━━━━━━━━━━━━━━━━━━━┳━━━━━━━━━━━━━━━━━━━━━━━━━━━━━┳━━━━━━━━━━━━━━━━━┓\n",
              "┃<span style=\"font-weight: bold\"> Layer (type)                         </span>┃<span style=\"font-weight: bold\"> Output Shape                </span>┃<span style=\"font-weight: bold\">         Param # </span>┃\n",
              "┡━━━━━━━━━━━━━━━━━━━━━━━━━━━━━━━━━━━━━━╇━━━━━━━━━━━━━━━━━━━━━━━━━━━━━╇━━━━━━━━━━━━━━━━━┩\n",
              "│ embedding_2 (<span style=\"color: #0087ff; text-decoration-color: #0087ff\">Embedding</span>)              │ (<span style=\"color: #00d7ff; text-decoration-color: #00d7ff\">None</span>, <span style=\"color: #00af00; text-decoration-color: #00af00\">100</span>, <span style=\"color: #00af00; text-decoration-color: #00af00\">300</span>)            │      <span style=\"color: #00af00; text-decoration-color: #00af00\">21,931,500</span> │\n",
              "├──────────────────────────────────────┼─────────────────────────────┼─────────────────┤\n",
              "│ gru (<span style=\"color: #0087ff; text-decoration-color: #0087ff\">GRU</span>)                            │ (<span style=\"color: #00d7ff; text-decoration-color: #00d7ff\">None</span>, <span style=\"color: #00af00; text-decoration-color: #00af00\">100</span>, <span style=\"color: #00af00; text-decoration-color: #00af00\">64</span>)             │          <span style=\"color: #00af00; text-decoration-color: #00af00\">70,272</span> │\n",
              "├──────────────────────────────────────┼─────────────────────────────┼─────────────────┤\n",
              "│ time_distributed_2 (<span style=\"color: #0087ff; text-decoration-color: #0087ff\">TimeDistributed</span>) │ (<span style=\"color: #00d7ff; text-decoration-color: #00d7ff\">None</span>, <span style=\"color: #00af00; text-decoration-color: #00af00\">100</span>, <span style=\"color: #00af00; text-decoration-color: #00af00\">13</span>)             │             <span style=\"color: #00af00; text-decoration-color: #00af00\">845</span> │\n",
              "└──────────────────────────────────────┴─────────────────────────────┴─────────────────┘\n",
              "</pre>\n"
            ],
            "text/plain": [
              "┏━━━━━━━━━━━━━━━━━━━━━━━━━━━━━━━━━━━━━━┳━━━━━━━━━━━━━━━━━━━━━━━━━━━━━┳━━━━━━━━━━━━━━━━━┓\n",
              "┃\u001b[1m \u001b[0m\u001b[1mLayer (type)                        \u001b[0m\u001b[1m \u001b[0m┃\u001b[1m \u001b[0m\u001b[1mOutput Shape               \u001b[0m\u001b[1m \u001b[0m┃\u001b[1m \u001b[0m\u001b[1m        Param #\u001b[0m\u001b[1m \u001b[0m┃\n",
              "┡━━━━━━━━━━━━━━━━━━━━━━━━━━━━━━━━━━━━━━╇━━━━━━━━━━━━━━━━━━━━━━━━━━━━━╇━━━━━━━━━━━━━━━━━┩\n",
              "│ embedding_2 (\u001b[38;5;33mEmbedding\u001b[0m)              │ (\u001b[38;5;45mNone\u001b[0m, \u001b[38;5;34m100\u001b[0m, \u001b[38;5;34m300\u001b[0m)            │      \u001b[38;5;34m21,931,500\u001b[0m │\n",
              "├──────────────────────────────────────┼─────────────────────────────┼─────────────────┤\n",
              "│ gru (\u001b[38;5;33mGRU\u001b[0m)                            │ (\u001b[38;5;45mNone\u001b[0m, \u001b[38;5;34m100\u001b[0m, \u001b[38;5;34m64\u001b[0m)             │          \u001b[38;5;34m70,272\u001b[0m │\n",
              "├──────────────────────────────────────┼─────────────────────────────┼─────────────────┤\n",
              "│ time_distributed_2 (\u001b[38;5;33mTimeDistributed\u001b[0m) │ (\u001b[38;5;45mNone\u001b[0m, \u001b[38;5;34m100\u001b[0m, \u001b[38;5;34m13\u001b[0m)             │             \u001b[38;5;34m845\u001b[0m │\n",
              "└──────────────────────────────────────┴─────────────────────────────┴─────────────────┘\n"
            ]
          },
          "metadata": {},
          "output_type": "display_data"
        },
        {
          "data": {
            "text/html": [
              "<pre style=\"white-space:pre;overflow-x:auto;line-height:normal;font-family:Menlo,'DejaVu Sans Mono',consolas,'Courier New',monospace\"><span style=\"font-weight: bold\"> Total params: </span><span style=\"color: #00af00; text-decoration-color: #00af00\">22,002,617</span> (83.93 MB)\n",
              "</pre>\n"
            ],
            "text/plain": [
              "\u001b[1m Total params: \u001b[0m\u001b[38;5;34m22,002,617\u001b[0m (83.93 MB)\n"
            ]
          },
          "metadata": {},
          "output_type": "display_data"
        },
        {
          "data": {
            "text/html": [
              "<pre style=\"white-space:pre;overflow-x:auto;line-height:normal;font-family:Menlo,'DejaVu Sans Mono',consolas,'Courier New',monospace\"><span style=\"font-weight: bold\"> Trainable params: </span><span style=\"color: #00af00; text-decoration-color: #00af00\">22,002,617</span> (83.93 MB)\n",
              "</pre>\n"
            ],
            "text/plain": [
              "\u001b[1m Trainable params: \u001b[0m\u001b[38;5;34m22,002,617\u001b[0m (83.93 MB)\n"
            ]
          },
          "metadata": {},
          "output_type": "display_data"
        },
        {
          "data": {
            "text/html": [
              "<pre style=\"white-space:pre;overflow-x:auto;line-height:normal;font-family:Menlo,'DejaVu Sans Mono',consolas,'Courier New',monospace\"><span style=\"font-weight: bold\"> Non-trainable params: </span><span style=\"color: #00af00; text-decoration-color: #00af00\">0</span> (0.00 B)\n",
              "</pre>\n"
            ],
            "text/plain": [
              "\u001b[1m Non-trainable params: \u001b[0m\u001b[38;5;34m0\u001b[0m (0.00 B)\n"
            ]
          },
          "metadata": {},
          "output_type": "display_data"
        }
      ],
      "source": [
        "# check the summary of the model\n",
        "GRU_model.summary()"
      ]
    },
    {
      "cell_type": "markdown",
      "metadata": {
        "id": "V4P6kW_rLmec"
      },
      "source": [
        "## Fit the model"
      ]
    },
    {
      "cell_type": "code",
      "execution_count": null,
      "metadata": {
        "colab": {
          "base_uri": "https://localhost:8080/"
        },
        "id": "MI283D27Lope",
        "outputId": "9c433b20-b3b5-40a8-fd8f-2d5146bce965"
      },
      "outputs": [
        {
          "name": "stdout",
          "output_type": "stream",
          "text": [
            "Epoch 1/10\n",
            "\u001b[1m603/603\u001b[0m \u001b[32m━━━━━━━━━━━━━━━━━━━━\u001b[0m\u001b[37m\u001b[0m \u001b[1m421s\u001b[0m 684ms/step - acc: 0.9562 - loss: 0.1986 - val_acc: 0.9893 - val_loss: 0.0286\n",
            "Epoch 2/10\n",
            "\u001b[1m603/603\u001b[0m \u001b[32m━━━━━━━━━━━━━━━━━━━━\u001b[0m\u001b[37m\u001b[0m \u001b[1m437s\u001b[0m 677ms/step - acc: 0.9906 - loss: 0.0247 - val_acc: 0.9901 - val_loss: 0.0256\n",
            "Epoch 3/10\n",
            "\u001b[1m603/603\u001b[0m \u001b[32m━━━━━━━━━━━━━━━━━━━━\u001b[0m\u001b[37m\u001b[0m \u001b[1m411s\u001b[0m 681ms/step - acc: 0.9919 - loss: 0.0204 - val_acc: 0.9904 - val_loss: 0.0249\n",
            "Epoch 4/10\n",
            "\u001b[1m603/603\u001b[0m \u001b[32m━━━━━━━━━━━━━━━━━━━━\u001b[0m\u001b[37m\u001b[0m \u001b[1m408s\u001b[0m 677ms/step - acc: 0.9928 - loss: 0.0180 - val_acc: 0.9909 - val_loss: 0.0244\n",
            "Epoch 5/10\n",
            "\u001b[1m603/603\u001b[0m \u001b[32m━━━━━━━━━━━━━━━━━━━━\u001b[0m\u001b[37m\u001b[0m \u001b[1m448s\u001b[0m 688ms/step - acc: 0.9938 - loss: 0.0160 - val_acc: 0.9912 - val_loss: 0.0242\n",
            "Epoch 6/10\n",
            "\u001b[1m603/603\u001b[0m \u001b[32m━━━━━━━━━━━━━━━━━━━━\u001b[0m\u001b[37m\u001b[0m \u001b[1m449s\u001b[0m 699ms/step - acc: 0.9947 - loss: 0.0140 - val_acc: 0.9913 - val_loss: 0.0249\n",
            "Epoch 7/10\n",
            "\u001b[1m603/603\u001b[0m \u001b[32m━━━━━━━━━━━━━━━━━━━━\u001b[0m\u001b[37m\u001b[0m \u001b[1m416s\u001b[0m 691ms/step - acc: 0.9954 - loss: 0.0123 - val_acc: 0.9913 - val_loss: 0.0257\n",
            "Epoch 8/10\n",
            "\u001b[1m603/603\u001b[0m \u001b[32m━━━━━━━━━━━━━━━━━━━━\u001b[0m\u001b[37m\u001b[0m \u001b[1m445s\u001b[0m 695ms/step - acc: 0.9960 - loss: 0.0109 - val_acc: 0.9911 - val_loss: 0.0272\n",
            "Epoch 9/10\n",
            "\u001b[1m603/603\u001b[0m \u001b[32m━━━━━━━━━━━━━━━━━━━━\u001b[0m\u001b[37m\u001b[0m \u001b[1m437s\u001b[0m 725ms/step - acc: 0.9965 - loss: 0.0096 - val_acc: 0.9911 - val_loss: 0.0286\n",
            "Epoch 10/10\n",
            "\u001b[1m603/603\u001b[0m \u001b[32m━━━━━━━━━━━━━━━━━━━━\u001b[0m\u001b[37m\u001b[0m \u001b[1m440s\u001b[0m 721ms/step - acc: 0.9969 - loss: 0.0085 - val_acc: 0.9909 - val_loss: 0.0302\n"
          ]
        }
      ],
      "source": [
        "GRU_training = GRU_model.fit(X_train , Y_train , batch_size=128 , epochs=10 , validation_data=(X_val , Y_val))"
      ]
    },
    {
      "cell_type": "code",
      "execution_count": null,
      "metadata": {
        "colab": {
          "base_uri": "https://localhost:8080/",
          "height": 472
        },
        "id": "BCCwKfUuL3-1",
        "outputId": "be5b27c1-e6eb-4029-b3c1-35003741a9ea"
      },
      "outputs": [
        {
          "data": {
            "image/png": "[encoded data removed]",
            "text/plain": [
              "<Figure size 640x480 with 1 Axes>"
            ]
          },
          "metadata": {},
          "output_type": "display_data"
        }
      ],
      "source": [
        "# visualise the training process\n",
        "plt.plot(GRU_training.history['acc'])\n",
        "plt.plot(GRU_training.history['val_acc'])\n",
        "plt.title('model accuracy')\n",
        "plt.ylabel('accuracy')\n",
        "plt.xlabel('epoch')\n",
        "plt.legend(['train' ,'text'],loc=\"lower right\")\n",
        "plt.show()"
      ]
    },
    {
      "cell_type": "markdown",
      "metadata": {
        "id": "zEr9RBqiMzQN"
      },
      "source": [
        "# 3 . Bidirectional LSTM\n",
        "----------------------------------------------------------"
      ]
    },
    {
      "cell_type": "code",
      "execution_count": null,
      "metadata": {
        "id": "zynbQ8jRM7h-"
      },
      "outputs": [],
      "source": [
        "\n",
        "bidirect_model = Sequential()\n",
        "\n",
        "# create embedding Layer - usually the first layer in text problems\n",
        "\n",
        "bidirect_model.add(Embedding(input_dim = VOCABULARY_SIZE, # vocabulary size - number of unique words in data\n",
        "                       output_dim = EMBEDDING_SIZE,# length of vector with which each word is represented\n",
        "                       input_length = MAX_SEQ_LENGTH,#length of input sequence\n",
        "                       trainable = True, # False - don't update the embeddings weights\n",
        "                       weights=[embedding_weights]\n",
        "\n",
        "\n",
        "))\n",
        "\n",
        "# add an RNN layer which  contains 64 RNN cells\n",
        "\n",
        "bidirect_model.add(Bidirectional(LSTM(64,\n",
        "                        return_sequences=True # True : return whole sequence ; False : only return the single output\n",
        ")))\n",
        "\n",
        "# add time distributed (output at each sequence ) layer\n",
        "# The TimeDistributed layer is used to apply a Dense layer to each time step of the RNN's output,\n",
        "#  allowing you to get predictions for each word in the sequence.\n",
        "\n",
        "bidirect_model.add(TimeDistributed(Dense(NUM_CLASSES , activation='softmax')))\n"
      ]
    },
    {
      "cell_type": "markdown",
      "metadata": {
        "id": "zQtClEf6NkEy"
      },
      "source": [
        "## complile the model"
      ]
    },
    {
      "cell_type": "code",
      "execution_count": null,
      "metadata": {
        "id": "oZ0DZiaSNmBP"
      },
      "outputs": [],
      "source": [
        "bidirect_model.compile(loss ='categorical_crossentropy' , optimizer = 'adam' , metrics = ['acc'])\n",
        "bidirect_model.build(input_shape=(None, 100))"
      ]
    },
    {
      "cell_type": "code",
      "execution_count": null,
      "metadata": {
        "colab": {
          "base_uri": "https://localhost:8080/",
          "height": 225
        },
        "id": "JumBrNMPNorS",
        "outputId": "8e9cf790-796d-4d6f-919f-7122bdda996b"
      },
      "outputs": [
        {
          "data": {
            "text/html": [
              "<pre style=\"white-space:pre;overflow-x:auto;line-height:normal;font-family:Menlo,'DejaVu Sans Mono',consolas,'Courier New',monospace\"><span style=\"font-weight: bold\">Model: \"sequential_3\"</span>\n",
              "</pre>\n"
            ],
            "text/plain": [
              "\u001b[1mModel: \"sequential_3\"\u001b[0m\n"
            ]
          },
          "metadata": {},
          "output_type": "display_data"
        },
        {
          "data": {
            "text/html": [
              "<pre style=\"white-space:pre;overflow-x:auto;line-height:normal;font-family:Menlo,'DejaVu Sans Mono',consolas,'Courier New',monospace\">┏━━━━━━━━━━━━━━━━━━━━━━━━━━━━━━━━━━━━━━┳━━━━━━━━━━━━━━━━━━━━━━━━━━━━━┳━━━━━━━━━━━━━━━━━┓\n",
              "┃<span style=\"font-weight: bold\"> Layer (type)                         </span>┃<span style=\"font-weight: bold\"> Output Shape                </span>┃<span style=\"font-weight: bold\">         Param # </span>┃\n",
              "┡━━━━━━━━━━━━━━━━━━━━━━━━━━━━━━━━━━━━━━╇━━━━━━━━━━━━━━━━━━━━━━━━━━━━━╇━━━━━━━━━━━━━━━━━┩\n",
              "│ embedding_3 (<span style=\"color: #0087ff; text-decoration-color: #0087ff\">Embedding</span>)              │ (<span style=\"color: #00d7ff; text-decoration-color: #00d7ff\">None</span>, <span style=\"color: #00af00; text-decoration-color: #00af00\">100</span>, <span style=\"color: #00af00; text-decoration-color: #00af00\">300</span>)            │      <span style=\"color: #00af00; text-decoration-color: #00af00\">21,931,500</span> │\n",
              "├──────────────────────────────────────┼─────────────────────────────┼─────────────────┤\n",
              "│ bidirectional (<span style=\"color: #0087ff; text-decoration-color: #0087ff\">Bidirectional</span>)        │ (<span style=\"color: #00d7ff; text-decoration-color: #00d7ff\">None</span>, <span style=\"color: #00af00; text-decoration-color: #00af00\">100</span>, <span style=\"color: #00af00; text-decoration-color: #00af00\">128</span>)            │         <span style=\"color: #00af00; text-decoration-color: #00af00\">186,880</span> │\n",
              "├──────────────────────────────────────┼─────────────────────────────┼─────────────────┤\n",
              "│ time_distributed_3 (<span style=\"color: #0087ff; text-decoration-color: #0087ff\">TimeDistributed</span>) │ (<span style=\"color: #00d7ff; text-decoration-color: #00d7ff\">None</span>, <span style=\"color: #00af00; text-decoration-color: #00af00\">100</span>, <span style=\"color: #00af00; text-decoration-color: #00af00\">13</span>)             │           <span style=\"color: #00af00; text-decoration-color: #00af00\">1,677</span> │\n",
              "└──────────────────────────────────────┴─────────────────────────────┴─────────────────┘\n",
              "</pre>\n"
            ],
            "text/plain": [
              "┏━━━━━━━━━━━━━━━━━━━━━━━━━━━━━━━━━━━━━━┳━━━━━━━━━━━━━━━━━━━━━━━━━━━━━┳━━━━━━━━━━━━━━━━━┓\n",
              "┃\u001b[1m \u001b[0m\u001b[1mLayer (type)                        \u001b[0m\u001b[1m \u001b[0m┃\u001b[1m \u001b[0m\u001b[1mOutput Shape               \u001b[0m\u001b[1m \u001b[0m┃\u001b[1m \u001b[0m\u001b[1m        Param #\u001b[0m\u001b[1m \u001b[0m┃\n",
              "┡━━━━━━━━━━━━━━━━━━━━━━━━━━━━━━━━━━━━━━╇━━━━━━━━━━━━━━━━━━━━━━━━━━━━━╇━━━━━━━━━━━━━━━━━┩\n",
              "│ embedding_3 (\u001b[38;5;33mEmbedding\u001b[0m)              │ (\u001b[38;5;45mNone\u001b[0m, \u001b[38;5;34m100\u001b[0m, \u001b[38;5;34m300\u001b[0m)            │      \u001b[38;5;34m21,931,500\u001b[0m │\n",
              "├──────────────────────────────────────┼─────────────────────────────┼─────────────────┤\n",
              "│ bidirectional (\u001b[38;5;33mBidirectional\u001b[0m)        │ (\u001b[38;5;45mNone\u001b[0m, \u001b[38;5;34m100\u001b[0m, \u001b[38;5;34m128\u001b[0m)            │         \u001b[38;5;34m186,880\u001b[0m │\n",
              "├──────────────────────────────────────┼─────────────────────────────┼─────────────────┤\n",
              "│ time_distributed_3 (\u001b[38;5;33mTimeDistributed\u001b[0m) │ (\u001b[38;5;45mNone\u001b[0m, \u001b[38;5;34m100\u001b[0m, \u001b[38;5;34m13\u001b[0m)             │           \u001b[38;5;34m1,677\u001b[0m │\n",
              "└──────────────────────────────────────┴─────────────────────────────┴─────────────────┘\n"
            ]
          },
          "metadata": {},
          "output_type": "display_data"
        },
        {
          "data": {
            "text/html": [
              "<pre style=\"white-space:pre;overflow-x:auto;line-height:normal;font-family:Menlo,'DejaVu Sans Mono',consolas,'Courier New',monospace\"><span style=\"font-weight: bold\"> Total params: </span><span style=\"color: #00af00; text-decoration-color: #00af00\">22,120,057</span> (84.38 MB)\n",
              "</pre>\n"
            ],
            "text/plain": [
              "\u001b[1m Total params: \u001b[0m\u001b[38;5;34m22,120,057\u001b[0m (84.38 MB)\n"
            ]
          },
          "metadata": {},
          "output_type": "display_data"
        },
        {
          "data": {
            "text/html": [
              "<pre style=\"white-space:pre;overflow-x:auto;line-height:normal;font-family:Menlo,'DejaVu Sans Mono',consolas,'Courier New',monospace\"><span style=\"font-weight: bold\"> Trainable params: </span><span style=\"color: #00af00; text-decoration-color: #00af00\">22,120,057</span> (84.38 MB)\n",
              "</pre>\n"
            ],
            "text/plain": [
              "\u001b[1m Trainable params: \u001b[0m\u001b[38;5;34m22,120,057\u001b[0m (84.38 MB)\n"
            ]
          },
          "metadata": {},
          "output_type": "display_data"
        },
        {
          "data": {
            "text/html": [
              "<pre style=\"white-space:pre;overflow-x:auto;line-height:normal;font-family:Menlo,'DejaVu Sans Mono',consolas,'Courier New',monospace\"><span style=\"font-weight: bold\"> Non-trainable params: </span><span style=\"color: #00af00; text-decoration-color: #00af00\">0</span> (0.00 B)\n",
              "</pre>\n"
            ],
            "text/plain": [
              "\u001b[1m Non-trainable params: \u001b[0m\u001b[38;5;34m0\u001b[0m (0.00 B)\n"
            ]
          },
          "metadata": {},
          "output_type": "display_data"
        }
      ],
      "source": [
        "# check the summary of the model\n",
        "bidirect_model.summary()"
      ]
    },
    {
      "cell_type": "markdown",
      "metadata": {
        "id": "bErkwtNDNuv7"
      },
      "source": [
        "## Fit the model\n"
      ]
    },
    {
      "cell_type": "code",
      "execution_count": null,
      "metadata": {
        "colab": {
          "base_uri": "https://localhost:8080/"
        },
        "id": "5Va0vLptNzaz",
        "outputId": "57960b48-5d31-4da2-b2a4-2a9a041a58dd"
      },
      "outputs": [
        {
          "name": "stdout",
          "output_type": "stream",
          "text": [
            "Epoch 1/10\n",
            "\u001b[1m603/603\u001b[0m \u001b[32m━━━━━━━━━━━━━━━━━━━━\u001b[0m\u001b[37m\u001b[0m \u001b[1m687s\u001b[0m 1s/step - acc: 0.9342 - loss: 0.2199 - val_acc: 0.9911 - val_loss: 0.0249\n",
            "Epoch 2/10\n",
            "\u001b[1m603/603\u001b[0m \u001b[32m━━━━━━━━━━━━━━━━━━━━\u001b[0m\u001b[37m\u001b[0m \u001b[1m674s\u001b[0m 1s/step - acc: 0.9924 - loss: 0.0211 - val_acc: 0.9923 - val_loss: 0.0213\n",
            "Epoch 3/10\n",
            "\u001b[1m603/603\u001b[0m \u001b[32m━━━━━━━━━━━━━━━━━━━━\u001b[0m\u001b[37m\u001b[0m \u001b[1m680s\u001b[0m 1s/step - acc: 0.9942 - loss: 0.0157 - val_acc: 0.9929 - val_loss: 0.0200\n",
            "Epoch 4/10\n",
            "\u001b[1m603/603\u001b[0m \u001b[32m━━━━━━━━━━━━━━━━━━━━\u001b[0m\u001b[37m\u001b[0m \u001b[1m684s\u001b[0m 1s/step - acc: 0.9956 - loss: 0.0124 - val_acc: 0.9934 - val_loss: 0.0193\n",
            "Epoch 5/10\n",
            "\u001b[1m603/603\u001b[0m \u001b[32m━━━━━━━━━━━━━━━━━━━━\u001b[0m\u001b[37m\u001b[0m \u001b[1m716s\u001b[0m 1s/step - acc: 0.9968 - loss: 0.0096 - val_acc: 0.9936 - val_loss: 0.0197\n",
            "Epoch 6/10\n",
            "\u001b[1m603/603\u001b[0m \u001b[32m━━━━━━━━━━━━━━━━━━━━\u001b[0m\u001b[37m\u001b[0m \u001b[1m633s\u001b[0m 1s/step - acc: 0.9976 - loss: 0.0074 - val_acc: 0.9936 - val_loss: 0.0205\n",
            "Epoch 7/10\n",
            "\u001b[1m516/603\u001b[0m \u001b[32m━━━━━━━━━━━━━━━━━\u001b[0m\u001b[37m━━━\u001b[0m \u001b[1m1:29\u001b[0m 1s/step - acc: 0.9983 - loss: 0.0056"
          ]
        }
      ],
      "source": [
        "bidirect_model_training = bidirect_model.fit(X_train , Y_train , batch_size=128 , epochs=10 , validation_data=(X_val , Y_val))"
      ]
    },
    {
      "cell_type": "code",
      "execution_count": null,
      "metadata": {
        "id": "MXzhyt1oN4zj"
      },
      "outputs": [],
      "source": [
        "# visualise the training process\n",
        "plt.plot(bidirect_model_training.history['acc'])\n",
        "plt.plot(bidirect_model_training.history['val_acc'])\n",
        "plt.title('model accuracy')\n",
        "plt.ylabel('accuracy')\n",
        "plt.xlabel('epoch')\n",
        "plt.legend(['train' ,'text'],loc=\"lower right\")\n",
        "plt.show()"
      ]
    },
    {
      "cell_type": "markdown",
      "metadata": {
        "id": "_9mS4PujOM4d"
      },
      "source": [
        "# 5. Model Evaluation\n",
        "\n"
      ]
    },
    {
      "cell_type": "code",
      "execution_count": null,
      "metadata": {
        "colab": {
          "base_uri": "https://localhost:8080/"
        },
        "id": "Niycvar3ORd6",
        "outputId": "c2557d57-824a-40d4-b1ad-868f223ba101"
      },
      "outputs": [
        {
          "name": "stdout",
          "output_type": "stream",
          "text": [
            "\u001b[1m501/501\u001b[0m \u001b[32m━━━━━━━━━━━━━━━━━━━━\u001b[0m\u001b[37m\u001b[0m \u001b[1m8s\u001b[0m 16ms/step - acc: 0.9898 - loss: 0.0357\n",
            "Loss : 0.03606339544057846 \n",
            "  Accuracy 0.9896414279937744\n"
          ]
        }
      ],
      "source": [
        "loss , accuracy = rnn_model.evaluate(X_test , Y_test)\n",
        "print(f'Loss : {loss} \\n  Accuracy {accuracy}')"
      ]
    },
    {
      "cell_type": "code",
      "execution_count": null,
      "metadata": {
        "colab": {
          "base_uri": "https://localhost:8080/"
        },
        "id": "kPmJOnckOozk",
        "outputId": "42b21d9b-c80d-4bf8-c00c-785bbac61461"
      },
      "outputs": [
        {
          "name": "stdout",
          "output_type": "stream",
          "text": [
            "\u001b[1m501/501\u001b[0m \u001b[32m━━━━━━━━━━━━━━━━━━━━\u001b[0m\u001b[37m\u001b[0m \u001b[1m21s\u001b[0m 41ms/step - acc: 0.9908 - loss: 0.0305\n",
            "Loss : 0.030792534351348877 \n",
            "  Accuracy 0.990620493888855\n"
          ]
        }
      ],
      "source": [
        "loss , accuracy = LSTM_model.evaluate(X_test , Y_test)\n",
        "print(f'Loss : {loss} \\n  Accuracy {accuracy}')"
      ]
    },
    {
      "cell_type": "code",
      "execution_count": null,
      "metadata": {
        "id": "_NuRNxbVOo8W"
      },
      "outputs": [],
      "source": [
        "loss , accuracy = GRU_model.evaluate(X_test , Y_test)\n",
        "print(f'Loss : {loss} \\n  Accuracy {accuracy}')"
      ]
    },
    {
      "cell_type": "code",
      "execution_count": null,
      "metadata": {
        "id": "wd65GqrLOpKi"
      },
      "outputs": [],
      "source": [
        "loss , accuracy = bidirect_model.evaluate(X_test , Y_test)\n",
        "print(f'Loss : {loss} \\n  Accuracy {accuracy}')"
      ]
    },
    {
      "cell_type": "markdown",
      "metadata": {
        "id": "tLagdhWw0bn6"
      },
      "source": [
        "## Save the models"
      ]
    },
    {
      "cell_type": "code",
      "execution_count": null,
      "metadata": {
        "colab": {
          "base_uri": "https://localhost:8080/"
        },
        "id": "zeUkxbfX0Lqg",
        "outputId": "da617c2b-2013-4659-f6d5-b7f03e3d5bfb"
      },
      "outputs": [
        {
          "name": "stdout",
          "output_type": "stream",
          "text": [
            "Models saved successfully!\n"
          ]
        }
      ],
      "source": [
        "rnn_model.save('rnn_model.keras')\n",
        "LSTM_model.save('lstm_model.keras')\n",
        "#GRU_model.save('gru_model.keras')\n",
        "#bidirect_model.save('bidirect_model.keras')\n",
        "\n",
        "print(\"Models saved successfully!\")"
      ]
    },
    {
      "cell_type": "code",
      "execution_count": null,
      "metadata": {
        "colab": {
          "base_uri": "https://localhost:8080/"
        },
        "id": "zvaZrnZU0w8H",
        "outputId": "50f0a39e-58a0-4e56-b9e1-c8e978f90757"
      },
      "outputs": [
        {
          "name": "stdout",
          "output_type": "stream",
          "text": [
            "\u001b[1m501/501\u001b[0m \u001b[32m━━━━━━━━━━━━━━━━━━━━\u001b[0m\u001b[37m\u001b[0m \u001b[1m8s\u001b[0m 16ms/step\n"
          ]
        }
      ],
      "source": [
        "rnn_predictions = rnn_model.predict(X_test)\n",
        "\n"
      ]
    },
    {
      "cell_type": "code",
      "execution_count": null,
      "metadata": {
        "colab": {
          "base_uri": "https://localhost:8080/"
        },
        "id": "qG5yjzUi01AK",
        "outputId": "2b1eb578-da07-4bfa-856b-b0398114f9e2"
      },
      "outputs": [
        {
          "data": {
            "text/plain": [
              "(16011, 100, 13)"
            ]
          },
          "execution_count": 81,
          "metadata": {},
          "output_type": "execute_result"
        }
      ],
      "source": [
        "rnn_predictions.shape"
      ]
    },
    {
      "cell_type": "code",
      "execution_count": null,
      "metadata": {
        "colab": {
          "base_uri": "https://localhost:8080/"
        },
        "id": "8m23n2Dn2U_2",
        "outputId": "d5285c5d-9ebf-4821-b541-824766193851"
      },
      "outputs": [
        {
          "data": {
            "text/plain": [
              "(16011, 100)"
            ]
          },
          "execution_count": 93,
          "metadata": {},
          "output_type": "execute_result"
        }
      ],
      "source": [
        "\n",
        "rnn_labels = np.argmax(rnn_predictions, axis=-1)\n",
        "rnn_labels.shape\n"
      ]
    },
    {
      "cell_type": "code",
      "execution_count": null,
      "metadata": {
        "colab": {
          "base_uri": "https://localhost:8080/"
        },
        "id": "h-TrTEGL2kSt",
        "outputId": "b08ae932-ed08-4dc5-964a-94526c28ee01"
      },
      "outputs": [
        {
          "name": "stdout",
          "output_type": "stream",
          "text": [
            "Words: his fatigues made a streak of almost phosphorescent green in the mist .\n",
            "Predicted Tags: ['det', 'noun', 'verb', 'det', 'noun', 'adp', 'adv', 'adv', 'noun', 'adp', 'det', 'noun', '.']\n",
            "\n",
            "Words: but it is worth pondering that very little has been published on any phase of field techniques in linguistics .\n",
            "Predicted Tags: ['conj', 'pron', 'verb', 'adj', 'verb', 'adp', 'adv', 'adv', 'verb', 'verb', 'verb', 'adp', 'det', 'noun', 'adp', 'noun', 'noun', 'adp', 'noun', '.']\n",
            "\n",
            "Words: everywhere else his ideas lay or hung in visible form : his models , drawings , ten-foot canvases in monochromes from his painting days , and underfoot a windfall of broken-backed books that looked as though their insides had been ransacked by a maniac .\n",
            "Predicted Tags: ['adv', 'adv', 'det', 'noun', 'verb', 'conj', 'verb', 'adp', 'adj', 'noun', '.', 'det', 'noun', '.', 'noun', '.', 'adv', 'noun', 'adp', 'adj', 'adp', 'det', 'noun', 'noun', '.', 'conj', 'adv', 'det', 'noun', 'adp', 'noun', 'noun', 'adp', 'verb', 'adp', 'adp', 'det', 'noun', 'verb', 'verb', 'verb', 'adp', 'det', 'noun', '.']\n",
            "\n",
            "Words: the hangover in turn reminded him of his conversation with the weirdy , and he groaned .\n",
            "Predicted Tags: ['det', 'noun', 'adp', 'noun', 'verb', 'pron', 'adp', 'det', 'noun', 'adp', 'det', 'noun', '.', 'conj', 'pron', 'verb', '.']\n",
            "\n",
            "Words: moritz , however , kicks only about 10 or 12 extra points during each practice session .\n",
            "Predicted Tags: ['noun', '.', 'adv', '.', 'verb', 'adv', 'adp', 'num', 'conj', 'num', 'adj', 'noun', 'adp', 'det', 'noun', 'noun', '.']\n",
            "\n",
            "Words: it 's their choice .\n",
            "Predicted Tags: ['pron', 'verb', 'pron', 'noun', '.']\n",
            "\n",
            "Words: nothing looks anything like an ernst or an arp but another ernst or arp .\n",
            "Predicted Tags: ['noun', 'verb', 'noun', 'adp', 'det', 'noun', 'conj', 'det', 'noun', 'conj', 'det', 'noun', 'conj', 'noun', '.']\n",
            "\n",
            "Words: in august of 1960 , he sold seven .\n",
            "Predicted Tags: ['adp', 'noun', 'adp', 'num', '.', 'pron', 'verb', 'num', '.']\n",
            "\n",
            "Words: a beginner's shotgun has also been introduced this year .\n",
            "Predicted Tags: ['det', 'noun', 'noun', 'verb', 'adv', 'verb', 'verb', 'det', 'noun', '.']\n",
            "\n",
            "Words: and , apparently , it is here to stay .\n",
            "Predicted Tags: ['conj', '.', 'adv', '.', 'pron', 'verb', 'adv', 'prt', 'verb', '.']\n",
            "\n",
            "Words: the missionary obligation to proclaim the gospel to all the world was once left to zealous individuals and voluntary societies .\n",
            "Predicted Tags: ['det', 'noun', 'noun', 'prt', 'verb', 'det', 'noun', 'prt', 'prt', 'det', 'noun', 'verb', 'adv', 'verb', 'adp', 'adj', 'noun', 'conj', 'adj', 'noun', '.']\n",
            "\n",
            "Words: the inclination was to accept the statement that there would be no formal negotiations .\n",
            "Predicted Tags: ['det', 'noun', 'verb', 'prt', 'verb', 'det', 'noun', 'adp', 'prt', 'verb', 'verb', 'det', 'adj', 'noun', '.']\n",
            "\n",
            "Words: where can we get this cereal he likes so much '' ? ?\n",
            "Predicted Tags: ['adv', 'verb', 'pron', 'verb', 'det', 'noun', 'pron', 'verb', 'adv', 'adv', '.', '.', '.']\n",
            "\n",
            "Words: if we are discussing differentiable complex-valued functions , then af and v are complex vector spaces , and af may be any complex numbers .\n",
            "Predicted Tags: ['adp', 'pron', 'verb', 'verb', 'adj', 'noun', 'noun', '.', 'adv', 'noun', 'conj', 'noun', 'verb', 'adj', 'noun', 'noun', '.', 'conj', 'noun', 'verb', 'verb', 'det', 'adj', 'noun', '.']\n",
            "\n",
            "Words: each family line can be considered a substructure .\n",
            "Predicted Tags: ['det', 'noun', 'noun', 'verb', 'verb', 'verb', 'det', 'adj', '.']\n",
            "\n",
            "Words: but surely michigan avenue was handsome ? ?\n",
            "Predicted Tags: ['conj', 'adv', 'noun', 'noun', 'verb', 'adj', '.', '.']\n",
            "\n",
            "Words: furthermore , we find his defense of the unbalanced budget more dismaying than reassuring .\n",
            "Predicted Tags: ['adv', '.', 'pron', 'verb', 'det', 'noun', 'adp', 'det', 'verb', 'noun', 'adj', 'adj', 'adp', 'verb', '.']\n",
            "\n",
            "Words: they're asking for union trouble .\n",
            "Predicted Tags: ['prt', 'verb', 'adp', 'noun', 'noun', '.']\n",
            "\n",
            "Words: here would be a powerful force for raising business activity .\n",
            "Predicted Tags: ['adv', 'verb', 'verb', 'det', 'adj', 'noun', 'adp', 'verb', 'noun', 'noun', '.']\n",
            "\n",
            "Words: the man stuck the nozzle in the gas tank .\n",
            "Predicted Tags: ['det', 'noun', 'verb', 'det', 'noun', 'adp', 'det', 'noun', 'noun', '.']\n",
            "\n",
            "Words: `` hell , plenty of guys get let out and come back later .\n",
            "Predicted Tags: ['.', 'prt', '.', 'adv', 'adp', 'noun', 'verb', 'verb', 'prt', 'conj', 'verb', 'adv', 'adv', '.']\n",
            "\n",
            "Words: the champagne at troyes , the traditional capital of the champagne country , has more ambrosial taste somehow than it has at a sidewalk cafe on the rue de la paix or at tour d'argent .\n",
            "Predicted Tags: ['det', 'noun', 'adp', 'noun', '.', 'det', 'adj', 'noun', 'adp', 'det', 'noun', 'noun', '.', 'verb', 'adv', 'adj', 'noun', 'adv', 'adp', 'pron', 'verb', 'adp', 'det', 'noun', 'noun', 'adp', 'det', 'x', 'x', 'x', 'x', 'conj', 'adp', 'verb', 'noun', '.']\n",
            "\n",
            "Words: as she was rather tired this evening , her simple `` thank you for the use of your bath '' -- when she sat down opposite him -- spoken in a low voice , came across with coolnesses of intelligence and control .\n",
            "Predicted Tags: ['adp', 'pron', 'verb', 'adv', 'verb', 'det', 'noun', '.', 'det', 'adj', '.', 'verb', 'pron', 'adp', 'det', 'noun', 'adp', 'det', 'noun', '.', '.', 'adv', 'pron', 'verb', 'prt', 'adp', 'pron', '.', 'verb', 'adp', 'det', 'adj', 'noun', '.', 'verb', 'adp', 'adp', 'noun', 'adp', 'noun', 'conj', 'noun', '.']\n",
            "\n",
            "Words: \" i 'm going hunting with you ! \"\n",
            "Predicted Tags: ['.', 'pron', 'verb', 'verb', 'noun', 'adp', 'pron', '.', '.']\n",
            "\n",
            "Words: not captured , sent here .\n",
            "Predicted Tags: ['adv', 'verb', '.', 'verb', 'adv', '.']\n",
            "\n",
            "Words: morgan took the suggested steps , but when mrs. sanderson appeared , there was nobody with her but her husband , whom he promptly sent to headquarters to be questioned .\n",
            "Predicted Tags: ['noun', 'verb', 'det', 'adj', 'noun', '.', 'conj', 'adv', 'noun', 'noun', 'verb', '.', 'prt', 'verb', 'noun', 'adp', 'det', 'conj', 'det', 'noun', '.', 'pron', 'pron', 'adv', 'verb', 'prt', 'noun', 'adp', 'verb', 'verb', '.']\n",
            "\n",
            "Words: how to feed : beef cattle ( finishing ration )\n",
            "Predicted Tags: ['adv', 'prt', 'verb', '.', 'noun', 'noun', '.', 'verb', 'noun', '.']\n",
            "\n",
            "Words: url\n",
            "Predicted Tags: ['noun']\n",
            "\n",
            "Words: example .\n",
            "Predicted Tags: ['noun', '.']\n",
            "\n",
            "Words: click your reply tab , fill the columns below and send back or your email account will be terminated immediately to avoid spread of the virus .\n",
            "Predicted Tags: ['noun', 'pron', 'noun', 'noun', '.', 'noun', 'det', 'noun', 'adp', 'conj', 'verb', 'noun', 'conj', 'det', 'noun', 'noun', 'verb', 'verb', 'verb', 'adv', 'adp', 'verb', 'verb', 'adp', 'det', 'noun', '.']\n",
            "\n",
            "Words: so did hostages casey , cleveland , and mullen .\n",
            "Predicted Tags: ['adv', 'verb', 'noun', 'noun', '.', 'noun', '.', 'conj', 'noun', '.']\n",
            "\n",
            "Words: the two were separated from each other by the six bagatelles of op. 126 .\n",
            "Predicted Tags: ['det', 'num', 'verb', 'verb', 'adp', 'det', 'adj', 'adp', 'det', 'num', 'noun', 'adp', 'noun', 'num', '.']\n",
            "\n",
            "Words: their proclaimed purpose is to cleanse east germany of its stalinist muck , not to merge with the west .\n",
            "Predicted Tags: ['det', 'verb', 'noun', 'verb', 'prt', 'verb', 'noun', 'noun', 'adp', 'det', 'adj', 'noun', '.', 'adv', 'adp', 'verb', 'adp', 'det', 'noun', '.']\n",
            "\n",
            "Words: we had stopped before a shop window to assess its autumnal display , when you suddenly turned to me , looking up from beneath one of your wrong hats , and with your nervous `` ahem '' ! !\n",
            "Predicted Tags: ['pron', 'verb', 'verb', 'adp', 'det', 'noun', 'noun', 'prt', 'verb', 'pron', 'adj', 'noun', '.', 'adv', 'pron', 'adv', 'verb', 'adp', 'pron', '.', 'verb', 'prt', 'adp', 'adp', 'num', 'adp', 'det', 'adj', 'noun', '.', 'conj', 'adp', 'det', 'adj', '.', 'prt', '.', '.', '.']\n",
            "\n",
            "Words: the results compare with a year-earlier net loss of $ 1.5 million , or seven cents a share , based on 20.3 million common and dilutive equivalents outstanding .\n",
            "Predicted Tags: ['det', 'noun', 'verb', 'adp', 'det', 'adj', 'adj', 'noun', 'adp', '.', 'num', 'num', '.', 'conj', 'num', 'noun', 'det', 'noun', '.', 'verb', 'adp', 'num', 'num', 'adj', 'conj', 'adj', 'noun', 'adj', '.']\n",
            "\n",
            "Words: they usually pick their own\n",
            "Predicted Tags: ['pron', 'adv', 'verb', 'det', 'adj']\n",
            "\n",
            "Words: the opening action is obtained when a capacitor , charged to high voltage , is suddenly discharged through the foil .\n",
            "Predicted Tags: ['det', 'verb', 'noun', 'verb', 'verb', 'adv', 'det', 'noun', '.', 'verb', 'prt', 'adj', 'noun', '.', 'verb', 'adv', 'verb', 'adp', 'det', 'noun', '.']\n",
            "\n",
            "Words: sales rose 9 % to $ 2.57 billion from $ 2.36 billion .\n",
            "Predicted Tags: ['noun', 'verb', 'num', 'noun', 'prt', '.', 'num', 'num', 'adp', '.', 'num', 'num', '.']\n",
            "\n",
            "Words: * to make them directly comparable , each index is based *-1 on the close of 1969 equaling 100 .\n",
            "Predicted Tags: ['noun', 'prt', 'verb', 'pron', 'adv', 'adj', '.', 'det', 'noun', 'verb', 'verb', 'x', 'adp', 'det', 'noun', 'adp', 'num', 'verb', 'num', '.']\n",
            "\n",
            "Words: zooey passed her cadaver test .\n",
            "Predicted Tags: ['noun', 'verb', 'pron', 'noun', 'noun', '.']\n",
            "\n",
            "Words: society here and abroad has been built around the dominating male -- even the bible appears to endorse the concept .\n",
            "Predicted Tags: ['noun', 'adv', 'conj', 'adv', 'verb', 'verb', 'verb', 'adp', 'det', 'verb', 'noun', '.', 'adv', 'det', 'noun', 'verb', 'prt', 'verb', 'det', 'noun', '.']\n",
            "\n",
            "Words: `` have you ever tried to reason with an eskimo '' ? ?\n",
            "Predicted Tags: ['.', 'verb', 'pron', 'adv', 'verb', 'prt', 'verb', 'adp', 'det', 'noun', '.', '.', '.']\n",
            "\n",
            "Words: on occasion it produces extraordinary novelties .\n",
            "Predicted Tags: ['adp', 'noun', 'pron', 'verb', 'adj', 'noun', '.']\n",
            "\n",
            "Words: we had civil administrators come in to set up their ways of building their towns back .\n",
            "Predicted Tags: ['pron', 'verb', 'adj', 'noun', 'verb', 'adp', 'prt', 'verb', 'prt', 'det', 'noun', 'adp', 'verb', 'pron', 'noun', 'adv', '.']\n",
            "\n",
            "Words: another problem is who will pay for the training .\n",
            "Predicted Tags: ['det', 'noun', 'verb', 'pron', 'verb', 'verb', 'adp', 'det', 'noun', '.']\n",
            "\n",
            "Words: `` would you first read the poem aloud to me and then let me read it to myself '' ? ?\n",
            "Predicted Tags: ['.', 'verb', 'pron', 'adv', 'verb', 'det', 'noun', 'adv', 'prt', 'pron', 'conj', 'adv', 'verb', 'pron', 'verb', 'pron', 'prt', 'pron', '.', '.', '.']\n",
            "\n",
            "Words: there is little incentive to buy gold because if the stock market goes higher , it may be just a false alarm .\n",
            "Predicted Tags: ['prt', 'verb', 'adj', 'noun', 'prt', 'verb', 'noun', 'adp', 'adp', 'det', 'noun', 'noun', 'verb', 'adj', '.', 'pron', 'verb', 'verb', 'adv', 'det', 'adj', 'noun', '.']\n",
            "\n",
            "Words: she then went over them thoroughly giving each a strenuous test in showmanship .\n",
            "Predicted Tags: ['pron', 'adv', 'verb', 'prt', 'pron', 'adv', 'verb', 'det', 'det', 'adj', 'noun', 'adp', 'noun', '.']\n",
            "\n",
            "Words: chin up , soapy .\n",
            "Predicted Tags: ['noun', 'adp', '.', 'noun', '.']\n",
            "\n",
            "Words: one of us will call you to discuss how your company can continue to be an important , highly visible partner with the jcc in support of our scholarship programs .\n",
            "Predicted Tags: ['num', 'adp', 'pron', 'verb', 'verb', 'pron', 'prt', 'verb', 'adv', 'det', 'noun', 'verb', 'verb', 'prt', 'verb', 'det', 'adj', '.', 'adv', 'adj', 'noun', 'adp', 'det', 'noun', 'adp', 'noun', 'adp', 'pron', 'noun', 'noun', '.']\n",
            "\n",
            "Words: the metallic walls curve , twist , and turn .\n",
            "Predicted Tags: ['det', 'adj', 'noun', 'noun', '.', 'noun', '.', 'conj', 'verb', '.']\n",
            "\n",
            "Words: at 934 m ( 3,064 ft ) , lantau peak is high enough to attract the occasional rain cloud — refreshingly cool breezes blow on most hot summer days .\n",
            "Predicted Tags: ['adp', 'noun', 'noun', '.', 'noun', 'noun', '.', '.', 'noun', 'noun', 'verb', 'adj', 'adv', 'prt', 'verb', 'det', 'adj', 'noun', 'noun', 'noun', 'adv', 'adj', 'noun', 'verb', 'adp', 'adv', 'adj', 'noun', 'noun', '.']\n",
            "\n",
            "Words: \" a great artist will grace this world , then ? \"\n",
            "Predicted Tags: ['.', 'det', 'adj', 'noun', 'verb', 'verb', 'det', 'noun', '.', 'adv', '.', '.']\n",
            "\n",
            "Words: in order to attract new industries , 15 states or more are issuing tax free bonds to build government owned plants which are leased to private enterprise .\n",
            "Predicted Tags: ['adp', 'noun', 'prt', 'verb', 'adj', 'noun', '.', 'num', 'noun', 'conj', 'adv', 'verb', 'verb', 'noun', 'adj', 'noun', 'prt', 'verb', 'noun', 'verb', 'noun', 'det', 'verb', 'verb', 'prt', 'adj', 'noun', '.']\n",
            "\n",
            "Words: he snorted .\n",
            "Predicted Tags: ['pron', 'verb', '.']\n",
            "\n",
            "Words: the commission shall , as soon as possible , and in the order of the making of such awards , certify to the secretary of the treasury and to the secretary of state copies of the awards made in favor of the government of the united states or of nationals of the united states under this title .\n",
            "Predicted Tags: ['det', 'noun', 'verb', '.', 'adv', 'adv', 'adp', 'adj', '.', 'conj', 'adp', 'det', 'noun', 'adp', 'det', 'noun', 'adp', 'adj', 'noun', '.', 'verb', 'adp', 'det', 'noun', 'adp', 'det', 'noun', 'conj', 'adp', 'det', 'noun', 'adp', 'noun', 'noun', 'adp', 'det', 'noun', 'verb', 'adp', 'noun', 'adp', 'det', 'noun', 'adp', 'det', 'verb', 'noun', 'conj', 'adp', 'noun', 'adp', 'det', 'noun', 'noun', 'adp', 'det', 'noun', '.']\n",
            "\n",
            "Words: but you don't have to worship in the traditional way .\n",
            "Predicted Tags: ['conj', 'pron', 'verb', 'verb', 'prt', 'noun', 'adp', 'det', 'adj', 'noun', '.']\n",
            "\n",
            "Words: i chuckled aloud , and the mouthpiece fell out .\n",
            "Predicted Tags: ['pron', 'verb', 'adv', '.', 'conj', 'det', 'noun', 'verb', 'prt', '.']\n",
            "\n",
            "Words: it is to stride along the steep slope downward .\n",
            "Predicted Tags: ['pron', 'verb', 'prt', 'verb', 'adp', 'det', 'adj', 'noun', 'adj', '.']\n",
            "\n",
            "Words: the war over federal judicial salaries takes a victim .\n",
            "Predicted Tags: ['det', 'noun', 'adp', 'adj', 'adj', 'noun', 'verb', 'det', 'noun', '.']\n",
            "\n",
            "Words: you could email me back , and let me know if you would like me to call you , email back and forth , visit your organization , or whatever else would be appropriate .\n",
            "Predicted Tags: ['pron', 'verb', 'noun', 'pron', 'adv', '.', 'conj', 'verb', 'pron', 'verb', 'adp', 'pron', 'verb', 'verb', 'pron', 'prt', 'verb', 'pron', '.', 'noun', 'adv', 'conj', 'adv', '.', 'noun', 'pron', 'noun', '.', 'conj', 'det', 'adv', 'verb', 'verb', 'adj', '.']\n",
            "\n",
            "Words: ) 50% of capital gains .\n",
            "Predicted Tags: ['.', 'noun', 'adp', 'noun', 'noun', '.']\n",
            "\n",
            "Words: 11 . one should never generalize .\n",
            "Predicted Tags: ['num', '.', 'num', 'verb', 'adv', 'verb', '.']\n",
            "\n",
            "Words: his thoughts for the swanlike neck , the full , high breasts , the slim waist , and the long legs were less than poetic , however .\n",
            "Predicted Tags: ['det', 'noun', 'adp', 'det', 'noun', 'noun', '.', 'det', 'adj', '.', 'adj', 'noun', '.', 'det', 'adj', 'noun', '.', 'conj', 'det', 'adj', 'noun', 'verb', 'adv', 'adp', 'adj', '.', 'adv', '.']\n",
            "\n",
            "Words: fing , a lean , chiseled , impeccable gentleman of the old school who was once mistaken on the street for sir cedric hardwicke , is responsible for the rediscovery of verdi's earliest , most raucous opera , nabisco , a sumptuous bout-de-souffle with a haunting leitmotiv that struck me as being highly reminiscent of the mudugno version of `` volare '' .\n",
            "Predicted Tags: ['noun', '.', 'det', 'adj', '.', 'verb', '.', 'adj', 'noun', 'adp', 'det', 'adj', 'noun', 'pron', 'verb', 'adv', 'verb', 'adp', 'det', 'noun', 'adp', 'noun', 'noun', 'noun', '.', 'verb', 'adj', 'adp', 'det', 'noun', 'adp', 'noun', 'adj', '.', 'adj', 'adj', 'noun', '.', 'noun', '.', 'det', 'adj', 'noun', 'adp', 'det', 'adj', 'noun', 'pron', 'verb', 'pron', 'adp', 'verb', 'adv', 'adj', 'adp', 'det', 'noun', 'noun', 'adp', '.', 'noun', '.', '.']\n",
            "\n",
            "Words: when two parties engage in an interest-rate swap *t*-1 , they are betting against each other on future rates .\n",
            "Predicted Tags: ['adv', 'num', 'noun', 'verb', 'adp', 'det', 'noun', 'noun', 'x', '.', 'pron', 'verb', 'verb', 'adp', 'det', 'adj', 'adp', 'adj', 'noun', '.']\n",
            "\n",
            "Words: the dogs were tired .\n",
            "Predicted Tags: ['det', 'noun', 'verb', 'verb', '.']\n",
            "\n",
            "Words: the fish have swallowed vast numbers of bottom-living diatoms , raised to the surface by the disturbance .\n",
            "Predicted Tags: ['det', 'noun', 'verb', 'verb', 'adj', 'noun', 'adp', 'adj', 'noun', '.', 'verb', 'adp', 'det', 'noun', 'adp', 'det', 'noun', '.']\n",
            "\n",
            "Words: that had only been a ruse to lure him out on the deserted road .\n",
            "Predicted Tags: ['det', 'verb', 'adv', 'verb', 'det', 'noun', 'prt', 'verb', 'pron', 'prt', 'adp', 'det', 'verb', 'noun', '.']\n",
            "\n",
            "Words: the problem in the policy officer's mind thus begins to take shape as a galaxy of utterly complicated factors -- political , military , economic , financial , legal , legislative , procedural , administrative -- to be sorted out and handled within a political system which moves by consent in relation to an external environment which cannot be under control .\n",
            "Predicted Tags: ['det', 'noun', 'adp', 'det', 'noun', 'noun', 'noun', 'adv', 'verb', 'prt', 'verb', 'noun', 'adp', 'det', 'noun', 'adp', 'adv', 'verb', 'noun', '.', 'adj', '.', 'adj', '.', 'adj', '.', 'adj', '.', 'adj', '.', 'adj', '.', 'adj', '.', 'adj', '.', 'prt', 'verb', 'verb', 'prt', 'conj', 'verb', 'adp', 'det', 'adj', 'noun', 'det', 'verb', 'adp', 'noun', 'adp', 'noun', 'adp', 'det', 'adj', 'noun', 'det', 'verb', 'verb', 'adp', 'noun', '.']\n",
            "\n",
            "Words: mr. bush said he would allow the bill to become law without his signature , because he said only a constitutional amendment can protect the flag adequately .\n",
            "Predicted Tags: ['noun', 'noun', 'verb', 'pron', 'verb', 'verb', 'det', 'noun', 'prt', 'verb', 'noun', 'adp', 'pron', 'noun', '.', 'adp', 'pron', 'verb', 'adv', 'det', 'adj', 'noun', 'verb', 'verb', 'det', 'noun', 'adv', '.']\n",
            "\n",
            "Words: china was the real victim and it *exp*-1 is unjust * to reprove china for it . ''\n",
            "Predicted Tags: ['noun', 'verb', 'det', 'adj', 'noun', 'conj', 'pron', 'x', 'verb', 'adj', 'x', 'prt', 'verb', 'noun', 'adp', 'pron', '.', '.']\n",
            "\n",
            "Words: these are not governmentally subsidized organizations .\n",
            "Predicted Tags: ['det', 'verb', 'adv', 'adj', 'adj', 'noun', '.']\n",
            "\n",
            "Words: it contains many photographs of writers , some quite early ; these enliven the appearance of the book but accomplish little else , unless one is interested in what samuel clemens looked like at the age of 15 ( as a printer 's devil ) or in the appearance of hart crane standing in the middle of a railroad track in cleveland in 1916 .\n",
            "Predicted Tags: ['pron', 'verb', 'adj', 'noun', 'adp', 'noun', '.', 'det', 'adv', 'adj', '.', 'det', 'noun', 'det', 'noun', 'adp', 'det', 'noun', 'conj', 'verb', 'adj', 'adv', '.', 'adp', 'noun', 'verb', 'verb', 'adp', 'det', 'noun', 'noun', 'verb', 'adp', 'adp', 'det', 'noun', 'adp', 'num', '.', 'adp', 'det', 'noun', 'prt', 'noun', '.', 'conj', 'adp', 'det', 'noun', 'adp', 'noun', 'noun', 'verb', 'adp', 'det', 'noun', 'adp', 'det', 'noun', 'noun', 'adp', 'noun', 'adp', 'num', '.']\n",
            "\n",
            "Words: the guards did not look at him .\n",
            "Predicted Tags: ['det', 'noun', 'verb', 'adv', 'verb', 'adp', 'pron', '.']\n",
            "\n",
            "Words: we began by declaring that all men are created equal .\n",
            "Predicted Tags: ['pron', 'verb', 'adp', 'verb', 'adp', 'det', 'noun', 'verb', 'verb', 'adj', '.']\n",
            "\n",
            "Words: each was told to purchase material if he felt like it .\n",
            "Predicted Tags: ['det', 'verb', 'verb', 'prt', 'verb', 'noun', 'adp', 'pron', 'verb', 'adp', 'pron', '.']\n",
            "\n",
            "Words: the big board said carpenters quickly erected a new options floor to accomodate 40 traders from the pacific exchange .\n",
            "Predicted Tags: ['det', 'adj', 'noun', 'verb', 'noun', 'adv', 'verb', 'det', 'adj', 'noun', 'noun', 'adp', 'verb', 'num', 'noun', 'adp', 'det', 'noun', 'noun', '.']\n",
            "\n",
            "Words: bad for every mother 's son what calls himself a pirate .\n",
            "Predicted Tags: ['adj', 'adp', 'det', 'noun', 'prt', 'noun', 'pron', 'verb', 'pron', 'det', 'noun', '.']\n",
            "\n",
            "Words: the black spot !\n",
            "Predicted Tags: ['det', 'adj', 'noun', '.']\n",
            "\n",
            "Words: the dollar rose .\n",
            "Predicted Tags: ['det', 'noun', 'verb', '.']\n",
            "\n",
            "Words: with a short-lived sigh of relief , jack plugged the fuses back in and threw the switch .\n",
            "Predicted Tags: ['adp', 'det', 'adj', 'noun', 'adp', 'noun', '.', 'noun', 'verb', 'det', 'noun', 'adv', 'adp', 'conj', 'verb', 'det', 'noun', '.']\n",
            "\n",
            "Words: the terrible power of a gun , the thing that blasted the soul out of a living body , man or beast , was one he never wanted to lose .\n",
            "Predicted Tags: ['det', 'adj', 'noun', 'adp', 'det', 'noun', '.', 'det', 'noun', 'pron', 'verb', 'det', 'noun', 'prt', 'adp', 'det', 'verb', 'noun', '.', 'noun', 'conj', 'noun', '.', 'verb', 'num', 'pron', 'adv', 'verb', 'prt', 'verb', '.']\n",
            "\n",
            "Words: he himself might not have been really aware of his own mood ; ;\n",
            "Predicted Tags: ['pron', 'pron', 'verb', 'adv', 'verb', 'verb', 'adv', 'adj', 'adp', 'det', 'adj', 'noun', '.', '.']\n",
            "\n",
            "Words: -- for calves , feed not less than 50 grams of aureomycin per ton complete feed as an aid in preventing bacterial diarrhea and foot rot .\n",
            "Predicted Tags: ['.', 'adp', 'noun', '.', 'verb', 'adv', 'adv', 'adp', 'num', 'noun', 'adp', 'noun', 'adp', 'noun', 'adj', 'noun', 'adv', 'det', 'noun', 'adp', 'verb', 'adj', 'noun', 'conj', 'noun', 'noun', '.']\n",
            "\n",
            "Words: each has its peculiar style .\n",
            "Predicted Tags: ['det', 'verb', 'det', 'adj', 'noun', '.']\n",
            "\n",
            "Words: but sony ultimately took a lesson from the american management books and fired mr. katzenstein , after he committed the social crime of * making an appointment * to see the venerable akio morita , founder of sony .\n",
            "Predicted Tags: ['conj', 'noun', 'adv', 'verb', 'det', 'noun', 'adp', 'det', 'adj', 'noun', 'noun', 'conj', 'verb', 'noun', 'noun', '.', 'adp', 'pron', 'verb', 'det', 'adj', 'noun', 'adp', 'x', 'verb', 'det', 'noun', 'x', 'prt', 'verb', 'det', 'adj', 'noun', 'noun', '.', 'noun', 'adp', 'noun', '.']\n",
            "\n",
            "Words: mr. black's life was an open book , so to speak , from his birth in jackson , mississippi , through his basketball-playing days at l.s.u. and his attainment of a b.a. degree , which had presumably prepared him for his career as district sales manager for peerless business machines .\n",
            "Predicted Tags: ['noun', 'noun', 'noun', 'verb', 'det', 'adj', 'noun', '.', 'adv', 'prt', 'verb', '.', 'adp', 'det', 'noun', 'adp', 'noun', '.', 'noun', '.', 'adp', 'pron', 'adj', 'noun', 'adp', 'num', 'conj', 'det', 'noun', 'adp', 'det', 'noun', 'noun', '.', 'det', 'verb', 'adv', 'verb', 'pron', 'adp', 'det', 'noun', 'adp', 'adj', 'noun', 'noun', 'adp', 'adj', 'noun', 'noun', '.']\n",
            "\n",
            "Words: dekalb's budget for 1961 is a record one and carries with it the promise of no tax increase to make it balance .\n",
            "Predicted Tags: ['noun', 'noun', 'adp', 'num', 'verb', 'det', 'noun', 'num', 'conj', 'verb', 'adp', 'pron', 'det', 'noun', 'adp', 'det', 'noun', 'noun', 'adp', 'verb', 'pron', 'verb', '.']\n",
            "\n",
            "Words: alfred wallenstein , the conductor , sensitive accompanist that he is , picked up the idea and led the orchestra here with a sense of brooding , poetic mystery .\n",
            "Predicted Tags: ['noun', 'noun', '.', 'det', 'noun', '.', 'adj', 'noun', 'pron', 'pron', 'verb', '.', 'verb', 'prt', 'det', 'noun', 'conj', 'verb', 'det', 'noun', 'adv', 'adp', 'det', 'noun', 'adp', 'verb', '.', 'adj', 'noun', '.']\n",
            "\n",
            "Words: mr. podger smiled .\n",
            "Predicted Tags: ['noun', 'noun', 'verb', '.']\n",
            "\n",
            "Words: as i see it , there's no real difference between being jewish , catholic , or protestant '' .\n",
            "Predicted Tags: ['adp', 'pron', 'verb', 'pron', '.', 'prt', 'det', 'adj', 'noun', 'adp', 'verb', 'adj', '.', 'adj', '.', 'conj', 'adj', '.', '.']\n",
            "\n",
            "Words: available evidence regarding the natural world , the course of history , and the varieties of human action were translated into imaginative designs or mythologies .\n",
            "Predicted Tags: ['adj', 'noun', 'adp', 'det', 'adj', 'noun', '.', 'det', 'noun', 'adp', 'noun', '.', 'conj', 'det', 'noun', 'adp', 'adj', 'noun', 'verb', 'verb', 'adp', 'adj', 'noun', 'conj', 'noun', '.']\n",
            "\n",
            "Words: but , in departing , lewis begged breasted that there be no liquor in the apartment at the grosvenor on his return , and he took with him the first thirty galleys of elmer gantry .\n",
            "Predicted Tags: ['conj', '.', 'adp', 'verb', '.', 'noun', 'verb', 'noun', 'det', 'det', 'verb', 'det', 'noun', 'adp', 'det', 'noun', 'adp', 'det', 'noun', 'adp', 'det', 'noun', '.', 'conj', 'pron', 'verb', 'adp', 'pron', 'det', 'adj', 'num', 'noun', 'adp', 'noun', 'noun', '.']\n",
            "\n",
            "Words: in testimony whereof , i have hereunto set my hand and caused the seal of the state to be affixed this 11th day of june , in the year of our lord , one thousand nine hundred and sixty-one , and of independence , the one hundred and eighty-sixth .\n",
            "Predicted Tags: ['adp', 'noun', 'adv', '.', 'pron', 'verb', 'adv', 'verb', 'det', 'noun', 'conj', 'verb', 'det', 'noun', 'adp', 'det', 'noun', 'prt', 'verb', 'verb', 'det', 'adj', 'noun', 'adp', 'noun', '.', 'adp', 'det', 'noun', 'adp', 'det', 'noun', '.', 'num', 'num', 'num', 'num', 'conj', 'num', '.', 'conj', 'adp', 'noun', '.', 'det', 'num', 'num', 'conj', 'adj', '.']\n",
            "\n",
            "Words: when he returned home , the station wagon loaded with tools , jinny had gone with a friend to some meeting in the village , using the recently purchased second car .\n",
            "Predicted Tags: ['adv', 'pron', 'verb', 'noun', '.', 'det', 'noun', 'noun', 'verb', 'adp', 'noun', '.', 'prt', 'verb', 'verb', 'adp', 'det', 'noun', 'adp', 'det', 'noun', 'adp', 'det', 'noun', '.', 'verb', 'det', 'adv', 'verb', 'adj', 'noun', '.']\n",
            "\n",
            "Words: gen. horatio sanchez we need you help , dr. grant .\n",
            "Predicted Tags: ['noun', 'noun', 'noun', 'pron', 'verb', 'pron', 'verb', '.', 'noun', 'noun', '.']\n",
            "\n",
            "Words: there is a similar program being prepared in london .\n",
            "Predicted Tags: ['prt', 'verb', 'det', 'adj', 'noun', 'verb', 'verb', 'adp', 'noun', '.']\n",
            "\n",
            "Words: `` can't you stop that stupid clowning for even a minute '' ? ?\n",
            "Predicted Tags: ['.', 'verb', 'pron', 'verb', 'det', 'adj', 'verb', 'adp', 'adv', 'det', 'noun', '.', '.', '.']\n",
            "\n",
            "Words: in any event rector sent him to the local hospital to have it checked , telling him to keep his ears open while he was in the village to see if he could find out what kayabashi was planning .\n",
            "Predicted Tags: ['adp', 'det', 'noun', 'noun', 'verb', 'pron', 'prt', 'det', 'adj', 'noun', 'prt', 'verb', 'pron', 'verb', '.', 'verb', 'pron', 'prt', 'verb', 'det', 'noun', 'adj', 'adp', 'pron', 'verb', 'adp', 'det', 'noun', 'prt', 'verb', 'adp', 'pron', 'verb', 'verb', 'prt', 'det', 'noun', 'verb', 'verb', '.']\n",
            "\n",
            "Words: ellie sattler alan , the spino and the rexes do n't need supplemental enzymes to survive .\n",
            "Predicted Tags: ['noun', 'noun', 'noun', '.', 'det', 'noun', 'conj', 'det', 'noun', 'verb', 'adv', 'verb', 'adj', 'noun', 'prt', 'verb', '.']\n",
            "\n",
            "Words: more miracles ahead ? the ascertainment and quantification of any incremental benefit conferred by statin therapy initiated early after an acute coronary syndrome will require confirmation .\n",
            "Predicted Tags: ['adj', 'noun', 'adv', '.', 'det', 'noun', 'conj', 'noun', 'adp', 'det', 'adj', 'noun', 'verb', 'adp', 'noun', 'noun', 'verb', 'noun', 'adp', 'det', 'adj', 'adj', 'noun', 'verb', 'verb', 'noun', '.']\n",
            "\n",
            "Words: pierce , carsten and wynston , 1960 ) .\n",
            "Predicted Tags: ['noun', '.', 'noun', 'conj', 'noun', '.', 'num', '.', '.']\n",
            "\n",
            "Words: `` no .\n",
            "Predicted Tags: ['.', 'adv', '.']\n",
            "\n",
            "Words: \" it amuses me .\n",
            "Predicted Tags: ['.', 'pron', 'adj', 'pron', '.']\n",
            "\n",
            "Words: his head rose and his eyes focused over chad 's shoulder .\n",
            "Predicted Tags: ['det', 'noun', 'verb', 'conj', 'det', 'noun', 'verb', 'adp', 'noun', 'prt', 'noun', '.']\n",
            "\n",
            "Words: but some money managers are doing just that .\n",
            "Predicted Tags: ['conj', 'det', 'noun', 'noun', 'verb', 'verb', 'adv', 'adp', '.']\n",
            "\n",
            "Words: linda evans felt more wretched than she had ever dreamed bobbie's death could move her to feeling .\n",
            "Predicted Tags: ['noun', 'noun', 'verb', 'adv', 'adj', 'adp', 'pron', 'verb', 'adv', 'verb', 'noun', 'noun', 'verb', 'verb', 'det', 'adp', 'verb', '.']\n",
            "\n",
            "Words: i will send you the best the quarter has to offer '' .\n",
            "Predicted Tags: ['pron', 'verb', 'verb', 'pron', 'det', 'adj', 'det', 'noun', 'verb', 'prt', 'verb', '.', '.']\n",
            "\n",
            "Words: dear vince\n",
            "Predicted Tags: ['adv', 'noun']\n",
            "\n",
            "Words: the failure at that time of the puerto rican bishops to control the votes of their people added a ring of good sense to father weigel's theological argument .\n",
            "Predicted Tags: ['det', 'noun', 'adp', 'det', 'noun', 'adp', 'det', 'noun', 'noun', 'noun', 'adp', 'verb', 'det', 'noun', 'adp', 'det', 'noun', 'verb', 'det', 'noun', 'adp', 'adj', 'noun', 'prt', 'verb', 'noun', 'adj', 'noun', '.']\n",
            "\n",
            "Words: `` let's go , marshal '' , brannon said , and took him by the arm .\n",
            "Predicted Tags: ['.', 'verb', 'verb', '.', 'noun', '.', '.', 'noun', 'verb', '.', 'conj', 'verb', 'pron', 'adp', 'det', 'noun', '.']\n",
            "\n",
            "Words: but david hawkins , an environmental lawyer with the natural resources defense council , said the research appears merely to be a way to promote reformulated gasoline .\n",
            "Predicted Tags: ['conj', 'noun', 'noun', '.', 'det', 'adj', 'noun', 'adp', 'det', 'adj', 'noun', 'noun', 'noun', '.', 'verb', 'det', 'noun', 'verb', 'adv', 'prt', 'verb', 'det', 'noun', 'prt', 'verb', 'verb', 'noun', '.']\n",
            "\n",
            "Words: `` what a fool i've been '' , she said quietly .\n",
            "Predicted Tags: ['.', 'det', 'det', 'noun', 'prt', 'verb', '.', '.', 'pron', 'verb', 'adv', '.']\n",
            "\n",
            "Words: `` i'll decide that when i get there .\n",
            "Predicted Tags: ['.', 'prt', 'verb', 'det', 'adv', 'pron', 'verb', 'adv', '.']\n",
            "\n",
            "Words: grey k 2008-11-09 t 19:15:43 z id : 45740 prequels : 45732 sequels : 45783 when you return to the city one boring train ride later , it is stifling .\n",
            "Predicted Tags: ['noun', 'noun', 'noun', 'noun', 'noun', 'noun', 'noun', '.', 'num', 'noun', '.', 'num', 'noun', '.', 'num', 'adv', 'pron', 'verb', 'prt', 'det', 'noun', 'num', 'adj', 'noun', 'noun', 'adv', '.', 'pron', 'verb', 'verb', '.']\n",
            "\n",
            "Words: both man and wife should be aware of the fact that a lack of climax , and even the absence of the anticipated keen pleasure are not a sign that the wife may be cold or frigid .\n",
            "Predicted Tags: ['det', 'noun', 'conj', 'noun', 'verb', 'verb', 'adj', 'adp', 'det', 'noun', 'adp', 'det', 'noun', 'adp', 'noun', '.', 'conj', 'adv', 'det', 'noun', 'adp', 'det', 'verb', 'adj', 'noun', 'verb', 'adv', 'det', 'noun', 'adp', 'det', 'noun', 'verb', 'verb', 'adj', 'conj', 'adj', '.']\n",
            "\n",
            "Words: both said the new plan would n't work .\n",
            "Predicted Tags: ['det', 'verb', 'det', 'adj', 'noun', 'verb', 'adv', 'verb', '.']\n",
            "\n",
            "Words: read it out loud , please .\n",
            "Predicted Tags: ['noun', 'pron', 'adp', 'adj', '.', 'verb', '.']\n",
            "\n",
            "Words: i hit him with the back of my hand .\n",
            "Predicted Tags: ['pron', 'verb', 'pron', 'adp', 'det', 'noun', 'adp', 'det', 'noun', '.']\n",
            "\n",
            "Words: her voice was flat and dull .\n",
            "Predicted Tags: ['det', 'noun', 'verb', 'adj', 'conj', 'adj', '.']\n",
            "\n",
            "Words: toward the end of the semester's work , he interviewed every married class member at great length .\n",
            "Predicted Tags: ['adp', 'det', 'noun', 'adp', 'det', 'noun', 'noun', '.', 'pron', 'verb', 'det', 'verb', 'noun', 'noun', 'adp', 'adj', 'noun', '.']\n",
            "\n",
            "Words: but it was also military .\n",
            "Predicted Tags: ['conj', 'pron', 'verb', 'adv', 'adj', '.']\n",
            "\n",
            "Words: so there is no way of telling it t- -\n",
            "Predicted Tags: ['adv', 'prt', 'verb', 'det', 'noun', 'adp', 'verb', 'pron', 'noun', '.']\n",
            "\n",
            "Words: gilman started talking to him until he saw his chance .\n",
            "Predicted Tags: ['noun', 'verb', 'verb', 'prt', 'pron', 'adp', 'pron', 'verb', 'det', 'noun', '.']\n",
            "\n",
            "Words: this cluster is superimposed over the structural axis of the basin , which trends toward the ucamara depression .\n",
            "Predicted Tags: ['det', 'noun', 'verb', 'verb', 'adp', 'det', 'adj', 'noun', 'adp', 'det', 'noun', '.', 'det', 'noun', 'adp', 'det', 'noun', 'noun', '.']\n",
            "\n",
            "Words: super fast and pretty !\n",
            "Predicted Tags: ['noun', 'adv', 'conj', 'adv', '.']\n",
            "\n",
            "Words: he could lead a patrol and he knew his paper work .\n",
            "Predicted Tags: ['pron', 'verb', 'verb', 'det', 'noun', 'conj', 'pron', 'verb', 'det', 'noun', 'noun', '.']\n",
            "\n",
            "Words: `` sure '' , he said , and lifted the pint to his own lips .\n",
            "Predicted Tags: ['.', 'adv', '.', '.', 'pron', 'verb', '.', 'conj', 'verb', 'det', 'noun', 'prt', 'det', 'adj', 'noun', '.']\n",
            "\n",
            "Words: we should not delay the public health and environmental benefits from reduction of these emissions while we wait for consensus to develop on co 2 .\n",
            "Predicted Tags: ['pron', 'verb', 'adv', 'verb', 'det', 'adj', 'noun', 'conj', 'adj', 'noun', 'adp', 'noun', 'adp', 'det', 'noun', 'adp', 'pron', 'verb', 'adp', 'noun', 'prt', 'verb', 'adp', 'noun', 'num', '.']\n",
            "\n",
            "Words: chromatography of whole sera revealed that the areas of rh antibody activity were generally continuous and wide .\n",
            "Predicted Tags: ['noun', 'adp', 'adj', 'noun', 'verb', 'adp', 'det', 'noun', 'adp', 'noun', 'noun', 'noun', 'verb', 'adv', 'adj', 'conj', 'adj', '.']\n",
            "\n",
            "Words: whenever she found time , she went blackberry picking with him , and they would come home together , mouths purple , arms and faces scratched , tired enough to forget grief for another day .\n",
            "Predicted Tags: ['adv', 'pron', 'verb', 'noun', '.', 'pron', 'verb', 'noun', 'verb', 'adp', 'pron', '.', 'conj', 'pron', 'verb', 'verb', 'noun', 'adv', '.', 'noun', 'adj', '.', 'noun', 'conj', 'verb', 'verb', '.', 'adj', 'adv', 'prt', 'verb', 'noun', 'adp', 'det', 'noun', '.']\n",
            "\n",
            "Words: traffic frequently has failed to measure up to engineers' rosy estimates .\n",
            "Predicted Tags: ['noun', 'adv', 'verb', 'verb', 'prt', 'verb', 'prt', 'prt', 'noun', 'adj', 'noun', '.']\n",
            "\n",
            "Words: she was entering 7th grade and very nervous .\n",
            "Predicted Tags: ['pron', 'verb', 'verb', 'num', 'noun', 'conj', 'adv', 'adj', '.']\n",
            "\n",
            "Words: in short , and to borrow an arboreal phrase , slash timber .\n",
            "Predicted Tags: ['adp', 'adj', '.', 'conj', 'prt', 'verb', 'det', 'adj', 'noun', '.', 'verb', 'noun', '.']\n",
            "\n",
            "Words: the herb vendor will tell you where you can find it .\n",
            "Predicted Tags: ['det', 'noun', 'noun', 'verb', 'verb', 'pron', 'adv', 'pron', 'verb', 'verb', 'pron', '.']\n",
            "\n",
            "Words: i won ’ t make fun of you , ” she said .\n",
            "Predicted Tags: ['pron', 'verb', 'noun', 'noun', 'verb', 'noun', 'adp', 'pron', '.', 'noun', 'pron', 'verb', '.']\n",
            "\n",
            "Words: `` i'm taking them to the cemetery '' , said henrietta , out of a vague feeling of hospitality .\n",
            "Predicted Tags: ['.', 'prt', 'verb', 'pron', 'prt', 'det', 'noun', '.', '.', 'verb', 'noun', '.', 'adp', 'adp', 'det', 'adj', 'noun', 'adp', 'noun', '.']\n",
            "\n",
            "Words: “ do that again . ”\n",
            "Predicted Tags: ['noun', 'verb', 'det', 'adv', '.', 'noun']\n",
            "\n",
            "Words: wiry and burr-headed , with steel blue eyes and a chest splattered with medals , chandler is the epitome of the old-time trooper .\n",
            "Predicted Tags: ['adj', 'conj', 'noun', '.', 'adp', 'noun', 'adj', 'noun', 'conj', 'det', 'noun', 'adj', 'adp', 'noun', '.', 'noun', 'verb', 'det', 'noun', 'adp', 'det', 'adj', 'noun', '.']\n",
            "\n",
            "Words: much depends on the opposition , a loose group of regional and ideological parties led by former gandhi cabinet minister vishwanath pratap singh .\n",
            "Predicted Tags: ['adj', 'verb', 'adp', 'det', 'noun', '.', 'det', 'adj', 'noun', 'adp', 'adj', 'conj', 'adj', 'noun', 'verb', 'adp', 'adj', 'noun', 'noun', 'noun', 'noun', 'noun', 'noun', '.']\n",
            "\n",
            "Words: they can be exuberant or sentimental , flirtatious or funny , but the only thing they seem unable to be is dull .\n",
            "Predicted Tags: ['pron', 'verb', 'verb', 'adj', 'conj', 'adj', '.', 'adj', 'conj', 'adj', '.', 'conj', 'det', 'adv', 'noun', 'pron', 'verb', 'adj', 'prt', 'verb', 'verb', 'adj', '.']\n",
            "\n",
            "Words: the december contract rose 1.50 cents a pound to $ 1.2795 .\n",
            "Predicted Tags: ['det', 'noun', 'noun', 'verb', 'num', 'noun', 'det', 'noun', 'prt', '.', 'num', '.']\n",
            "\n",
            "Words: the oral nature of jurisprudence directly conflicts with the desire of the colombian government to codify law , and questions of human rights violations are common as punishments are often corporal in nature ( gow and rappaport 2002 : 57 - 58 ) .\n",
            "Predicted Tags: ['det', 'adj', 'noun', 'adp', 'noun', 'adv', 'noun', 'adp', 'det', 'noun', 'adp', 'det', 'adj', 'noun', 'adp', 'verb', 'noun', '.', 'conj', 'noun', 'adp', 'adj', 'noun', 'noun', 'verb', 'adj', 'adp', 'noun', 'verb', 'adv', 'noun', 'adp', 'noun', '.', 'noun', 'conj', 'noun', 'num', '.', 'num', '.', 'num', '.', '.']\n",
            "\n",
            "Words: reverend cotton preached to them about demetrius and the shrines of ephesus .\n",
            "Predicted Tags: ['noun', 'noun', 'verb', 'adp', 'pron', 'adp', 'adj', 'conj', 'det', 'noun', 'adp', 'noun', '.']\n",
            "\n",
            "Words: made it to heaven ? a woman was worried whether or not her dead husband made it to heaven , so she decided to try to contact his spirit by having a seance .\n",
            "Predicted Tags: ['verb', 'pron', 'adp', 'noun', '.', 'det', 'noun', 'verb', 'verb', 'adp', 'conj', 'adv', 'pron', 'adj', 'noun', 'verb', 'pron', 'prt', 'noun', '.', 'adv', 'pron', 'verb', 'prt', 'verb', 'prt', 'verb', 'pron', 'noun', 'adp', 'verb', 'det', 'noun', '.']\n",
            "\n",
            "Words: in the wake of the earthquake in california and the devastation of hurricane hugo , many companies in disaster-prone areas are pondering the question of preparedness .\n",
            "Predicted Tags: ['adp', 'det', 'noun', 'adp', 'det', 'noun', 'adp', 'noun', 'conj', 'det', 'noun', 'adp', 'noun', 'noun', '.', 'adj', 'noun', 'adp', 'noun', 'noun', 'verb', 'verb', 'det', 'noun', 'adp', 'noun', '.']\n",
            "\n",
            "Words: mickey backed off two steps , forcing him to come on again .\n",
            "Predicted Tags: ['noun', 'verb', 'prt', 'num', 'noun', '.', 'verb', 'pron', 'prt', 'verb', 'prt', 'adv', '.']\n",
            "\n",
            "Words: this void function will be called nestenter ( ) , and will take in no inputs .\n",
            "Predicted Tags: ['det', 'noun', 'noun', 'verb', 'verb', 'verb', 'adv', '.', '.', '.', 'conj', 'verb', 'verb', 'adp', 'det', 'noun', '.']\n",
            "\n",
            "Words: already , 10 local councils have refused *-1 to honor fees and payments to banks incurred * during various swaps dealings .\n",
            "Predicted Tags: ['adv', '.', 'num', 'adj', 'noun', 'verb', 'verb', 'x', 'prt', 'verb', 'noun', 'conj', 'noun', 'prt', 'noun', 'verb', 'x', 'adp', 'adj', 'noun', 'noun', '.']\n",
            "\n",
            "Words: nasaa estimates that nearly 90 % of planners receive some or all of their income from sales commissions on securities , insurance and other financial products they recommend .\n",
            "Predicted Tags: ['noun', 'noun', 'adp', 'adv', 'num', 'noun', 'adp', 'noun', 'verb', 'det', 'conj', 'det', 'adp', 'pron', 'noun', 'adp', 'noun', 'noun', 'adp', 'noun', '.', 'noun', 'conj', 'adj', 'adj', 'noun', 'pron', 'verb', '.']\n",
            "\n",
            "Words: but any resulting excess of revenues received from a given class of service over the operating costs imputed to this class is reported as a `` return '' realized on the capital investment attributed to the same service .\n",
            "Predicted Tags: ['conj', 'det', 'verb', 'adj', 'adp', 'noun', 'verb', 'adp', 'det', 'verb', 'noun', 'adp', 'noun', 'adp', 'det', 'verb', 'noun', 'verb', 'adp', 'det', 'noun', 'verb', 'verb', 'adp', 'det', '.', 'noun', '.', 'verb', 'adp', 'det', 'noun', 'noun', 'noun', 'prt', 'det', 'adj', 'noun', '.']\n",
            "\n",
            "Words: in the comedy of indefinite reference , it-wit occupies a prominent place because of its frequent occurrence .\n",
            "Predicted Tags: ['adp', 'det', 'noun', 'adp', 'adj', 'noun', '.', 'adp', 'verb', 'det', 'adj', 'noun', 'adp', 'adp', 'det', 'adj', 'noun', '.']\n",
            "\n",
            "Words: the deposits that have been transferred to other subsidiaries are now under the jurisdiction of the bankruptcy court .\n",
            "Predicted Tags: ['det', 'noun', 'det', 'verb', 'verb', 'verb', 'prt', 'adj', 'noun', 'verb', 'adv', 'adp', 'det', 'noun', 'adp', 'det', 'noun', 'noun', '.']\n",
            "\n",
            "Words: that 's where we were .\n",
            "Predicted Tags: ['det', 'verb', 'adv', 'pron', 'verb', '.']\n",
            "\n",
            "Words: he had to find out .\n",
            "Predicted Tags: ['pron', 'verb', 'prt', 'verb', 'prt', '.']\n",
            "\n",
            "Words: this meeting was called to determine how these groups might cooperate to launch what is known as the outdoor education project .\n",
            "Predicted Tags: ['det', 'noun', 'verb', 'verb', 'prt', 'verb', 'adv', 'det', 'noun', 'verb', 'verb', 'prt', 'verb', 'det', 'verb', 'verb', 'adp', 'det', 'adj', 'noun', 'noun', '.']\n",
            "\n",
            "Words: the adjacent driver in lane b has three choices open to him .\n",
            "Predicted Tags: ['det', 'adj', 'noun', 'adp', 'noun', 'noun', 'verb', 'num', 'noun', 'adj', 'adp', 'pron', '.']\n",
            "\n",
            "Words: parts of `` defeat into victory '' are a tangle of burmese place names and military units , but a little application makes everything clear enough .\n",
            "Predicted Tags: ['noun', 'adp', '.', 'noun', 'adp', 'noun', '.', 'verb', 'det', 'noun', 'adp', 'noun', 'noun', 'noun', 'conj', 'adj', 'noun', '.', 'conj', 'det', 'adj', 'noun', 'verb', 'noun', 'adj', 'adv', '.']\n",
            "\n",
            "Words: both are primarily concerned with the uses that can be made of the material that the collector has found .\n",
            "Predicted Tags: ['det', 'verb', 'adv', 'verb', 'adp', 'det', 'noun', 'det', 'verb', 'verb', 'verb', 'adp', 'det', 'noun', 'pron', 'det', 'noun', 'verb', 'verb', '.']\n",
            "\n",
            "Words: it might be that certain people were born with a compulsion to complicate their lives , while others could live blissfully motionless almost indefinitely , like lizards in the sun , too indolent to blink their eyes .\n",
            "Predicted Tags: ['pron', 'verb', 'verb', 'adp', 'adj', 'noun', 'verb', 'verb', 'adp', 'det', 'noun', 'prt', 'verb', 'det', 'noun', '.', 'adp', 'noun', 'verb', 'verb', 'adv', 'adj', 'adv', 'adv', '.', 'adp', 'noun', 'adp', 'det', 'noun', '.', 'adv', 'adj', 'adp', 'verb', 'det', 'noun', '.']\n",
            "\n",
            "Words: and that 's been part of my foreign policy .\n",
            "Predicted Tags: ['conj', 'det', 'verb', 'verb', 'noun', 'adp', 'pron', 'adj', 'noun', '.']\n",
            "\n",
            "Words: “ be careful you don ’ t let him touch it until you ’ re ready to use it , ” the woman admonished nepthys as she slipped the stone into a grey cloth pouch and handed it to him .\n",
            "Predicted Tags: ['noun', 'verb', 'adj', 'pron', 'verb', 'noun', 'noun', 'verb', 'pron', 'verb', 'pron', 'adp', 'pron', 'noun', 'noun', 'adj', 'prt', 'verb', 'pron', '.', 'noun', 'det', 'noun', 'verb', 'noun', 'adp', 'pron', 'verb', 'det', 'noun', 'adp', 'det', 'adj', 'noun', 'noun', 'conj', 'verb', 'pron', 'prt', 'pron', '.']\n",
            "\n",
            "Words: in i knew you when you were a child , and you were pretty then dominant stress on then implies that the young woman spoken to is still pretty .\n",
            "Predicted Tags: ['adp', 'pron', 'verb', 'pron', 'adv', 'pron', 'verb', 'det', 'noun', '.', 'conj', 'pron', 'verb', 'adv', 'adv', 'adj', 'noun', 'adp', 'adv', 'verb', 'adp', 'det', 'adj', 'noun', 'verb', 'adp', 'verb', 'adv', 'adv', '.']\n",
            "\n",
            "Words: the most typical of these are harbor cruises , usually including dinner and dancing on board an air-conditioned floating nightclub .\n",
            "Predicted Tags: ['det', 'adv', 'adj', 'adp', 'det', 'verb', 'noun', 'noun', '.', 'adv', 'verb', 'noun', 'conj', 'verb', 'adp', 'noun', 'det', 'adj', 'verb', 'noun', '.']\n",
            "\n",
            "Words: their answer was : it can be done , and we will do it .\n",
            "Predicted Tags: ['det', 'noun', 'verb', '.', 'pron', 'verb', 'verb', 'verb', '.', 'conj', 'pron', 'verb', 'verb', 'pron', '.']\n",
            "\n",
            "Words: the issue was sufficiently potent in 1935 to spark secession from the american federation of labor of its industrial union members .\n",
            "Predicted Tags: ['det', 'noun', 'verb', 'adv', 'adj', 'adp', 'num', 'prt', 'verb', 'noun', 'adp', 'det', 'adj', 'noun', 'adp', 'noun', 'adp', 'det', 'adj', 'noun', 'noun', '.']\n",
            "\n",
            "Words: i was beyond confused .\n",
            "Predicted Tags: ['pron', 'verb', 'adp', 'verb', '.']\n",
            "\n",
            "Words: the new birth is a new creation .\n",
            "Predicted Tags: ['det', 'adj', 'noun', 'verb', 'det', 'adj', 'noun', '.']\n",
            "\n",
            "Words: since c is rational , this correspondence has k coincidences , each of which implies a line of the pencil which meets its image .\n",
            "Predicted Tags: ['adp', 'noun', 'verb', 'adj', '.', 'det', 'noun', 'verb', 'noun', 'noun', '.', 'det', 'adp', 'det', 'verb', 'det', 'noun', 'adp', 'det', 'noun', 'det', 'verb', 'det', 'noun', '.']\n",
            "\n",
            "Words: ] scene : port royal prison [ will and the governor rapidly descend stone steps into the prison\n",
            "Predicted Tags: ['noun', 'noun', '.', 'noun', 'noun', 'noun', 'noun', 'verb', 'conj', 'det', 'noun', 'adv', 'verb', 'noun', 'noun', 'adp', 'det', 'noun']\n",
            "\n",
            "Words: it failed to build the retaining wall before it was too late .\n",
            "Predicted Tags: ['pron', 'verb', 'prt', 'verb', 'det', 'verb', 'noun', 'adv', 'pron', 'verb', 'adv', 'adj', '.']\n",
            "\n",
            "Words: the presence of other members of similar social and economic level is the sufficient condition .\n",
            "Predicted Tags: ['det', 'noun', 'adp', 'adj', 'noun', 'adp', 'adj', 'adj', 'conj', 'adj', 'noun', 'verb', 'det', 'adj', 'noun', '.']\n",
            "\n",
            "Words: do you really think a serious candidate would go around asking for hints during a debate ?\n",
            "Predicted Tags: ['verb', 'pron', 'adv', 'verb', 'det', 'adj', 'noun', 'verb', 'verb', 'adp', 'verb', 'adp', 'noun', 'adp', 'det', 'noun', '.']\n",
            "\n",
            "Words: crunch , that's all she wrote '' .\n",
            "Predicted Tags: ['noun', '.', 'prt', 'prt', 'pron', 'verb', '.', '.']\n",
            "\n",
            "Words: fury hanover ( hoot mon-fay ) , caper ( hoot mon-columbia hanover ) and isaac ( hoot mon-goddess hanover ) has been working together but have not equalled their best work done some weeks ago .\n",
            "Predicted Tags: ['noun', 'noun', '.', 'noun', 'noun', '.', '.', 'noun', '.', 'noun', 'noun', 'noun', '.', 'conj', 'noun', '.', 'noun', 'noun', 'noun', '.', 'verb', 'verb', 'verb', 'adv', 'conj', 'verb', 'adv', 'verb', 'pron', 'adj', 'noun', 'verb', 'det', 'noun', 'adv', '.']\n",
            "\n",
            "Words: and yet we obviously also believe that the avoidance of the disaster depends in some obscure or at least uncertain way on the details of how we behave .\n",
            "Predicted Tags: ['conj', 'adv', 'pron', 'adv', 'adv', 'verb', 'adp', 'det', 'noun', 'adp', 'det', 'noun', 'verb', 'adp', 'det', 'adj', 'conj', 'adp', 'adj', 'adj', 'noun', 'adp', 'det', 'noun', 'adp', 'adv', 'pron', 'verb', '.']\n",
            "\n",
            "Words: making plan for improving kerjodando p2 p\n",
            "Predicted Tags: ['verb', 'noun', 'adp', 'verb', 'noun', 'noun', 'noun']\n",
            "\n",
            "Words: a man named lars simon , playwright-director , had expressed a wish that anthony payne drop dead .\n",
            "Predicted Tags: ['det', 'noun', 'verb', 'adj', 'noun', '.', 'verb', '.', 'verb', 'verb', 'det', 'noun', 'det', 'noun', 'noun', 'verb', 'verb', '.']\n",
            "\n",
            "Words: rather it is rooted in a difference of response to the threat of social disintegration .\n",
            "Predicted Tags: ['adv', 'pron', 'verb', 'verb', 'adp', 'det', 'noun', 'adp', 'noun', 'adp', 'det', 'noun', 'adp', 'adj', 'noun', '.']\n",
            "\n",
            "Words: the animal-rights movement has n't helped sales .\n",
            "Predicted Tags: ['det', 'noun', 'noun', 'verb', 'adv', 'verb', 'noun', '.']\n",
            "\n",
            "Words: one of the outstanding assets of the present production is the restoration of the st. basil's scene , usually omitted from performances and rarely included in a published score .\n",
            "Predicted Tags: ['num', 'adp', 'det', 'adj', 'noun', 'adp', 'det', 'adj', 'noun', 'verb', 'det', 'noun', 'adp', 'det', 'noun', 'noun', 'noun', '.', 'adv', 'verb', 'adp', 'noun', 'conj', 'adv', 'verb', 'adp', 'det', 'verb', 'noun', '.']\n",
            "\n",
            "Words: he thought .\n",
            "Predicted Tags: ['pron', 'verb', '.']\n",
            "\n",
            "Words: yeah .\n",
            "Predicted Tags: ['noun', '.']\n",
            "\n",
            "Words: but u.s. intelligence , rather than rein in or cut loose its new spy , merely filed the report away .\n",
            "Predicted Tags: ['conj', 'noun', 'noun', '.', 'adv', 'adp', 'noun', 'adp', 'conj', 'verb', 'adj', 'pron', 'adj', 'noun', '.', 'adv', 'verb', 'det', 'noun', 'adv', '.']\n",
            "\n",
            "Words: one reason for the unique vitality of the chorus is its great variety in expression .\n",
            "Predicted Tags: ['num', 'noun', 'adp', 'det', 'adj', 'noun', 'adp', 'det', 'noun', 'verb', 'det', 'adj', 'noun', 'adp', 'noun', '.']\n",
            "\n",
            "Words: by the way , i just found out the other day an interesting fact , that there is a national petroleum reserve right next to -- in prudhoe bay that your administration opened up for exploration in that pristine area .\n",
            "Predicted Tags: ['adp', 'det', 'noun', '.', 'pron', 'adv', 'verb', 'prt', 'det', 'adj', 'noun', 'det', 'adj', 'noun', '.', 'adp', 'det', 'verb', 'det', 'adj', 'noun', 'noun', 'noun', 'adj', 'prt', '.', 'adp', 'noun', 'noun', 'pron', 'pron', 'noun', 'verb', 'prt', 'adp', 'noun', 'adp', 'det', 'adj', 'noun', '.']\n",
            "\n",
            "Words: therefore , sharp turns in a shelter entrance will reduce radiation intensity inside the shelter .\n",
            "Predicted Tags: ['adv', '.', 'adj', 'noun', 'adp', 'det', 'noun', 'noun', 'verb', 'verb', 'noun', 'noun', 'adp', 'det', 'noun', '.']\n",
            "\n",
            "Words: www.risk-conferences.com/risk2001aus\n",
            "Predicted Tags: ['noun']\n",
            "\n",
            "Words: thousands of us had paid $ 5 for the official souvenir book with its historical essays on series trivia , its historical photographs of great moments in series past , and its instructions , in english and spanish , for filling in the scorecard .\n",
            "Predicted Tags: ['noun', 'adp', 'pron', 'verb', 'verb', '.', 'num', 'adp', 'det', 'adj', 'noun', 'noun', 'adp', 'pron', 'adj', 'noun', 'adp', 'noun', 'noun', '.', 'pron', 'adj', 'noun', 'adp', 'adj', 'noun', 'adp', 'noun', 'adj', '.', 'conj', 'pron', 'noun', '.', 'adp', 'noun', 'conj', 'adj', '.', 'adp', 'verb', 'adp', 'det', 'noun', '.']\n",
            "\n",
            "Words: \" for me , it 's very difficult to be certain that the information which is given to me is real , \" said eric ripert , chef at le bernardin , a four - star seafood restaurant in manhattan .\n",
            "Predicted Tags: ['.', 'adp', 'pron', '.', 'pron', 'verb', 'adv', 'adj', 'prt', 'verb', 'adj', 'adp', 'det', 'noun', 'det', 'verb', 'verb', 'prt', 'pron', 'verb', 'adj', '.', '.', 'verb', 'noun', 'noun', '.', 'noun', 'adp', 'noun', 'noun', '.', 'det', 'num', '.', 'noun', 'noun', 'noun', 'adp', 'noun', '.']\n",
            "\n",
            "Words: for he had understood that betty had been engaged to a boy named barry jenkins .\n",
            "Predicted Tags: ['adp', 'pron', 'verb', 'verb', 'adp', 'noun', 'verb', 'verb', 'verb', 'adp', 'det', 'noun', 'verb', 'noun', 'noun', '.']\n",
            "\n",
            "Words: you must also wear a car coat .\n",
            "Predicted Tags: ['pron', 'verb', 'adv', 'verb', 'det', 'noun', 'noun', '.']\n",
            "\n",
            "Words: if i 'm not mistaken i think i 've been at berryhill for i think 17 years , 17 , 18 years i 've been here at berryhill so and i hope i never have to leave until i retire .\n",
            "Predicted Tags: ['adp', 'pron', 'verb', 'adv', 'verb', 'noun', 'verb', 'pron', 'verb', 'verb', 'adp', 'noun', 'adp', 'pron', 'verb', 'num', 'noun', '.', 'num', '.', 'num', 'noun', 'pron', 'verb', 'verb', 'adv', 'adp', 'noun', 'adv', 'conj', 'pron', 'verb', 'pron', 'adv', 'verb', 'prt', 'verb', 'adp', 'pron', 'verb', '.']\n",
            "\n",
            "Words: hey are you one of those right wing extremist cnn is talking about ?\n",
            "Predicted Tags: ['noun', 'verb', 'pron', 'num', 'adp', 'det', 'noun', 'noun', 'noun', 'noun', 'verb', 'verb', 'adp', '.']\n",
            "\n",
            "Words: the slight flutter that had disturbed the motion of her heart when she entered the forest was gone now , and even the dim groves of trees through which she occasionally passed did not reawaken her fear .\n",
            "Predicted Tags: ['det', 'adj', 'noun', 'det', 'verb', 'verb', 'det', 'noun', 'adp', 'det', 'noun', 'adv', 'pron', 'verb', 'det', 'noun', 'verb', 'verb', 'adv', '.', 'conj', 'adv', 'det', 'adj', 'noun', 'adp', 'noun', 'adp', 'det', 'pron', 'adv', 'verb', 'verb', 'adv', 'verb', 'det', 'noun', '.']\n",
            "\n",
            "Words: revenue from financial and real-estate services jumped 23 % to $ 177.4 million from $ 144.1 million a year ago .\n",
            "Predicted Tags: ['noun', 'adp', 'adj', 'conj', 'noun', 'noun', 'verb', 'num', 'noun', 'prt', '.', 'num', 'num', 'adp', '.', 'num', 'num', 'det', 'noun', 'adv', '.']\n",
            "\n",
            "Words: 10 . show me a piano falling down a mineshaft and i 'll show you a- flat minor .\n",
            "Predicted Tags: ['num', '.', 'noun', 'pron', 'det', 'noun', 'noun', 'prt', 'det', 'noun', 'conj', 'pron', 'verb', 'verb', 'pron', 'noun', 'adj', 'adj', '.']\n",
            "\n",
            "Words: > this is not a good thing .\n",
            "Predicted Tags: ['noun', 'det', 'verb', 'adv', 'det', 'adj', 'noun', '.']\n",
            "\n",
            "Words: chico ruiz made a spectacular play on alusik's grounder in the hole in the fourth and wert came up with some good stops and showed a strong arm at third base .\n",
            "Predicted Tags: ['noun', 'noun', 'verb', 'det', 'adj', 'noun', 'adp', 'noun', 'noun', 'adp', 'det', 'noun', 'adp', 'det', 'adj', 'conj', 'noun', 'verb', 'prt', 'adp', 'det', 'adj', 'noun', 'conj', 'verb', 'det', 'adj', 'noun', 'adp', 'adj', 'noun', '.']\n",
            "\n",
            "Words: i must have consumed it , too , because later on , the plates and the bottle were both empty .\n",
            "Predicted Tags: ['pron', 'verb', 'verb', 'verb', 'pron', '.', 'adv', '.', 'adp', 'adv', 'prt', '.', 'det', 'noun', 'conj', 'det', 'noun', 'verb', 'det', 'adj', '.']\n",
            "\n",
            "Words: harry lee smith alpharetta , ga .\n",
            "Predicted Tags: ['noun', 'noun', 'noun', 'noun', '.', 'noun', '.']\n",
            "\n",
            "Words: [ tia sees will standing in the doorway , goes up to him\n",
            "Predicted Tags: ['noun', 'noun', 'verb', 'noun', 'verb', 'adp', 'det', 'noun', '.', 'verb', 'adp', 'prt', 'pron']\n",
            "\n",
            "Words: there a certain farmhouse was a station for the sons of liberty .\n",
            "Predicted Tags: ['prt', 'det', 'adj', 'noun', 'verb', 'det', 'noun', 'adp', 'det', 'noun', 'adp', 'noun', '.']\n",
            "\n",
            "Words: while many of these mortgages were kept on banks ’ books , the bigger money came from global investors who clamored to put their cash into newly created mortgage-related securities .\n",
            "Predicted Tags: ['adp', 'adj', 'adp', 'det', 'noun', 'verb', 'verb', 'adp', 'noun', 'noun', 'noun', '.', 'det', 'adj', 'noun', 'verb', 'adp', 'adj', 'noun', 'pron', 'verb', 'prt', 'verb', 'pron', 'noun', 'adp', 'adv', 'verb', 'adj', 'noun', '.']\n",
            "\n",
            "Words: his arms hung like empty shirt sleeves , and his mouth was slightly open .\n",
            "Predicted Tags: ['det', 'noun', 'verb', 'adp', 'adj', 'noun', 'noun', '.', 'conj', 'det', 'noun', 'verb', 'adv', 'adj', '.']\n",
            "\n",
            "Words: when 's jerry leaving for -\n",
            "Predicted Tags: ['adv', 'prt', 'noun', 'verb', 'adp', 'x']\n",
            "\n",
            "Words: the los angeles times , with a circulation of more than 1.1 million , dominates the region .\n",
            "Predicted Tags: ['det', 'noun', 'noun', 'noun', '.', 'adp', 'det', 'noun', 'adp', 'adj', 'adp', 'num', 'num', '.', 'verb', 'det', 'noun', '.']\n",
            "\n",
            "Words: \" anywhere , \" he walked around the moai and came back wrestling with a big , heavy bar of gold .\n",
            "Predicted Tags: ['.', 'adv', '.', '.', 'pron', 'verb', 'adp', 'det', 'noun', 'conj', 'verb', 'adv', 'verb', 'adp', 'det', 'adj', '.', 'adj', 'noun', 'adp', 'noun', '.']\n",
            "\n",
            "Words: i 've only worked at two , two schools .\n",
            "Predicted Tags: ['pron', 'verb', 'adv', 'verb', 'adp', 'num', '.', 'num', 'noun', '.']\n",
            "\n",
            "Words: a typical `` sonogram '' of a human eye , together with a description of the anatomical parts , is shown in fig. 5 .\n",
            "Predicted Tags: ['det', 'adj', '.', 'noun', '.', 'adp', 'det', 'adj', 'noun', '.', 'adv', 'adp', 'det', 'noun', 'adp', 'det', 'adj', 'noun', '.', 'verb', 'verb', 'adp', 'noun', 'num', '.']\n",
            "\n",
            "Words: the coolidges' life , after the death of their son , was quieter than ever .\n",
            "Predicted Tags: ['det', 'noun', 'noun', '.', 'adp', 'det', 'noun', 'adp', 'det', 'noun', '.', 'verb', 'adj', 'adp', 'adv', '.']\n",
            "\n",
            "Words: blood samples were allowed to clot at room temperature for 3 hr , centrifuged and the serum was removed .\n",
            "Predicted Tags: ['noun', 'noun', 'verb', 'verb', 'prt', 'verb', 'adp', 'noun', 'noun', 'adp', 'num', 'noun', '.', 'verb', 'conj', 'det', 'noun', 'verb', 'verb', '.']\n",
            "\n",
            "Words: the art of defoe and richardson is founded on an awareness of this great change .\n",
            "Predicted Tags: ['det', 'noun', 'adp', 'noun', 'conj', 'noun', 'verb', 'verb', 'adp', 'det', 'noun', 'adp', 'det', 'adj', 'noun', '.']\n",
            "\n",
            "Words: “ as a boy in bosnia , i walked my dog .\n",
            "Predicted Tags: ['noun', 'adp', 'det', 'noun', 'adp', 'noun', '.', 'pron', 'verb', 'det', 'noun', '.']\n",
            "\n",
            "Words: i closed the phone .\n",
            "Predicted Tags: ['pron', 'verb', 'det', 'noun', '.']\n",
            "\n",
            "Words: `` st-story '' ? ?\n",
            "Predicted Tags: ['.', 'prt', '.', '.', '.']\n",
            "\n",
            "Words: division one of the parade will be the service academies .\n",
            "Predicted Tags: ['noun', 'num', 'adp', 'det', 'noun', 'verb', 'verb', 'det', 'noun', 'noun', '.']\n",
            "\n",
            "Words: factors involved in the displacement formula are the bore diameter of the engine's cylinders , the length of the piston stroke , the number of cylinders in the engine , and a constant .\n",
            "Predicted Tags: ['noun', 'verb', 'adp', 'det', 'noun', 'noun', 'verb', 'det', 'noun', 'noun', 'adp', 'det', 'noun', 'noun', '.', 'det', 'noun', 'adp', 'det', 'noun', 'noun', '.', 'det', 'noun', 'adp', 'noun', 'adp', 'det', 'noun', '.', 'conj', 'det', 'adj', '.']\n",
            "\n",
            "Words: mcfeeley noted the immaculate lawn and gardens : each blade of grass cropped , bright and firm ; ;\n",
            "Predicted Tags: ['noun', 'verb', 'det', 'noun', 'noun', 'conj', 'noun', '.', 'det', 'noun', 'adp', 'noun', 'verb', '.', 'adj', 'conj', 'noun', '.', '.']\n",
            "\n",
            "Words: “ all the luxuries money can buy . ”\n",
            "Predicted Tags: ['noun', 'det', 'det', 'noun', 'noun', 'verb', 'verb', '.', 'noun']\n",
            "\n",
            "Words: only public understanding and support can provide that service .\n",
            "Predicted Tags: ['adv', 'adj', 'noun', 'conj', 'noun', 'verb', 'verb', 'det', 'noun', '.']\n",
            "\n",
            "Words: he died after a cadiac arteries operation .\n",
            "Predicted Tags: ['pron', 'verb', 'adp', 'det', 'noun', 'noun', 'noun', '.']\n",
            "\n",
            "Words: governments have become sophisticated in handling moments of panic -lrb- a word the london times forbade my father to use when he was reporting the wall street crash in 1929 -rrb- .\n",
            "Predicted Tags: ['noun', 'verb', 'verb', 'adj', 'adp', 'noun', 'noun', 'adp', 'noun', '.', 'det', 'noun', 'det', 'noun', 'noun', 'noun', 'det', 'noun', 'prt', 'verb', 'adv', 'pron', 'verb', 'verb', 'det', 'noun', 'noun', 'adj', 'adp', 'num', '.', '.']\n",
            "\n",
            "Words: the anniston catcher screamed .\n",
            "Predicted Tags: ['det', 'noun', 'noun', 'verb', '.']\n",
            "\n",
            "Words: `` via must have it '' , i answered readily enough , recalling her last visit .\n",
            "Predicted Tags: ['.', 'adp', 'verb', 'verb', 'pron', '.', '.', 'pron', 'verb', 'adv', 'adv', '.', 'verb', 'det', 'adj', 'noun', '.']\n",
            "\n",
            "Words: o ' donnell is opposed to anything liberal , anything progressive , anything obama , anything democrat , anything that can in any way be determined not to accord with the demands of her savior and lord jesus christ ( as she interprets his word ) in any way .\n",
            "Predicted Tags: ['noun', 'prt', 'noun', 'verb', 'verb', 'prt', 'noun', 'noun', '.', 'noun', 'adj', '.', 'noun', 'noun', '.', 'noun', 'noun', '.', 'noun', 'det', 'verb', 'adp', 'det', 'noun', 'verb', 'verb', 'adv', 'prt', 'noun', 'adp', 'det', 'noun', 'adp', 'pron', 'noun', 'conj', 'noun', 'noun', 'noun', '.', 'adp', 'pron', 'verb', 'det', 'noun', '.', 'adp', 'det', 'noun', '.']\n",
            "\n",
            "Words: on the day of the accident , i was working alone on the roof of a new six-storey building .\n",
            "Predicted Tags: ['adp', 'det', 'noun', 'adp', 'det', 'noun', '.', 'pron', 'verb', 'verb', 'adv', 'adp', 'det', 'noun', 'adp', 'det', 'adj', 'noun', 'noun', '.']\n",
            "\n",
            "Words: \" this is it , \" he leaned down and motioned for me to look at something on the ground .\n",
            "Predicted Tags: ['.', 'det', 'verb', 'pron', '.', '.', 'pron', 'verb', 'adv', 'conj', 'adj', 'adp', 'pron', 'prt', 'verb', 'adp', 'noun', 'adp', 'det', 'noun', '.']\n",
            "\n",
            "Words: also , several key blue chips were pushed higher in thin volume because of a technical squeeze among market makers .\n",
            "Predicted Tags: ['adv', '.', 'adj', 'adj', 'adj', 'noun', 'verb', 'verb', 'adj', 'adp', 'adj', 'noun', 'adp', 'adp', 'det', 'adj', 'noun', 'adp', 'noun', 'noun', '.']\n",
            "\n",
            "Words: was 300 ft. out on a pier in san rafael .\n",
            "Predicted Tags: ['verb', 'num', 'noun', 'adp', 'adp', 'det', 'noun', 'adp', 'noun', 'noun', '.']\n",
            "\n",
            "Words: total disinterest\n",
            "Predicted Tags: ['noun', 'noun']\n",
            "\n",
            "Words: now , these meetings that you attended , would you describe them as being fairly contentious ?\n",
            "Predicted Tags: ['adv', '.', 'det', 'noun', 'adp', 'pron', 'verb', '.', 'verb', 'pron', 'verb', 'pron', 'adp', 'verb', 'adv', 'adj', '.']\n",
            "\n",
            "Words: it is -- well , it -- let me say with respond -- in response to both of those questions , an unlimited time would violate the copyright clause .\n",
            "Predicted Tags: ['pron', 'verb', '.', 'prt', '.', 'pron', '.', 'verb', 'pron', 'verb', 'adp', 'verb', '.', 'adp', 'noun', 'adp', 'det', 'adp', 'det', 'noun', '.', 'det', 'adj', 'noun', 'verb', 'verb', 'det', 'noun', 'noun', '.']\n",
            "\n",
            "Words: carvey considers that former vice president nixon would be brown's most formidable foe , with ex-gov. knight a close second .\n",
            "Predicted Tags: ['noun', 'verb', 'adp', 'adj', 'noun', 'noun', 'noun', 'verb', 'verb', 'noun', 'adj', 'adj', 'noun', '.', 'adp', 'adj', 'noun', 'det', 'noun', 'adj', '.']\n",
            "\n",
            "Words: suddenly he grinned .\n",
            "Predicted Tags: ['adv', 'pron', 'verb', '.']\n",
            "\n",
            "Words: `` we ran into a guy at the pagan room who guarantees we can beat the wheel .\n",
            "Predicted Tags: ['.', 'pron', 'verb', 'adp', 'det', 'noun', 'adp', 'det', 'noun', 'noun', 'pron', 'verb', 'pron', 'verb', 'verb', 'det', 'noun', '.']\n",
            "\n",
            "Words: ( we can imagine how they startled audiences of the 1870's .\n",
            "Predicted Tags: ['.', 'pron', 'verb', 'verb', 'adv', 'pron', 'verb', 'noun', 'adp', 'det', 'adj', '.']\n",
            "\n",
            "Words: when i speak of how shann felt , i know well .\n",
            "Predicted Tags: ['adv', 'pron', 'verb', 'adp', 'adv', 'noun', 'verb', '.', 'pron', 'verb', 'adv', '.']\n",
            "\n",
            "Words: it was dvorov .\n",
            "Predicted Tags: ['pron', 'verb', 'noun', '.']\n",
            "\n",
            "Words: as much as it appeared , she wasn ’ t the greatest , or the purest , prettiest , or bravest .\n",
            "Predicted Tags: ['adp', 'adj', 'adp', 'pron', 'verb', '.', 'pron', 'noun', 'noun', 'noun', 'det', 'adj', '.', 'conj', 'det', 'adj', '.', 'adj', '.', 'conj', 'adj', '.']\n",
            "\n",
            "Words: temperature , wind , oxygen content , depth , bottom character , and animal life are the chief environmental variables .\n",
            "Predicted Tags: ['noun', '.', 'noun', '.', 'noun', 'noun', '.', 'noun', '.', 'adj', 'noun', '.', 'conj', 'noun', 'noun', 'verb', 'det', 'adj', 'adj', 'noun', '.']\n",
            "\n",
            "Words: yeah , one - one can imagine that that might be problematic .\n",
            "Predicted Tags: ['noun', '.', 'num', 'x', 'num', 'verb', 'verb', 'adp', 'det', 'verb', 'verb', 'adj', '.']\n",
            "\n",
            "Words: `` yes , i'll get one overnight a month '' .\n",
            "Predicted Tags: ['.', 'adv', '.', 'prt', 'verb', 'num', 'adj', 'det', 'noun', '.', '.']\n",
            "\n",
            "Words: i did n't say this , and i 'm totally opposed to the philosophy expressed by the quote .\n",
            "Predicted Tags: ['pron', 'verb', 'adv', 'verb', 'det', '.', 'conj', 'pron', 'verb', 'adv', 'verb', 'prt', 'det', 'noun', 'verb', 'adp', 'det', 'noun', '.']\n",
            "\n",
            "Words: surface temperature gradients have been found to exist in liquid helium baths contained in 15- and 25-liter metallic storage dewars .\n",
            "Predicted Tags: ['noun', 'noun', 'noun', 'verb', 'verb', 'verb', 'prt', 'verb', 'adp', 'noun', 'noun', 'noun', 'verb', 'adp', 'num', 'conj', 'adj', 'adj', 'noun', 'noun', '.']\n",
            "\n",
            "Words: he returned in command of an international army of gurkhas , indians , africans , chinese and british .\n",
            "Predicted Tags: ['pron', 'verb', 'adp', 'noun', 'adp', 'det', 'adj', 'noun', 'adp', 'num', '.', 'noun', '.', 'noun', '.', 'adj', 'conj', 'adj', '.']\n",
            "\n",
            "Words: i could see your shoes have been worn a few milimeters , but the canvas is fairly new .\n",
            "Predicted Tags: ['pron', 'verb', 'verb', 'pron', 'noun', 'verb', 'verb', 'verb', 'det', 'adj', 'noun', '.', 'conj', 'det', 'noun', 'verb', 'adv', 'adj', '.']\n",
            "\n",
            "Words: was that\n",
            "Predicted Tags: ['verb', 'adp']\n",
            "\n",
            "Words: helped create national marine sanctuaries critical to the survival of marine wildlife -- from endangered manatees in the florida keys , to humpback whales off new england ’ s stellwagen bank , to sea otters in california ’ s monterey bay .\n",
            "Predicted Tags: ['verb', 'verb', 'adj', 'noun', 'noun', 'adj', 'prt', 'det', 'noun', 'adp', 'noun', 'noun', '.', 'adp', 'verb', 'noun', 'adp', 'det', 'noun', 'noun', '.', 'prt', 'verb', 'noun', 'prt', 'adj', 'noun', 'noun', 'verb', 'adj', 'noun', '.', 'prt', 'noun', 'noun', 'adp', 'noun', 'noun', 'verb', 'noun', 'noun', '.']\n",
            "\n",
            "Words: no , that 's the view of the government 's , justice breyer .\n",
            "Predicted Tags: ['det', '.', 'det', 'verb', 'det', 'noun', 'adp', 'det', 'noun', 'prt', '.', 'noun', 'noun', '.']\n",
            "\n",
            "Words: a third remarked of slowness of southerners : `` they moved about from corner to corner , as uneasy as a litter of hungry leaches on the neck of a wooden god '' .\n",
            "Predicted Tags: ['det', 'adj', 'verb', 'adp', 'noun', 'adp', 'noun', '.', '.', 'pron', 'verb', 'adp', 'adp', 'noun', 'adp', 'noun', '.', 'adp', 'adj', 'adp', 'det', 'noun', 'adp', 'adj', 'noun', 'adp', 'det', 'noun', 'adp', 'det', 'adj', 'noun', '.', '.']\n",
            "\n",
            "Words: i like to read about others watching baseball more than i like to watch baseball by a factor of nine .\n",
            "Predicted Tags: ['pron', 'verb', 'prt', 'verb', 'adp', 'noun', 'verb', 'noun', 'adj', 'adp', 'pron', 'verb', 'prt', 'verb', 'noun', 'adp', 'det', 'noun', 'adp', 'num', '.']\n",
            "\n",
            "Words: sarah had begun to tell lucien of emile , she had begun to question and a little draft had crept across the room from the bedroom door , open barely enough to show a rim of blackness in the hall .\n",
            "Predicted Tags: ['noun', 'verb', 'verb', 'prt', 'verb', 'noun', 'adp', 'noun', '.', 'pron', 'verb', 'verb', 'prt', 'verb', 'conj', 'det', 'adv', 'noun', 'verb', 'verb', 'adp', 'det', 'noun', 'adp', 'det', 'noun', 'noun', '.', 'adj', 'adv', 'adv', 'prt', 'verb', 'det', 'noun', 'adp', 'noun', 'adp', 'det', 'noun', '.']\n",
            "\n",
            "Words: governors approved prc decision on august 7 , 2000 .\n",
            "Predicted Tags: ['noun', 'verb', 'noun', 'noun', 'adp', 'noun', 'num', '.', 'num', '.']\n",
            "\n",
            "Words: but he presents it publicly so enmeshed in hypocrisy that it is not an honest one .\n",
            "Predicted Tags: ['conj', 'pron', 'verb', 'pron', 'adv', 'adv', 'verb', 'adp', 'noun', 'pron', 'pron', 'verb', 'adv', 'det', 'adj', 'num', '.']\n",
            "\n",
            "Words: she thought again of her children , those two who had died young , before the later science which might have saved them could attach even a label to their separate malignancies .\n",
            "Predicted Tags: ['pron', 'verb', 'adv', 'adp', 'det', 'noun', '.', 'det', 'num', 'pron', 'verb', 'verb', 'adj', '.', 'adp', 'det', 'adj', 'noun', 'det', 'verb', 'verb', 'verb', 'pron', 'verb', 'verb', 'adv', 'det', 'noun', 'prt', 'det', 'adj', 'noun', '.']\n",
            "\n",
            "Words: the bone of the vertebral bodies , ribs , and sternum was soft and was easily compressed .\n",
            "Predicted Tags: ['det', 'noun', 'adp', 'det', 'adj', 'noun', '.', 'noun', '.', 'conj', 'noun', 'verb', 'adv', 'conj', 'verb', 'adv', 'verb', '.']\n",
            "\n",
            "Words: but during the last several years boats were launched in areas where , a short time ago , the only water to be found was in wells and watering troughs for livestock .\n",
            "Predicted Tags: ['conj', 'adp', 'det', 'adj', 'adj', 'noun', 'noun', 'verb', 'verb', 'adp', 'noun', 'adv', '.', 'det', 'adj', 'noun', 'adv', '.', 'det', 'adv', 'noun', 'prt', 'verb', 'verb', 'verb', 'adp', 'noun', 'conj', 'verb', 'noun', 'adp', 'noun', '.']\n",
            "\n",
            "Words: in tradition and in poetry , the marriage bed is a place of unity and harmony .\n",
            "Predicted Tags: ['adp', 'noun', 'conj', 'adp', 'noun', '.', 'det', 'noun', 'noun', 'verb', 'det', 'noun', 'adp', 'noun', 'conj', 'noun', '.']\n",
            "\n",
            "Words: because administration of the forest highway system is a responsibility of the secretary of commerce with maintenance provided by the states and counties , this development program for the national forests does not include estimates of the funds needed to maintain the forest highway system nor to construct the additions to it that are needed .\n",
            "Predicted Tags: ['adp', 'noun', 'adp', 'det', 'noun', 'noun', 'noun', 'verb', 'det', 'noun', 'adp', 'det', 'noun', 'adp', 'noun', 'adp', 'noun', 'verb', 'adp', 'det', 'noun', 'conj', 'noun', '.', 'det', 'noun', 'noun', 'adp', 'det', 'adj', 'noun', 'verb', 'adv', 'verb', 'noun', 'adp', 'det', 'noun', 'verb', 'prt', 'verb', 'det', 'noun', 'noun', 'noun', 'conj', 'prt', 'verb', 'det', 'noun', 'adp', 'pron', 'adp', 'verb', 'verb', '.']\n",
            "\n",
            "Words: the comex accused the 39-year-old mr. semel of `` fraudulent conduct '' and improper trading .\n",
            "Predicted Tags: ['det', 'noun', 'verb', 'det', 'adj', 'noun', 'noun', 'adp', '.', 'adj', 'noun', '.', 'conj', 'adj', 'noun', '.']\n",
            "\n",
            "Words: an enormous sky of the most delicate blue arched overhead .\n",
            "Predicted Tags: ['det', 'adj', 'noun', 'adp', 'det', 'adv', 'adj', 'adj', 'verb', 'adj', '.']\n",
            "\n",
            "Words: brenner's voice was oily , but summers wasn't fooled .\n",
            "Predicted Tags: ['noun', 'noun', 'verb', 'adj', '.', 'conj', 'noun', 'verb', 'verb', '.']\n",
            "\n",
            "Words: i felt myself tremble , thinking of the diamond light of that beauty i had held a few moments before , and i wanted to run down there and halt , if i could , that frenetic pirouette , catch the boy in the moment of his savagery , and save a glimmer , a remnant , of that which i remembered , but i knew it was already too late .\n",
            "Predicted Tags: ['pron', 'verb', 'pron', 'verb', '.', 'verb', 'adp', 'det', 'noun', 'noun', 'adp', 'det', 'noun', 'pron', 'verb', 'verb', 'det', 'adj', 'noun', 'adp', '.', 'conj', 'pron', 'verb', 'prt', 'verb', 'prt', 'det', 'conj', 'verb', '.', 'adp', 'pron', 'verb', '.', 'det', 'adj', 'noun', '.', 'noun', 'det', 'noun', 'adp', 'det', 'noun', 'adp', 'det', 'noun', '.', 'conj', 'verb', 'det', 'noun', '.', 'det', 'noun', '.', 'adp', 'det', 'det', 'pron', 'verb', '.', 'conj', 'pron', 'verb', 'pron', 'verb', 'adv', 'adv', 'adj', '.']\n",
            "\n",
            "Words: he wasn't likely to come down with hot chills and puzzling striped fever .\n",
            "Predicted Tags: ['pron', 'verb', 'adj', 'prt', 'verb', 'prt', 'adp', 'adj', 'noun', 'conj', 'adj', 'verb', 'noun', '.']\n",
            "\n",
            "Words: um , i do n't know if they were farmers or not , but i know they were land owners , um , many acres and , um , her grandmother was raised in wealth .\n",
            "Predicted Tags: ['noun', '.', 'pron', 'verb', 'adv', 'verb', 'adp', 'pron', 'verb', 'noun', 'conj', 'adv', '.', 'conj', 'pron', 'verb', 'pron', 'verb', 'noun', 'noun', '.', 'noun', '.', 'adj', 'noun', 'conj', '.', 'x', '.', 'pron', 'noun', 'verb', 'verb', 'adp', 'noun', '.']\n",
            "\n",
            "Words: we know , too , that health is never harmed by summer cooling .\n",
            "Predicted Tags: ['pron', 'verb', '.', 'adv', '.', 'adp', 'noun', 'verb', 'adv', 'verb', 'adp', 'noun', 'noun', '.']\n",
            "\n",
            "Words: he went on to explain what he had in mind .\n",
            "Predicted Tags: ['pron', 'verb', 'prt', 'prt', 'verb', 'det', 'pron', 'verb', 'adp', 'noun', '.']\n",
            "\n",
            "Words: there was a slight lapse condition , a moderate fog , and 100 per cent relative humidity .\n",
            "Predicted Tags: ['prt', 'verb', 'det', 'adj', 'noun', 'noun', '.', 'det', 'adj', 'noun', '.', 'conj', 'num', 'adp', 'noun', 'adj', 'noun', '.']\n",
            "\n",
            "Words: the way a house is set on its lot can therefore influence how much cooling you're going to need .\n",
            "Predicted Tags: ['det', 'noun', 'det', 'noun', 'verb', 'verb', 'adp', 'det', 'noun', 'verb', 'adv', 'verb', 'adv', 'adj', 'verb', 'prt', 'verb', 'prt', 'verb', '.']\n",
            "\n",
            "Words: clearly it is not .\n",
            "Predicted Tags: ['adv', 'pron', 'verb', 'adv', '.']\n",
            "\n",
            "Words: with ritter he was exposed to the fantastic profusion of ideas that stormed through his host's fertile but disorganized mind .\n",
            "Predicted Tags: ['adp', 'noun', 'pron', 'verb', 'verb', 'adp', 'det', 'adj', 'noun', 'adp', 'noun', 'adp', 'verb', 'adp', 'det', 'noun', 'adj', 'conj', 'verb', 'noun', '.']\n",
            "\n",
            "Words: but then we have the wiring issue , and - so i - i do n't know what to do . what do - what do people think ?\n",
            "Predicted Tags: ['conj', 'adv', 'pron', 'verb', 'det', 'noun', 'noun', '.', 'conj', 'x', 'adv', 'pron', 'x', 'pron', 'verb', 'adv', 'verb', 'pron', 'prt', 'verb', '.', 'pron', 'verb', 'x', 'pron', 'verb', 'noun', 'verb', '.']\n",
            "\n",
            "Words: diagnostic center open@mrh - url\n",
            "Predicted Tags: ['adj', 'noun', 'noun', '.', 'noun']\n",
            "\n",
            "Words: two reliable places to start looking in lan kwai fong are photo scientific in the eurasia building and hing lee camera company , 25 lyndhurst terrace .\n",
            "Predicted Tags: ['num', 'adj', 'noun', 'prt', 'verb', 'verb', 'adp', 'noun', 'noun', 'noun', 'verb', 'noun', 'noun', 'adp', 'det', 'noun', 'noun', 'conj', 'noun', 'noun', 'noun', 'noun', '.', 'num', 'noun', 'noun', '.']\n",
            "\n",
            "Words: yes .\n",
            "Predicted Tags: ['x', '.']\n",
            "\n",
            "Words: yeah , they would still c- sort of get the closest , best fit .\n",
            "Predicted Tags: ['noun', '.', 'pron', 'verb', 'adv', 'noun', 'noun', 'adp', 'verb', 'det', 'adj', '.', 'adj', 'noun', '.']\n",
            "\n",
            "Words: as far as i can tell .\n",
            "Predicted Tags: ['adp', 'adv', 'adp', 'pron', 'verb', 'verb', '.']\n",
            "\n",
            "Words: flying dutchman : organ room [ nighttime on deck of the flying dutchman\n",
            "Predicted Tags: ['noun', 'noun', '.', 'noun', 'noun', 'noun', 'adj', 'adp', 'noun', 'adp', 'det', 'noun', 'noun']\n",
            "\n",
            "Words: she exclaimed , smiling .\n",
            "Predicted Tags: ['pron', 'verb', '.', 'verb', '.']\n",
            "\n",
            "Words: ] will turner : jack !\n",
            "Predicted Tags: ['noun', 'noun', 'noun', '.', 'noun', '.']\n",
            "\n",
            "Words: ] [ will grabs a nearby quill pen , uses it to lift one of jones ' tentacles\n",
            "Predicted Tags: ['noun', 'noun', 'noun', 'noun', 'det', 'adj', 'noun', 'noun', '.', 'verb', 'pron', 'prt', 'verb', 'num', 'adp', 'noun', 'prt', 'noun']\n",
            "\n",
            "Words: many of the music-loving members of the president's staff gathered around the tent listening and watching the rapt attention given by the young seated audience .\n",
            "Predicted Tags: ['adj', 'adp', 'det', 'adj', 'noun', 'adp', 'det', 'noun', 'noun', 'verb', 'adp', 'det', 'noun', 'verb', 'conj', 'verb', 'det', 'noun', 'noun', 'verb', 'adp', 'det', 'adj', 'verb', 'noun', '.']\n",
            "\n",
            "Words: many times since his death that memory had worried and troubled her .\n",
            "Predicted Tags: ['adj', 'noun', 'adp', 'pron', 'noun', 'adp', 'noun', 'verb', 'verb', 'conj', 'verb', 'det', '.']\n",
            "\n",
            "Words: i have n't heard a big difference in the last few exchanges .\n",
            "Predicted Tags: ['pron', 'verb', 'adv', 'verb', 'det', 'adj', 'noun', 'adp', 'det', 'adj', 'adj', 'noun', '.']\n",
            "\n",
            "Words: weren ’ t angels supposed to have blue eyes ?\n",
            "Predicted Tags: ['noun', 'noun', 'noun', 'noun', 'verb', 'prt', 'verb', 'adj', 'noun', '.']\n",
            "\n",
            "Words: workers have a systemic commitment to technical excellence in their field .\n",
            "Predicted Tags: ['noun', 'verb', 'det', 'adj', 'noun', 'prt', 'adj', 'noun', 'adp', 'pron', 'noun', '.']\n",
            "\n",
            "Words: polk .\n",
            "Predicted Tags: ['noun', '.']\n",
            "\n",
            "Words: after i looked in at francie , i went into the living room and waited .\n",
            "Predicted Tags: ['adp', 'pron', 'verb', 'adp', 'adp', 'noun', '.', 'pron', 'verb', 'adp', 'det', 'verb', 'noun', 'conj', 'verb', '.']\n",
            "\n",
            "Words: thank you ! \"\n",
            "Predicted Tags: ['verb', 'pron', '.', '.']\n",
            "\n",
            "Words: then she discovered that quotron systems inc. 's sacramento lines were down , because they are normally tied in through a system that goes through san francisco .\n",
            "Predicted Tags: ['adv', 'pron', 'verb', 'adp', 'verb', 'noun', 'noun', 'prt', 'noun', 'noun', 'verb', 'prt', '.', 'adp', 'pron', 'verb', 'adv', 'verb', 'prt', 'adp', 'det', 'noun', 'det', 'verb', 'prt', 'noun', 'noun', '.']\n",
            "\n",
            "Words: the achievements which dispelled our fears of the cosmos took place three centuries ago .\n",
            "Predicted Tags: ['det', 'noun', 'det', 'verb', 'det', 'noun', 'adp', 'det', 'noun', 'verb', 'noun', 'num', 'noun', 'adv', '.']\n",
            "\n",
            "Words: this is the period during the melancholy days of autumn when universities and colleges schedule what they call `` homecoming day '' .\n",
            "Predicted Tags: ['det', 'verb', 'det', 'noun', 'adp', 'det', 'noun', 'noun', 'adp', 'noun', 'adv', 'noun', 'conj', 'noun', 'verb', 'det', 'pron', 'verb', '.', 'noun', 'noun', '.', '.']\n",
            "\n",
            "Words: taking a measured sip of white wine from his crystal glass , he glanced at his host – a cultured man dressed in a light suit of the current fashion and wearing his pale hair with a heavy set of sideburns – who passed him a silver tray .\n",
            "Predicted Tags: ['verb', 'det', 'verb', 'noun', 'adp', 'adj', 'noun', 'adp', 'det', 'noun', 'noun', '.', 'pron', 'verb', 'adp', 'det', 'noun', 'x', 'det', 'verb', 'noun', 'verb', 'adp', 'det', 'noun', 'noun', 'adp', 'det', 'adj', 'noun', 'conj', 'verb', 'det', 'adj', 'noun', 'adp', 'det', 'adj', 'noun', 'adp', 'noun', 'noun', 'pron', 'verb', 'pron', 'det', 'noun', 'noun', '.']\n",
            "\n",
            "Words: to compare his pieces to those of others is to compare mannequins to living models .\n",
            "Predicted Tags: ['prt', 'verb', 'det', 'noun', 'prt', 'det', 'adp', 'noun', 'verb', 'prt', 'verb', 'noun', 'prt', 'verb', 'noun', '.']\n",
            "\n",
            "Words: can you find it all right '' ? ?\n",
            "Predicted Tags: ['verb', 'pron', 'verb', 'pron', 'prt', 'adj', '.', '.', '.']\n",
            "\n",
            "Words: i would sort of like to uh think about something in the way of uh uh sort of a sporty car but not any not you know a luxury type sporty one but um\n",
            "Predicted Tags: ['pron', 'verb', 'verb', 'adp', 'adp', 'prt', 'x', 'verb', 'adp', 'noun', 'adp', 'det', 'noun', 'adp', 'x', 'x', 'noun', 'adp', 'det', 'adj', 'noun', 'conj', 'adv', 'det', 'adv', 'pron', 'verb', 'det', 'noun', 'noun', 'noun', 'num', 'adp', 'noun']\n",
            "\n",
            "Words: he looked up to see mrs. kirby , awesome in a black-and-yellow polka-dotted slicker , bearing down on him .\n",
            "Predicted Tags: ['pron', 'verb', 'prt', 'adp', 'verb', 'noun', 'noun', '.', 'verb', 'adp', 'det', 'noun', 'noun', 'noun', '.', 'verb', 'prt', 'adp', 'pron', '.']\n",
            "\n",
            "Words: and the fact remains that there are today few shining examples of negroes in positions of intellectual leadership .\n",
            "Predicted Tags: ['conj', 'det', 'noun', 'verb', 'adp', 'det', 'verb', 'noun', 'adj', 'verb', 'noun', 'adp', 'noun', 'adp', 'noun', 'adp', 'adj', 'noun', '.']\n",
            "\n",
            "Words: prisoners : where you goin ' ... ?\n",
            "Predicted Tags: ['noun', '.', 'adv', 'pron', 'noun', 'prt', 'x', '.']\n",
            "\n",
            "Words: but congress and the president accept no responsibility for the exercise of the power they have given the fed .\n",
            "Predicted Tags: ['conj', 'noun', 'conj', 'det', 'noun', 'verb', 'det', 'noun', 'adp', 'det', 'noun', 'adp', 'det', 'noun', 'pron', 'verb', 'verb', 'det', 'noun', '.']\n",
            "\n",
            "Words: the cost of that , on my numbers in here , made up , at least a billion dollars , or they ca n't find the people at all and get permission , an innumerable cost , un -- valuable cost to people who want to use it .\n",
            "Predicted Tags: ['det', 'noun', 'adp', 'det', '.', 'adp', 'det', 'noun', 'adp', 'adv', '.', 'verb', 'prt', '.', 'adp', 'adj', 'det', 'num', 'noun', '.', 'conj', 'pron', 'verb', 'adv', 'verb', 'det', 'noun', 'adp', 'det', 'conj', 'verb', 'noun', '.', 'det', 'adj', 'noun', '.', 'noun', '.', 'adj', 'noun', 'adp', 'noun', 'pron', 'verb', 'prt', 'verb', 'pron', '.']\n",
            "\n",
            "Words: dick mcauliffe cracked the first of his two doubles against lefty don rudolph to open the bear's attack .\n",
            "Predicted Tags: ['noun', 'noun', 'verb', 'det', 'adj', 'adp', 'pron', 'num', 'noun', 'adp', 'noun', 'noun', 'noun', 'prt', 'verb', 'det', 'noun', 'noun', '.']\n",
            "\n",
            "Words: parents are asked in the bulletin to send packages of treats consisting of fruit and nuts , but no candy .\n",
            "Predicted Tags: ['noun', 'verb', 'verb', 'adp', 'det', 'noun', 'adp', 'verb', 'noun', 'adp', 'verb', 'verb', 'adp', 'noun', 'conj', 'noun', '.', 'conj', 'det', 'noun', '.']\n",
            "\n",
            "Words: productivity of u.s. miners is twice that of the british .\n",
            "Predicted Tags: ['noun', 'adp', 'noun', 'noun', 'verb', 'adv', 'adp', 'adp', 'det', 'adj', '.']\n",
            "\n",
            "Words: fueling a controversy that has been simmering for years , the census bureau also said its figures would look far rosier if it recalculated the poverty threshold using an improved consumer-price measure adopted in 1983 .\n",
            "Predicted Tags: ['noun', 'det', 'noun', 'adp', 'verb', 'verb', 'verb', 'adp', 'noun', '.', 'det', 'noun', 'noun', 'adv', 'verb', 'det', 'noun', 'verb', 'verb', 'adv', 'adj', 'adp', 'pron', 'verb', 'det', 'noun', 'noun', 'verb', 'det', 'verb', 'noun', 'noun', 'verb', 'adp', 'num', '.']\n",
            "\n",
            "Words: that is , he did not claim in any of the four courts through which his case progressed that the jury charge had denied him any federal right .\n",
            "Predicted Tags: ['det', 'verb', '.', 'pron', 'verb', 'adv', 'verb', 'adp', 'det', 'adp', 'det', 'num', 'noun', 'adp', 'det', 'det', 'noun', 'verb', 'adp', 'det', 'noun', 'noun', 'verb', 'verb', 'pron', 'det', 'adj', 'noun', '.']\n",
            "\n",
            "Words: melatonin is secreted by the pineal gland at night ; secretion is suppressed by light exposure , and as such , the hormone can be thought of as a \" darkness signal . \"\n",
            "Predicted Tags: ['noun', 'verb', 'verb', 'adp', 'det', 'noun', 'noun', 'adp', 'noun', '.', 'noun', 'verb', 'verb', 'adp', 'adj', 'noun', '.', 'conj', 'adp', 'adj', '.', 'det', 'noun', 'verb', 'verb', 'verb', 'adp', 'adp', 'det', '.', 'noun', 'noun', '.', '.']\n",
            "\n",
            "Words: the k factor , a term used to denote the rate of heat transmission through a material ( b.t.u./sq. ft. of material/hr./*0f./in. of thickness ) ranges from 0.24 to 0.28 for flexible urethane foams and from 0.12 to 0.16 for rigid urethane foams , depending upon the formulation , density , cell size , and nature of blowing agents used .\n",
            "Predicted Tags: ['det', 'noun', 'noun', '.', 'det', 'noun', 'verb', 'prt', 'verb', 'det', 'noun', 'adp', 'noun', 'noun', 'adp', 'det', 'noun', '.', 'noun', 'noun', 'adp', 'noun', 'adp', 'noun', '.', 'verb', 'adp', 'num', 'prt', 'verb', 'adp', 'adj', 'noun', 'noun', 'conj', 'adp', 'num', 'adp', 'verb', 'adp', 'adj', 'noun', 'noun', '.', 'verb', 'adp', 'det', 'noun', '.', 'noun', '.', 'noun', 'adv', '.', 'conj', 'noun', 'adp', 'verb', 'noun', 'verb', '.']\n",
            "\n",
            "Words: be our guest ! !\n",
            "Predicted Tags: ['verb', 'pron', 'noun', '.', '.']\n",
            "\n",
            "Words: you probably won ’ t get one . ”\n",
            "Predicted Tags: ['pron', 'adv', 'verb', 'noun', 'noun', 'verb', 'num', '.', 'noun']\n",
            "\n",
            "Words: readings of the number of milligrams of cholesterol in the blood , which seem to have value in predicting heart attacks , are becoming as routine as the electrocardiogram , which can show that the heart has suffered a symptomatic attack .\n",
            "Predicted Tags: ['noun', 'adp', 'det', 'noun', 'adp', 'noun', 'adp', 'noun', 'adp', 'det', 'noun', '.', 'det', 'verb', 'prt', 'verb', 'noun', 'adp', 'verb', 'noun', 'noun', '.', 'verb', 'verb', 'adp', 'adj', 'adp', 'det', 'noun', '.', 'det', 'verb', 'verb', 'adp', 'det', 'noun', 'verb', 'verb', 'det', 'adj', 'noun', '.']\n",
            "\n",
            "Words: since a national interpretation cannot be avoided it is unfortunate that the elections were not held in a way to maximize party responsibility and the educational effect of mass political participation .\n",
            "Predicted Tags: ['adp', 'det', 'adj', 'noun', 'verb', 'verb', 'verb', 'pron', 'verb', 'adj', 'adp', 'det', 'noun', 'verb', 'adv', 'verb', 'adp', 'det', 'noun', 'prt', 'verb', 'noun', 'noun', 'conj', 'det', 'adj', 'noun', 'adp', 'noun', 'adj', 'noun', '.']\n",
            "\n",
            "Words: he had no ready answer , as much from surprise as from the fit of coughing .\n",
            "Predicted Tags: ['pron', 'verb', 'det', 'adj', 'noun', '.', 'adp', 'adj', 'adp', 'noun', 'adp', 'adp', 'det', 'noun', 'adp', 'verb', '.']\n",
            "\n",
            "Words: so one day out on the lake he said to his wife , \" please take the wheel , dear .\n",
            "Predicted Tags: ['adv', 'num', 'noun', 'prt', 'adp', 'det', 'noun', 'pron', 'verb', 'adp', 'det', 'noun', '.', '.', 'verb', 'verb', 'det', 'noun', '.', 'adv', '.']\n",
            "\n",
            "Words: this class can be just as successful in the dog world if it is given a chance .\n",
            "Predicted Tags: ['det', 'noun', 'verb', 'verb', 'adv', 'adv', 'adj', 'adp', 'det', 'noun', 'noun', 'adp', 'pron', 'verb', 'verb', 'det', 'noun', '.']\n",
            "\n",
            "Words: the other exclusively negro .\n",
            "Predicted Tags: ['det', 'adj', 'adv', 'noun', '.']\n",
            "\n",
            "Words: this is n't something new .\n",
            "Predicted Tags: ['det', 'verb', 'adv', 'noun', 'adj', '.']\n",
            "\n",
            "Words: `` well , damn '' , waddell said .\n",
            "Predicted Tags: ['.', 'prt', '.', 'verb', '.', '.', 'noun', 'verb', '.']\n",
            "\n",
            "Words: he has frequently refused to move from white lunch counters , refused to obey local laws which he considers unjust , while in other cases he has appealed to federal laws .\n",
            "Predicted Tags: ['pron', 'verb', 'adv', 'verb', 'prt', 'verb', 'adp', 'adj', 'noun', 'noun', '.', 'verb', 'prt', 'verb', 'adj', 'noun', 'det', 'pron', 'verb', 'adj', '.', 'adp', 'adp', 'adj', 'noun', 'pron', 'verb', 'verb', 'adp', 'adj', 'noun', '.']\n",
            "\n",
            "Words: credit requirements\n",
            "Predicted Tags: ['noun', 'noun']\n",
            "\n",
            "Words: in this sense , authorities believe that all estimates of phony device quackery are conservative .\n",
            "Predicted Tags: ['adp', 'det', 'noun', '.', 'noun', 'verb', 'adp', 'det', 'noun', 'adp', 'adj', 'noun', 'noun', 'verb', 'adj', '.']\n",
            "\n",
            "Words: if you 're married , we reduced the marriage penalty .\n",
            "Predicted Tags: ['adp', 'pron', 'verb', 'verb', '.', 'pron', 'verb', 'det', 'noun', 'noun', '.']\n",
            "\n",
            "Words: a dinner and celebration in honor of this piece of engineering took place july 4 , 1793 , in a tavern erected by the corporation on the island .\n",
            "Predicted Tags: ['det', 'noun', 'conj', 'noun', 'adp', 'noun', 'adp', 'det', 'noun', 'adp', 'verb', 'verb', 'noun', 'noun', 'num', '.', 'num', '.', 'adp', 'det', 'noun', 'verb', 'adp', 'det', 'noun', 'adp', 'det', 'noun', '.']\n",
            "\n",
            "Words: the volume is a piece of passionate special pleading , written with the heat -- and often with the wisdom , it must be said -- of a liberal damning the shortsightedness of politicians from 1782 to 1832 .\n",
            "Predicted Tags: ['det', 'noun', 'verb', 'det', 'noun', 'adp', 'adj', 'adj', 'verb', '.', 'verb', 'adp', 'det', 'noun', '.', 'conj', 'adv', 'adp', 'det', 'noun', '.', 'pron', 'verb', 'verb', 'verb', '.', 'adp', 'det', 'adj', 'noun', 'det', 'noun', 'adp', 'noun', 'adp', 'num', 'adp', 'num', '.']\n",
            "\n",
            "Words: mr. andersson insists that trelleborg and noranda have n't discussed a falconbridge break-up .\n",
            "Predicted Tags: ['noun', 'noun', 'verb', 'adp', 'noun', 'conj', 'noun', 'verb', 'adv', 'verb', 'det', 'noun', 'noun', '.']\n",
            "\n",
            "Words: this organization will differ from existing assistance programs in that its members will supplement technical advisers by offering the specific skills needed by developing nations if they are to put technical advice to work .\n",
            "Predicted Tags: ['det', 'noun', 'verb', 'verb', 'adp', 'verb', 'noun', 'noun', 'adp', 'det', 'pron', 'noun', 'verb', 'verb', 'adj', 'noun', 'adp', 'verb', 'det', 'adj', 'noun', 'verb', 'adp', 'verb', 'noun', 'adp', 'pron', 'verb', 'prt', 'verb', 'adj', 'noun', 'adp', 'verb', '.']\n",
            "\n",
            "Words: knowing what is best for people or trusting that they might know , or at least contribute to knowing , what is best for themselves ?\n",
            "Predicted Tags: ['verb', 'pron', 'verb', 'adj', 'adp', 'noun', 'conj', 'verb', 'adp', 'pron', 'verb', 'verb', '.', 'conj', 'adp', 'adj', 'verb', 'adp', 'verb', '.', 'det', 'verb', 'adj', 'adp', 'pron', '.']\n",
            "\n",
            "Words: pirate manager danny murtaugh said he hadn't decided between mizell and vern law for wednesday's game .\n",
            "Predicted Tags: ['noun', 'noun', 'noun', 'noun', 'verb', 'pron', 'verb', 'verb', 'adp', 'noun', 'conj', 'adj', 'noun', 'adp', 'noun', 'noun', '.']\n",
            "\n",
            "Words: keihin electric express railway co . -lrb- japan -rrb- --\n",
            "Predicted Tags: ['noun', 'noun', 'verb', 'noun', 'noun', '.', '.', 'noun', '.', '.']\n",
            "\n",
            "Words: `` send out a pickup on mrs. mason and the boy when you've got enough to go on '' , bill said .\n",
            "Predicted Tags: ['.', 'verb', 'prt', 'det', 'noun', 'adp', 'noun', 'noun', 'conj', 'det', 'noun', 'adv', 'prt', 'verb', 'adv', 'prt', 'verb', 'prt', '.', '.', 'noun', 'verb', '.']\n",
            "\n",
            "Words: he picked up the powder canister and ran out .\n",
            "Predicted Tags: ['pron', 'verb', 'prt', 'det', 'noun', 'noun', 'conj', 'verb', 'prt', '.']\n",
            "\n",
            "Words: with the market so crowded , says a spokesman for wendy 's in columbus , ohio , `` if you 're doing well , you 're doing well at someone else 's expense . ''\n",
            "Predicted Tags: ['adp', 'det', 'noun', 'adv', 'verb', '.', 'verb', 'det', 'noun', 'adp', 'noun', 'prt', 'adp', 'noun', '.', 'noun', '.', '.', 'adp', 'pron', 'verb', 'verb', 'adv', '.', 'pron', 'verb', 'verb', 'adv', 'adp', 'noun', 'adv', 'prt', 'noun', '.', '.']\n",
            "\n",
            "Words: pattern for inner lid piece e fits inside aj .\n",
            "Predicted Tags: ['noun', 'adp', 'adj', 'noun', 'noun', 'noun', 'verb', 'adp', 'noun', '.']\n",
            "\n",
            "Words: president kennedy has indicated his dissatisfaction with its performance .\n",
            "Predicted Tags: ['noun', 'noun', 'verb', 'verb', 'det', 'noun', 'adp', 'pron', 'noun', '.']\n",
            "\n",
            "Words: they'll get the guys that done it .\n",
            "Predicted Tags: ['prt', 'verb', 'det', 'noun', 'det', 'verb', 'pron', '.']\n",
            "\n",
            "Words: ] [ jack makes his way upstairs , trading hats a few times along the way\n",
            "Predicted Tags: ['noun', 'noun', 'noun', 'verb', 'pron', 'noun', 'adv', '.', 'verb', 'noun', 'det', 'adj', 'noun', 'adv', 'det', 'noun']\n",
            "\n",
            "Words: it consists of a series of pipes and a pressure-measuring chamber which record the rise and fall of the water surface .\n",
            "Predicted Tags: ['pron', 'verb', 'adp', 'det', 'noun', 'adp', 'noun', 'conj', 'det', 'noun', 'noun', 'det', 'verb', 'det', 'noun', 'conj', 'noun', 'adp', 'det', 'noun', 'noun', '.']\n",
            "\n",
            "Words: mr. conway was executive vice president and chief investment officer of union central life insurance co. , of cincinnati , in 1987 , when union central bought a 54 % interest in manhattan national corp .\n",
            "Predicted Tags: ['noun', 'noun', 'verb', 'adj', 'noun', 'noun', 'conj', 'adj', 'noun', 'noun', 'adp', 'noun', 'adj', 'noun', 'noun', 'noun', '.', 'adp', 'noun', '.', 'adp', 'num', '.', 'adv', 'noun', 'noun', 'verb', 'det', 'num', 'noun', 'noun', 'adp', 'noun', 'noun', 'noun', '.']\n",
            "\n",
            "Words: mike had a good two inches over phil and phil had to look up into mike's face .\n",
            "Predicted Tags: ['noun', 'verb', 'det', 'adj', 'num', 'noun', 'adp', 'noun', 'conj', 'noun', 'verb', 'prt', 'verb', 'prt', 'adp', 'noun', 'noun', '.']\n",
            "\n",
            "Words: sandburg is in constant demand as an entertainer .\n",
            "Predicted Tags: ['noun', 'verb', 'adp', 'adj', 'noun', 'adp', 'det', 'noun', '.']\n",
            "\n",
            "Words: `` i want to be in scotty's bar at midnight when marsha makes her phone call there '' , he ended grimly .\n",
            "Predicted Tags: ['.', 'pron', 'verb', 'prt', 'verb', 'adp', 'noun', 'noun', 'adp', 'noun', 'adv', 'noun', 'verb', 'pron', 'noun', 'noun', 'adv', '.', '.', 'pron', 'verb', 'adv', '.']\n",
            "\n",
            "Words: the board could eventually come under some pressure to sell the company because its members can be ousted by a majority shareholder vote , particularly since one-third of ual stock is held by takeover stock speculators who favor a sale .\n",
            "Predicted Tags: ['det', 'noun', 'verb', 'adv', 'verb', 'adp', 'det', 'noun', 'prt', 'verb', 'det', 'noun', 'adp', 'det', 'noun', 'verb', 'verb', 'verb', 'adp', 'det', 'noun', 'noun', 'noun', '.', 'adv', 'adp', 'noun', 'adp', 'noun', 'noun', 'verb', 'verb', 'adp', 'noun', 'noun', 'noun', 'pron', 'noun', 'det', 'noun', '.']\n",
            "\n",
            "Words: eddie lee , riverside's redheaded playing manager , ran after the ball but it rolled past him .\n",
            "Predicted Tags: ['noun', 'noun', '.', 'prt', 'adp', 'verb', 'noun', '.', 'verb', 'adp', 'det', 'noun', 'conj', 'pron', 'verb', 'adp', 'pron', '.']\n",
            "\n",
            "Words: interpretation , naturally , remains the role of the therapist , but orientation -- not only the patient's vocal giveaways of geographical and socio-economic background , but also vocal but non-verbal giveaways of danger spots in his relationship to people -- can be considerably beefed up by the linguist .\n",
            "Predicted Tags: ['noun', '.', 'adv', '.', 'verb', 'det', 'noun', 'adp', 'det', 'noun', '.', 'conj', 'noun', '.', 'adv', 'adv', 'det', 'noun', 'noun', 'noun', 'adp', 'adj', 'conj', 'adj', 'noun', '.', 'conj', 'adv', 'adj', 'conj', 'adj', 'noun', 'adp', 'noun', 'noun', 'adp', 'det', 'noun', 'prt', 'noun', '.', 'verb', 'verb', 'adv', 'verb', 'prt', 'adp', 'det', 'noun', '.']\n",
            "\n",
            "Words: abortion alone ca n't explain this shift , but new jersey is a model of how so personal an issue can become a baseline of sorts in judging a candidate .\n",
            "Predicted Tags: ['noun', 'adv', 'verb', 'adv', 'verb', 'det', 'noun', '.', 'conj', 'adj', 'noun', 'verb', 'det', 'noun', 'adp', 'adv', 'adv', 'adj', 'det', 'noun', 'verb', 'verb', 'det', 'noun', 'adp', 'noun', 'adp', 'verb', 'det', 'noun', '.']\n",
            "\n",
            "Words: i 'll see emil home . \"\n",
            "Predicted Tags: ['pron', 'verb', 'verb', 'noun', 'noun', '.', '.']\n",
            "\n",
            "Words: he wasn't a dwarf but he was a bit of a comic figure .\n",
            "Predicted Tags: ['pron', 'verb', 'det', 'noun', 'conj', 'pron', 'verb', 'det', 'noun', 'adp', 'det', 'adj', 'noun', '.']\n",
            "\n",
            "Words: i took it .\n",
            "Predicted Tags: ['pron', 'verb', 'pron', '.']\n",
            "\n",
            "Words: now most of the kids i was friends with have double nationalities or are pluricultural .\n",
            "Predicted Tags: ['adv', 'adv', 'adp', 'det', 'noun', 'pron', 'verb', 'noun', 'adp', 'verb', 'adj', 'noun', 'conj', 'verb', 'noun', '.']\n",
            "\n",
            "Words: a big sister is a mentor , a friend and a role model , helping a young girl to develop the self-confidence and life skills necessary to become a responsible , productive and successful adult .\n",
            "Predicted Tags: ['det', 'adj', 'noun', 'verb', 'det', 'noun', '.', 'det', 'noun', 'conj', 'det', 'noun', 'noun', '.', 'verb', 'det', 'adj', 'noun', 'prt', 'verb', 'det', 'noun', 'conj', 'noun', 'noun', 'adj', 'prt', 'verb', 'det', 'adj', '.', 'adj', 'conj', 'adj', 'noun', '.']\n",
            "\n",
            "Words: but there was something about her -- and i felt my lips forming a name .\n",
            "Predicted Tags: ['conj', 'prt', 'verb', 'noun', 'adp', 'pron', '.', 'conj', 'pron', 'verb', 'det', 'noun', 'verb', 'det', 'noun', '.']\n",
            "\n",
            "Words: do you like to sew ? ?\n",
            "Predicted Tags: ['verb', 'pron', 'verb', 'prt', 'verb', '.', '.']\n",
            "\n",
            "Words: moreover , because no one knows for sure just when a recession is coming , some analysts think investors should n't even worry too much about timing .\n",
            "Predicted Tags: ['adv', '.', 'adp', 'det', 'noun', 'verb', 'adp', 'adj', 'adv', 'adv', 'det', 'noun', 'verb', 'verb', '.', 'det', 'noun', 'verb', 'noun', 'verb', 'adv', 'adv', 'verb', 'adv', 'adv', 'adp', 'noun', '.']\n",
            "\n",
            "Words: the club that overcame the worst start in a comparable period to win the pennant was new york's '51 giants , who dropped 11 of their first 13 .\n",
            "Predicted Tags: ['det', 'noun', 'pron', 'verb', 'det', 'adj', 'noun', 'adp', 'det', 'adj', 'noun', 'prt', 'verb', 'det', 'noun', 'verb', 'adj', 'noun', 'noun', 'noun', '.', 'pron', 'verb', 'num', 'adp', 'det', 'adj', 'num', '.']\n",
            "\n",
            "Words: firehouses do n't have enough firefighters in them .\n",
            "Predicted Tags: ['noun', 'verb', 'adv', 'verb', 'adj', 'noun', 'adp', 'pron', '.']\n",
            "\n",
            "Words: in later experiments , af and af were prepared by conjugating 8 mg of fitc per gram of globulin .\n",
            "Predicted Tags: ['adp', 'adj', 'noun', '.', 'noun', 'conj', 'noun', 'verb', 'verb', 'adp', 'verb', 'num', 'noun', 'adp', 'noun', 'adp', 'noun', 'adp', 'noun', '.']\n",
            "\n",
            "Words: `` stop that ! !\n",
            "Predicted Tags: ['.', 'verb', 'pron', '.', '.']\n",
            "\n",
            "Words: the river was only a few blocks away but an unbroken line of piers prevented me from seeing it .\n",
            "Predicted Tags: ['det', 'noun', 'verb', 'adv', 'det', 'adj', 'noun', 'adv', 'conj', 'det', 'adj', 'noun', 'adp', 'noun', 'verb', 'pron', 'adp', 'verb', 'pron', '.']\n",
            "\n",
            "Words: los angeles , calif. ; ;\n",
            "Predicted Tags: ['noun', 'noun', '.', 'noun', '.', '.']\n",
            "\n",
            "Words: once the grains are ground , vitamin e begins to deteriorate immediately and half of it is lost by oxidation and exposure to the air within one week .\n",
            "Predicted Tags: ['adv', 'det', 'noun', 'verb', 'noun', '.', 'noun', 'noun', 'verb', 'prt', 'verb', 'adv', 'conj', 'prt', 'adp', 'pron', 'verb', 'verb', 'adp', 'noun', 'conj', 'noun', 'prt', 'det', 'noun', 'adp', 'num', 'noun', '.']\n",
            "\n",
            "Words: these three were much alike : lined snake ( tropidoclonion ) , one year and nine months ; ;\n",
            "Predicted Tags: ['det', 'num', 'verb', 'adv', 'adv', '.', 'verb', 'noun', '.', 'noun', '.', '.', 'num', 'noun', 'conj', 'num', 'noun', '.', '.']\n",
            "\n",
            "Words: and most vacationers still prefer a warm climate for their winter excursions .\n",
            "Predicted Tags: ['conj', 'adv', 'noun', 'adv', 'verb', 'det', 'adj', 'noun', 'adp', 'det', 'noun', 'noun', '.']\n",
            "\n",
            "Words: mr. anderson wants the prestige colleges to sponsor such a plan .\n",
            "Predicted Tags: ['noun', 'noun', 'verb', 'det', 'noun', 'noun', 'prt', 'verb', 'prt', 'det', 'noun', '.']\n",
            "\n",
            "Words: macro definitions .\n",
            "Predicted Tags: ['adj', 'noun', '.']\n",
            "\n",
            "Words: the charles men consists not of a connected narrative but of a group of short stories , each depicting a special phase of the general subject .\n",
            "Predicted Tags: ['det', 'noun', 'noun', 'verb', 'adv', 'adp', 'det', 'adj', 'noun', 'conj', 'adp', 'det', 'noun', 'adp', 'adj', 'noun', '.', 'det', 'verb', 'det', 'adj', 'noun', 'adp', 'det', 'adj', 'noun', '.']\n",
            "\n",
            "Words: visualized .\n",
            "Predicted Tags: ['verb', '.']\n",
            "\n",
            "Words: http://tiurreis.com/\n",
            "Predicted Tags: ['noun']\n",
            "\n",
            "Words: they figured prominently in the balafrej government of may , 1958 , which the king was reportedly determined to keep in office until elections could be held .\n",
            "Predicted Tags: ['pron', 'verb', 'adv', 'adp', 'det', 'noun', 'noun', 'adp', 'noun', '.', 'num', '.', 'det', 'det', 'noun', 'verb', 'adv', 'verb', 'prt', 'verb', 'adp', 'noun', 'adp', 'noun', 'verb', 'verb', 'verb', '.']\n",
            "\n",
            "Words: an angel , cast down from the heavens and fallen to the earth .\n",
            "Predicted Tags: ['det', 'noun', '.', 'verb', 'adv', 'adp', 'det', 'noun', 'conj', 'verb', 'adp', 'det', 'noun', '.']\n",
            "\n",
            "Words: for plaintiffs\n",
            "Predicted Tags: ['adp', 'noun']\n",
            "\n",
            "Words: even her voice had taken on a more cultivated tone .\n",
            "Predicted Tags: ['adv', 'det', 'noun', 'verb', 'verb', 'adp', 'det', 'adv', 'verb', 'noun', '.']\n",
            "\n",
            "Words: he said : `` the crazy fool '' , half aloud .\n",
            "Predicted Tags: ['pron', 'verb', '.', '.', 'det', 'adj', 'noun', '.', '.', 'prt', 'adv', '.']\n",
            "\n",
            "Words: suspicion wasn't new to him at all .\n",
            "Predicted Tags: ['noun', 'verb', 'adj', 'prt', 'pron', 'adp', 'prt', '.']\n",
            "\n",
            "Words: and in thanks for your gift of $15 or more , you 11 receive a free birdfeeder .\n",
            "Predicted Tags: ['conj', 'adp', 'noun', 'adp', 'pron', 'noun', 'adp', 'noun', 'conj', 'adj', '.', 'pron', 'num', 'noun', 'det', 'adj', 'noun', '.']\n",
            "\n",
            "Words: i didn ’ t even know how they could create gravity in a spaceship .\n",
            "Predicted Tags: ['pron', 'noun', 'noun', 'noun', 'adv', 'verb', 'adv', 'pron', 'verb', 'verb', 'noun', 'adp', 'det', 'noun', '.']\n",
            "\n",
            "Words: the program-trading issue is heating up on capitol hill as it is *?* on wall street , and several legislators want *-2 to grant the sec the power * to shut off the programs when trading becomes too volatile *t*-3 .\n",
            "Predicted Tags: ['det', 'adj', 'noun', 'verb', 'verb', 'adp', 'adp', 'noun', 'noun', 'adp', 'pron', 'verb', 'x', 'adp', 'noun', 'noun', '.', 'conj', 'adj', 'noun', 'verb', 'x', 'prt', 'verb', 'det', 'noun', 'det', 'noun', 'x', 'prt', 'verb', 'prt', 'det', 'noun', 'adv', 'noun', 'verb', 'adv', 'adj', 'x', '.']\n",
            "\n",
            "Words: hitler did just that 23 years ago , building up tensions that first led to a munich and then to a world war .\n",
            "Predicted Tags: ['noun', 'verb', 'adv', 'adp', 'num', 'noun', 'adv', '.', 'verb', 'adv', 'noun', 'det', 'adj', 'verb', 'adp', 'det', 'noun', 'conj', 'adv', 'prt', 'det', 'noun', 'noun', '.']\n",
            "\n",
            "Words: therefore , state and defense would plan to build an international coalition to go into afghanistan .\n",
            "Predicted Tags: ['adv', '.', 'noun', 'conj', 'noun', 'verb', 'verb', 'prt', 'verb', 'det', 'adj', 'noun', 'prt', 'verb', 'adp', 'noun', '.']\n",
            "\n",
            "Words: the result was that i found myself in the ridiculous position of having made a formal engagement by letter for the next week , only two days before my departure from london .\n",
            "Predicted Tags: ['det', 'noun', 'verb', 'adp', 'pron', 'verb', 'pron', 'adp', 'det', 'adj', 'noun', 'adp', 'verb', 'verb', 'det', 'adj', 'noun', 'adp', 'noun', 'adp', 'det', 'adj', 'noun', '.', 'adv', 'num', 'noun', 'adp', 'det', 'noun', 'adp', 'noun', '.']\n",
            "\n",
            "Words: even so , it was still not clear to many in the enormous horde of spectators -- unquestionably the largest golf crowd ever -- that this tournament was to be , essentially , a match between palmer and player .\n",
            "Predicted Tags: ['adv', 'adv', '.', 'pron', 'verb', 'adv', 'adv', 'adj', 'adp', 'adj', 'adp', 'det', 'adj', 'noun', 'adp', 'noun', '.', 'adv', 'det', 'adj', 'noun', 'noun', 'adv', '.', 'adp', 'det', 'noun', 'verb', 'prt', 'verb', '.', 'adv', '.', 'det', 'verb', 'adp', 'noun', 'conj', 'noun', '.']\n",
            "\n",
            "Words: i could not restrain my ravenous appetite .\n",
            "Predicted Tags: ['pron', 'verb', 'adv', 'verb', 'pron', 'adj', 'noun', '.']\n",
            "\n",
            "Words: in-nest navigation will be a function of the temperature , read by antie ’ s thermometer and a light source .\n",
            "Predicted Tags: ['noun', 'noun', 'verb', 'verb', 'det', 'noun', 'adp', 'det', 'noun', '.', 'verb', 'adp', 'noun', 'noun', 'verb', 'noun', 'conj', 'det', 'adj', 'noun', '.']\n",
            "\n",
            "Words: varlaam is loud , rowdy , uninhibited in his pleasures and impatient with anyone who is not the same .\n",
            "Predicted Tags: ['noun', 'verb', 'adj', '.', 'noun', '.', 'adj', 'adp', 'det', 'noun', 'conj', 'adj', 'adp', 'noun', 'pron', 'verb', 'adv', 'det', 'adj', '.']\n",
            "\n",
            "Words: then you can do the finishing touches at your leisure .\n",
            "Predicted Tags: ['adv', 'pron', 'verb', 'verb', 'det', 'verb', 'noun', 'adp', 'pron', 'noun', '.']\n",
            "\n",
            "Words: his handfuls could do nothing to quench the hewn , burning logs , but when the night sky grew dark above him and the fire dwindled to black ashes , tears threatened to spill forth and extinguish the final embers .\n",
            "Predicted Tags: ['det', 'noun', 'verb', 'verb', 'noun', 'prt', 'verb', 'det', 'verb', '.', 'verb', 'noun', '.', 'conj', 'adv', 'det', 'noun', 'noun', 'verb', 'adj', 'adp', 'pron', 'conj', 'det', 'noun', 'verb', 'prt', 'adj', 'noun', '.', 'noun', 'verb', 'prt', 'verb', 'adv', 'conj', 'verb', 'det', 'adj', 'noun', '.']\n",
            "\n",
            "Words: our own studies in which bronchial artery-pulmonary artery anastomoses were demonstrated , were accomplished by injecting the bronchial artery first with no pressure on the pulmonary artery or vein , and then by injecting the pulmonary artery and vein afterwards .\n",
            "Predicted Tags: ['pron', 'adj', 'noun', 'adp', 'det', 'adj', 'noun', 'noun', 'noun', 'verb', 'verb', '.', 'verb', 'verb', 'adp', 'verb', 'det', 'adj', 'noun', 'adv', 'adp', 'det', 'noun', 'adp', 'det', 'adj', 'noun', 'conj', 'noun', '.', 'conj', 'adv', 'adp', 'verb', 'det', 'adj', 'noun', 'conj', 'noun', 'adv', '.']\n",
            "\n",
            "Words: as usual , the press photographers were on hand .\n",
            "Predicted Tags: ['adp', 'adj', '.', 'det', 'noun', 'noun', 'verb', 'adp', 'noun', '.']\n",
            "\n",
            "Words: never seemed as if it could happen to you ; ;\n",
            "Predicted Tags: ['adv', 'verb', 'adp', 'adp', 'pron', 'verb', 'verb', 'prt', 'pron', '.', '.']\n",
            "\n",
            "Words: for use in formulas , fractions should be converted to their decimal equivalents .\n",
            "Predicted Tags: ['adp', 'noun', 'adp', 'noun', '.', 'noun', 'verb', 'verb', 'verb', 'adp', 'det', 'noun', 'noun', '.']\n",
            "\n",
            "Words: alex henderson , an analyst with prudential-bache , says polaroid officials told him yesterday that u.s. sales of the company 's new conventional film product , introduced in the second quarter , have been `` disappointing '' after a promising start .\n",
            "Predicted Tags: ['noun', 'noun', '.', 'det', 'noun', 'adp', 'noun', '.', 'verb', 'noun', 'noun', 'verb', 'pron', 'noun', 'adp', 'noun', 'noun', 'adp', 'det', 'noun', 'prt', 'adj', 'adj', 'noun', 'noun', '.', 'verb', 'adp', 'det', 'adj', 'noun', '.', 'verb', 'verb', '.', 'adj', '.', 'adp', 'det', 'adj', 'noun', '.']\n",
            "\n",
            "Words: they had divided the congo into six provinces -- leopoldville , kasai , kivu , katanga , equator and eastern -- unfortunately with little regard for ethnic groupings .\n",
            "Predicted Tags: ['pron', 'verb', 'verb', 'det', 'noun', 'adp', 'num', 'noun', '.', 'noun', '.', 'noun', '.', 'noun', '.', 'noun', '.', 'noun', 'conj', 'noun', '.', 'adv', 'adp', 'adj', 'noun', 'adp', 'adj', 'noun', '.']\n",
            "\n",
            "Words: that fewer women are named miranda than elizabeth ; ;\n",
            "Predicted Tags: ['det', 'adj', 'noun', 'verb', 'verb', 'noun', 'adp', 'noun', '.', '.']\n",
            "\n",
            "Words: he snatched at it savagely .\n",
            "Predicted Tags: ['pron', 'verb', 'adp', 'pron', 'adv', '.']\n",
            "\n",
            "Words: “ i ’m sorry , fame , but i can ’ t lose you . ”\n",
            "Predicted Tags: ['noun', 'pron', 'verb', 'adj', '.', 'noun', '.', 'conj', 'pron', 'verb', 'noun', 'noun', 'verb', 'pron', '.', 'noun']\n",
            "\n",
            "Words: the goal is to enlist all available economic resources in the industrialized free world , especially private investment capital .\n",
            "Predicted Tags: ['det', 'noun', 'verb', 'prt', 'verb', 'det', 'adj', 'adj', 'noun', 'adp', 'det', 'verb', 'adj', 'noun', '.', 'adv', 'adj', 'noun', 'noun', '.']\n",
            "\n",
            "Words: `` you 're not going to make it in a 5 % bank account , '' says james riepe , director of mutual funds at t. rowe price .\n",
            "Predicted Tags: ['.', 'pron', 'verb', 'adv', 'verb', 'prt', 'verb', 'pron', 'adp', 'det', 'num', 'noun', 'noun', 'noun', '.', '.', 'verb', 'noun', 'noun', '.', 'noun', 'adp', 'adj', 'noun', 'adp', 'noun', 'noun', 'noun', '.']\n",
            "\n",
            "Words: do you think we 're meeting our obligations properly ?\n",
            "Predicted Tags: ['verb', 'pron', 'verb', 'pron', 'verb', 'verb', 'pron', 'noun', 'adv', '.']\n",
            "\n",
            "Words: approved september 26 , 1961 .\n",
            "Predicted Tags: ['verb', 'noun', 'num', '.', 'num', '.']\n",
            "\n",
            "Words: those writers known collectively as the `` southern school '' have received accolades from even those critics least prone to eulogize ; ;\n",
            "Predicted Tags: ['det', 'noun', 'verb', 'adv', 'adp', 'det', '.', 'adj', 'noun', '.', 'verb', 'verb', 'noun', 'adp', 'adv', 'det', 'noun', 'adv', 'adj', 'adp', 'verb', '.', '.']\n",
            "\n",
            "Words: “ i don ’ t know how to say this , ” kyle finally forced out . “\n",
            "Predicted Tags: ['noun', 'pron', 'verb', 'noun', 'noun', 'verb', 'adv', 'prt', 'verb', 'det', '.', 'noun', 'noun', 'adv', 'verb', 'adp', '.', 'noun']\n",
            "\n",
            "Words: it has been suggested many times that a class be set up for the juniors who are overage and cannot enter the junior classes .\n",
            "Predicted Tags: ['pron', 'verb', 'verb', 'verb', 'adj', 'noun', 'pron', 'det', 'noun', 'verb', 'verb', 'prt', 'adp', 'det', 'noun', 'pron', 'verb', 'adj', 'conj', 'verb', 'verb', 'det', 'adj', 'noun', '.']\n",
            "\n",
            "Words: getting along with foreigners\n",
            "Predicted Tags: ['verb', 'adp', 'adp', 'noun']\n",
            "\n",
            "Words: permitting and air quality issues developers of distributed ( i.e. , \" on-site \" ) generation that is 50 mws or greater must receive certification from the california energy commission an d therefore face all of the impediments to development that large-scale generation faces .\n",
            "Predicted Tags: ['verb', 'conj', 'noun', 'noun', 'noun', 'noun', 'adp', 'verb', '.', 'noun', '.', '.', 'adj', '.', '.', 'noun', 'det', 'verb', 'num', 'noun', 'conj', 'adj', 'verb', 'verb', 'noun', 'adp', 'det', 'noun', 'noun', 'noun', 'det', 'noun', 'adv', 'noun', 'prt', 'adp', 'det', 'noun', 'prt', 'noun', 'det', 'noun', 'noun', 'verb', '.']\n",
            "\n",
            "Words: provide maintenance to full standards on the 268,900 miles of existing access roads and trails and on the new roads and trails constructed during the period .\n",
            "Predicted Tags: ['verb', 'noun', 'adp', 'adj', 'noun', 'adp', 'det', 'noun', 'noun', 'adp', 'verb', 'noun', 'noun', 'conj', 'noun', 'conj', 'adp', 'det', 'adj', 'noun', 'conj', 'noun', 'verb', 'adp', 'det', 'noun', '.']\n",
            "\n",
            "Words: more of an agricultural nation , they have relied on their warriors only for defense and for survival in the endless wars of the plains .\n",
            "Predicted Tags: ['adj', 'adp', 'det', 'adj', 'noun', '.', 'pron', 'verb', 'verb', 'adp', 'det', 'noun', 'adv', 'adp', 'noun', 'conj', 'adp', 'noun', 'adp', 'det', 'adj', 'noun', 'adp', 'det', 'noun', '.']\n",
            "\n",
            "Words: but then , as he well knew , women are not guided by logic or common sense .\n",
            "Predicted Tags: ['conj', 'adv', '.', 'adp', 'pron', 'adv', 'verb', '.', 'noun', 'verb', 'adv', 'verb', 'adp', 'noun', 'conj', 'adj', 'noun', '.']\n",
            "\n",
            "Words: he steps inside .\n",
            "Predicted Tags: ['pron', 'verb', 'adv', '.']\n",
            "\n",
            "Words: almost anyone could have written it ; ;\n",
            "Predicted Tags: ['adv', 'noun', 'verb', 'verb', 'verb', 'pron', '.', '.']\n",
            "\n",
            "Words: the women 's history of the word\n",
            "Predicted Tags: ['det', 'noun', 'prt', 'noun', 'adp', 'det', 'noun']\n",
            "\n",
            "Words: at the end of the room there was a desk heaped with papers , and she began to riffle these , making sighs and and noises of girlish exasperation .\n",
            "Predicted Tags: ['adp', 'det', 'noun', 'adp', 'det', 'noun', 'adv', 'verb', 'det', 'noun', 'verb', 'adp', 'noun', '.', 'conj', 'pron', 'verb', 'prt', 'verb', 'det', '.', 'verb', 'noun', 'conj', 'conj', 'verb', 'adp', 'adj', 'noun', '.']\n",
            "\n",
            "Words: the theatre-by-the-sea , matunuck , presents `` king of hearts '' by jean kerr and eleanor brooke .\n",
            "Predicted Tags: ['det', 'noun', '.', 'noun', '.', 'verb', '.', 'noun', 'adp', 'noun', '.', 'adp', 'noun', 'noun', 'conj', 'noun', 'noun', '.']\n",
            "\n",
            "Words: if you allow -- also allow -- convince states to -- allow states to allow the mother to match some of the children 's health insurance money with it , the pool purchasing power .\n",
            "Predicted Tags: ['adp', 'pron', 'verb', '.', 'adv', 'verb', '.', 'verb', 'noun', 'prt', '.', 'verb', 'noun', 'prt', 'verb', 'det', 'noun', 'prt', 'verb', 'det', 'adp', 'det', 'noun', 'prt', 'noun', 'noun', 'noun', 'adp', 'pron', '.', 'det', 'noun', 'noun', 'noun', '.']\n",
            "\n",
            "Words: “ okay , ” he said as we hit the street , “ we ’ re going to see another friend of mine .\n",
            "Predicted Tags: ['noun', 'x', '.', 'noun', 'pron', 'verb', 'adp', 'pron', 'verb', 'det', 'noun', '.', 'noun', 'pron', 'noun', 'noun', 'verb', 'prt', 'verb', 'det', 'noun', 'adp', 'noun', '.']\n",
            "\n",
            "Words: but the exact amount of reliance 's current holding has n't been formally disclosed *-1 .\n",
            "Predicted Tags: ['conj', 'det', 'adj', 'noun', 'adp', 'noun', 'prt', 'adj', 'noun', 'verb', 'adv', 'verb', 'adv', 'verb', 'x', '.']\n",
            "\n",
            "Words: but that scarcely means that he was the aloof , forbidding type of student who shared few if any activities with his fellows , the banter of the surviving prolusions providing enough evidence to deny this .\n",
            "Predicted Tags: ['conj', 'det', 'adv', 'verb', 'adp', 'pron', 'verb', 'det', 'adv', '.', 'verb', 'noun', 'adp', 'noun', 'pron', 'verb', 'adj', 'adp', 'det', 'noun', 'adp', 'det', 'noun', '.', 'det', 'noun', 'adp', 'det', 'verb', 'noun', 'verb', 'adj', 'noun', 'prt', 'verb', 'det', '.']\n",
            "\n",
            "Words: pistol-whipping an unarmed man might come easy to someone like jess , but curt couldn't bring himself to do it .\n",
            "Predicted Tags: ['noun', 'det', 'adj', 'noun', 'verb', 'verb', 'adv', 'prt', 'verb', 'adp', 'noun', '.', 'conj', 'noun', 'verb', 'verb', 'pron', 'adp', 'verb', 'pron', '.']\n",
            "\n",
            "Words: i work on a watercolor easel in the field , and frequently resort to a large garden umbrella to protect my eyes from undue strain .\n",
            "Predicted Tags: ['pron', 'verb', 'adp', 'det', 'noun', 'noun', 'adp', 'det', 'noun', '.', 'conj', 'adv', 'verb', 'adp', 'det', 'adj', 'noun', 'noun', 'prt', 'verb', 'det', 'noun', 'adp', 'adj', 'noun', '.']\n",
            "\n",
            "Words: but if drinking is a gerundial noun modifying water and without drinking water is equivalent to without water for drinking , there will be stronger stress on drinking than on water .\n",
            "Predicted Tags: ['conj', 'adp', 'verb', 'verb', 'det', 'adj', 'noun', 'verb', 'noun', 'conj', 'adp', 'verb', 'noun', 'verb', 'adj', 'adp', 'adp', 'noun', 'adp', 'verb', '.', 'prt', 'verb', 'verb', 'adj', 'noun', 'adp', 'verb', 'adp', 'adp', 'noun', '.']\n",
            "\n",
            "Words: during the trip selkirk decided that the route through illinois territory to indiana and the eastern united states was the best route for goods from england to reach red river and that the united states was a better source of supply for many goods than either canada or england .\n",
            "Predicted Tags: ['adp', 'det', 'noun', 'noun', 'verb', 'adp', 'det', 'noun', 'adp', 'noun', 'noun', 'adp', 'noun', 'conj', 'det', 'adj', 'noun', 'noun', 'verb', 'det', 'adj', 'noun', 'adp', 'noun', 'adp', 'noun', 'prt', 'verb', 'noun', 'noun', 'conj', 'adp', 'det', 'verb', 'noun', 'verb', 'det', 'adj', 'noun', 'adp', 'noun', 'adp', 'adj', 'noun', 'adp', 'det', 'noun', 'conj', 'noun', '.']\n",
            "\n",
            "Words: ellie sattler unique .\n",
            "Predicted Tags: ['noun', 'noun', 'adj', '.']\n",
            "\n",
            "Words: in this article , i was alleged to have said , `` any patient with high-risk colon cancer is really getting short shrift if he 's not getting this therapy . ''\n",
            "Predicted Tags: ['adp', 'det', 'noun', '.', 'pron', 'verb', 'verb', 'prt', 'verb', 'verb', '.', '.', 'det', 'noun', 'adp', 'adj', 'noun', 'noun', 'verb', 'adv', 'verb', 'adj', 'noun', 'adp', 'pron', 'verb', 'adv', 'verb', 'det', 'noun', '.', '.']\n",
            "\n",
            "Words: he was always concerned with life , and he tried to picture it whole ; ;\n",
            "Predicted Tags: ['pron', 'verb', 'adv', 'verb', 'adp', 'noun', '.', 'conj', 'pron', 'verb', 'prt', 'verb', 'pron', 'adj', '.', '.']\n",
            "\n",
            "Words: “ that was bothering me , ” he told chloe honestly .\n",
            "Predicted Tags: ['noun', 'det', 'verb', 'verb', 'pron', '.', 'noun', 'pron', 'verb', 'noun', 'adv', '.']\n",
            "\n",
            "Words: nothing .\n",
            "Predicted Tags: ['noun', '.']\n",
            "\n",
            "Words: so mel chandler set out to sell him on the spirit of garryowen , just as he himself had been sold a short time before .\n",
            "Predicted Tags: ['adv', 'noun', 'noun', 'verb', 'adp', 'prt', 'verb', 'pron', 'adp', 'det', 'noun', 'adp', 'noun', '.', 'adv', 'adv', 'pron', 'pron', 'verb', 'verb', 'verb', 'det', 'adj', 'noun', 'adp', '.']\n",
            "\n",
            "Words: and now , therefore , do i , john a. notte , jr. , governor of the state of rhode island and providence plantations , proclaim the week of monday , november 13 , 1961 , as the state ballet of rhode island week , requesting all rhode islanders to give special attention to this unusual event which should contribute to the cultural life of the state .\n",
            "Predicted Tags: ['conj', 'adv', '.', 'adv', '.', 'verb', 'pron', '.', 'noun', 'noun', 'noun', '.', 'noun', '.', 'noun', 'adp', 'det', 'noun', 'adp', 'noun', 'noun', 'conj', 'noun', 'noun', '.', 'verb', 'det', 'noun', 'adp', 'noun', '.', 'noun', 'num', '.', 'num', '.', 'adp', 'det', 'noun', 'noun', 'adp', 'noun', 'noun', 'noun', '.', 'verb', 'prt', 'noun', 'noun', 'adp', 'verb', 'adj', 'noun', 'adp', 'det', 'adj', 'noun', 'det', 'verb', 'verb', 'adp', 'det', 'adj', 'noun', 'adp', 'det', 'noun', '.']\n",
            "\n",
            "Words: such a comparison reminds us that in employing low characters in his works faulkner is recording actuality in the south and moreover is following a long-established literary precedent .\n",
            "Predicted Tags: ['adj', 'det', 'noun', 'verb', 'pron', 'adp', 'adp', 'noun', 'adj', 'noun', 'adp', 'det', 'noun', 'noun', 'verb', 'verb', 'adv', 'adp', 'det', 'adj', 'conj', 'adv', 'verb', 'verb', 'det', 'adj', 'adj', 'noun', '.']\n",
            "\n",
            "Words: and now , in march , all laos suffered a state of siege .\n",
            "Predicted Tags: ['conj', 'adv', '.', 'adp', 'noun', '.', 'prt', 'noun', 'verb', 'det', 'noun', 'adp', 'noun', '.']\n",
            "\n",
            "Words: looking ahead to the fourth quarter , the company said export log and lumber markets will be weak , while panel and plywood markets will be stronger .\n",
            "Predicted Tags: ['verb', 'adv', 'prt', 'det', 'adj', 'noun', '.', 'det', 'noun', 'verb', 'noun', 'noun', 'conj', 'noun', 'noun', 'verb', 'verb', 'adj', '.', 'adp', 'noun', 'conj', 'noun', 'noun', 'verb', 'verb', 'adj', '.']\n",
            "\n",
            "Words: he added that details of the recapitalization still have to be worked out , but that pathe will take 50 % of odeon , rome film producer bruno lucisano will take 10 % and the remaining 16.66 % , currently owned by sasea , will eventually be sold to other investors .\n",
            "Predicted Tags: ['pron', 'verb', 'adp', 'noun', 'adp', 'det', 'noun', 'adv', 'verb', 'prt', 'verb', 'verb', 'prt', '.', 'conj', 'det', 'noun', 'verb', 'verb', 'num', 'noun', 'adp', 'noun', '.', 'noun', 'noun', 'noun', 'noun', 'noun', 'verb', 'verb', 'num', 'noun', 'conj', 'det', 'verb', 'noun', 'noun', '.', 'adv', 'verb', 'adp', 'noun', '.', 'verb', 'adv', 'verb', 'verb', 'prt', 'adj', 'noun', '.']\n",
            "\n",
            "Words: his dinner fell anywhere from nine to noon ; ;\n",
            "Predicted Tags: ['det', 'noun', 'verb', 'adv', 'adp', 'num', 'adp', 'noun', '.', '.']\n",
            "\n",
            "Words: wow , long visit with a friend . .\n",
            "Predicted Tags: ['x', '.', 'adj', 'noun', 'adp', 'det', 'noun', '.', '.']\n",
            "\n",
            "Words: and letters began to come in to this column from irate shareholders .\n",
            "Predicted Tags: ['conj', 'noun', 'verb', 'prt', 'verb', 'prt', 'adp', 'det', 'noun', 'adp', 'noun', 'noun', '.']\n",
            "\n",
            "Words: after the first month , rates are considerably less , averaging only about $60 a month for most 4- and 5-passenger models .\n",
            "Predicted Tags: ['adp', 'det', 'adj', 'noun', '.', 'noun', 'verb', 'adv', 'adj', '.', 'verb', 'adv', 'adv', 'noun', 'det', 'noun', 'adp', 'adj', 'num', 'conj', 'noun', 'noun', '.']\n",
            "\n",
            "Words: you still said `` john-and-linda '' , but as if you were speaking of a national catastrophe such as the depression or dillinger .\n",
            "Predicted Tags: ['pron', 'adv', 'verb', '.', 'noun', '.', '.', 'conj', 'adp', 'adp', 'pron', 'verb', 'verb', 'adp', 'det', 'adj', 'noun', 'adj', 'adp', 'det', 'noun', 'conj', 'noun', '.']\n",
            "\n",
            "Words: he possessed the fighter pilot's horror of bad weather and instrument flying , and he wondered , if the ceiling did drop , whether he and the other flights would be able to find their way back in this unfamiliar territory .\n",
            "Predicted Tags: ['pron', 'verb', 'det', 'noun', 'noun', 'noun', 'adp', 'adj', 'noun', 'conj', 'noun', 'verb', '.', 'conj', 'pron', 'verb', '.', 'adp', 'det', 'noun', 'verb', 'verb', '.', 'adp', 'pron', 'conj', 'det', 'adj', 'noun', 'verb', 'verb', 'adj', 'prt', 'verb', 'det', 'noun', 'adv', 'adp', 'det', 'adj', 'noun', '.']\n",
            "\n",
            "Words: my last gift to him is complete silence until the book is out and the first heated discussion dies down .\n",
            "Predicted Tags: ['pron', 'adj', 'noun', 'prt', 'pron', 'verb', 'adj', 'noun', 'adp', 'det', 'noun', 'verb', 'adp', 'conj', 'det', 'adj', 'verb', 'noun', 'noun', 'adp', '.']\n",
            "\n",
            "Words: the money spent on repairs will be counted as a plus .\n",
            "Predicted Tags: ['det', 'noun', 'verb', 'adp', 'noun', 'verb', 'verb', 'verb', 'adp', 'det', 'conj', '.']\n",
            "\n",
            "Words: indeed , this set can be seen more as a by-product of stacked perfect fourths than a generative element itself .\n",
            "Predicted Tags: ['adv', '.', 'det', 'noun', 'verb', 'verb', 'verb', 'adv', 'adp', 'det', 'noun', 'adp', 'verb', 'noun', 'noun', 'adp', 'det', 'adj', 'noun', 'pron', '.']\n",
            "\n",
            "Words: the fight is putting a tight squeeze on profits of many , threatening to drive the smallest ones out of business and straining relations between the national fast-food chains and their franchisees .\n",
            "Predicted Tags: ['det', 'noun', 'verb', 'verb', 'det', 'adj', 'noun', 'adp', 'noun', 'adp', 'adj', '.', 'verb', 'prt', 'verb', 'det', 'adj', 'noun', 'adp', 'adp', 'noun', 'conj', 'verb', 'noun', 'adp', 'det', 'adj', 'noun', 'noun', 'conj', 'pron', 'noun', '.']\n",
            "\n",
            "Words: `` he's got this idea about drying out ''\n",
            "Predicted Tags: ['.', 'prt', 'verb', 'det', 'noun', 'adp', 'verb', 'prt', '.']\n",
            "\n",
            "Words: digital also said it has dispatched teams of technicians to california .\n",
            "Predicted Tags: ['noun', 'adv', 'verb', 'pron', 'verb', 'verb', 'noun', 'adp', 'noun', 'prt', 'noun', '.']\n",
            "\n",
            "Words: watch closely while browning them , as it doesn't take long .\n",
            "Predicted Tags: ['noun', 'adv', 'adp', 'noun', 'pron', '.', 'adp', 'pron', 'verb', 'verb', 'adj', '.']\n",
            "\n",
            "Words: inevitably , one side was pleased and the other displeased , regardless of how we ruled .\n",
            "Predicted Tags: ['adv', '.', 'num', 'noun', 'verb', 'verb', 'conj', 'det', 'adj', 'adj', '.', 'adv', 'adp', 'adv', 'pron', 'verb', '.']\n",
            "\n",
            "Words: first an example of a regular case : < fig id = fig 4 > < fig id = fig 4 a > < figlnk file = \" fig 4 a \" > < / fig > < fig id = fig 4 b > < figlnk file = \" fig 4 b \" > < / fig > < / fig >\n",
            "Predicted Tags: ['adv', 'det', 'noun', 'adp', 'det', 'adj', 'noun', '.', 'noun', 'noun', 'noun', 'x', 'noun', 'num', 'noun', 'noun', 'noun', 'noun', 'x', 'noun', 'num', 'det', 'noun', 'noun', 'noun', 'noun', 'x', '.', 'noun', 'num', 'det', '.', 'noun', 'noun', 'noun', 'noun', 'noun', 'noun', 'noun', 'noun', 'x', 'noun', 'num', 'noun', 'noun', 'noun', 'noun', 'noun', 'x', '.', 'noun', 'num', 'x', '.', 'noun', 'noun', 'noun', 'noun', 'noun', 'noun', 'noun', 'noun', 'noun']\n",
            "\n",
            "Words: no one else must know .\n",
            "Predicted Tags: ['det', 'noun', 'adv', 'verb', 'verb', '.']\n",
            "\n",
            "Words: next , estimate the value of possible earnings of the farm .\n",
            "Predicted Tags: ['adj', '.', 'verb', 'det', 'noun', 'adp', 'adj', 'noun', 'adp', 'det', 'noun', '.']\n",
            "\n",
            "Words: she said , `` my dear , do you know what kent house is '' ? ?\n",
            "Predicted Tags: ['pron', 'verb', '.', '.', 'det', 'adj', '.', 'verb', 'pron', 'verb', 'det', 'noun', 'noun', 'verb', '.', '.', '.']\n",
            "\n",
            "Words: thank you for the opportunity to see post - bushco era detroit through the prism of your vision .\n",
            "Predicted Tags: ['verb', 'pron', 'adp', 'det', 'noun', 'prt', 'verb', 'noun', '.', 'adj', 'noun', 'noun', 'adp', 'det', 'noun', 'adp', 'pron', 'noun', '.']\n",
            "\n",
            "Words: the coordination complexes formed by transition metals with primary and secondary phosphines and arsines are being investigated ( r. g. hayter ) .\n",
            "Predicted Tags: ['det', 'noun', 'noun', 'verb', 'adp', 'noun', 'noun', 'adp', 'adj', 'conj', 'adj', 'noun', 'conj', 'num', 'verb', 'verb', 'verb', '.', 'noun', 'noun', 'noun', '.', '.']\n",
            "\n",
            "Words: we are committed to being a leader in our industry and are dedicated to providing exceptional customer service , we need capable hands to act as representative / book keeper in the united arab emirate , asia , canada , new zealand and australia on behalf of our company .\n",
            "Predicted Tags: ['pron', 'verb', 'verb', 'prt', 'verb', 'det', 'noun', 'adp', 'pron', 'noun', 'conj', 'verb', 'verb', 'adp', 'verb', 'adj', 'noun', 'noun', '.', 'pron', 'verb', 'adj', 'noun', 'prt', 'verb', 'adp', 'adj', 'noun', 'noun', 'noun', 'adp', 'det', 'noun', 'noun', 'noun', '.', 'noun', '.', 'noun', '.', 'adj', 'noun', 'conj', 'noun', 'adp', 'noun', 'adp', 'pron', 'noun', '.']\n",
            "\n",
            "Words: `` you owe it to penny to give her a chance to explain that she was defending you , really '' , he observed mildly .\n",
            "Predicted Tags: ['.', 'pron', 'verb', 'pron', 'prt', 'noun', 'prt', 'verb', 'pron', 'det', 'noun', 'prt', 'verb', 'adp', 'pron', 'verb', 'verb', 'pron', '.', 'adv', '.', '.', 'pron', 'verb', 'adv', '.']\n",
            "\n",
            "Words: but his companion crossed the river walking on the water and beckoned to hwang pah to follow him .\n",
            "Predicted Tags: ['conj', 'det', 'noun', 'verb', 'det', 'noun', 'verb', 'adp', 'det', 'noun', 'conj', 'verb', 'adp', 'noun', 'noun', 'adp', 'verb', 'pron', '.']\n",
            "\n",
            "Words: the 142 institutional-type money funds rose $ 2.23 billion to $ 85.49 billion .\n",
            "Predicted Tags: ['det', 'num', 'noun', 'noun', 'noun', 'verb', '.', 'num', 'num', 'prt', '.', 'num', 'num', '.']\n",
            "\n",
            "Words: alfred nodded a little nod and went out through the door .\n",
            "Predicted Tags: ['noun', 'verb', 'det', 'adj', 'noun', 'conj', 'verb', 'prt', 'adp', 'det', 'noun', '.']\n",
            "\n",
            "Words: it 's they who do n't get it .\n",
            "Predicted Tags: ['pron', 'verb', 'pron', 'pron', 'verb', 'adv', 'verb', 'pron', '.']\n",
            "\n",
            "Words: he had to acquire everything he was going to get in four years .\n",
            "Predicted Tags: ['pron', 'verb', 'prt', 'verb', 'noun', 'pron', 'verb', 'verb', 'prt', 'verb', 'adp', 'num', 'noun', '.']\n",
            "\n",
            "Words: the man closed his eyes .\n",
            "Predicted Tags: ['det', 'noun', 'verb', 'det', 'noun', '.']\n",
            "\n",
            "Words: keizaikai is one of a small but growing band of japanese companies taking their first steps into american publishing , after making major investments in entertainment , real estate and banking companies here .\n",
            "Predicted Tags: ['noun', 'verb', 'num', 'adp', 'det', 'adj', 'conj', 'verb', 'noun', 'adp', 'adj', 'noun', 'verb', 'det', 'adj', 'noun', 'adp', 'adj', 'noun', '.', 'adp', 'verb', 'adj', 'noun', 'adp', 'noun', '.', 'adj', 'noun', 'conj', 'noun', 'noun', 'adv', '.']\n",
            "\n",
            "Words: there was a sniper's nest in a mountain cave , and it was picking off our men with devilish accuracy .\n",
            "Predicted Tags: ['prt', 'verb', 'det', 'noun', 'noun', 'adp', 'det', 'noun', 'noun', '.', 'conj', 'pron', 'verb', 'verb', 'prt', 'det', 'noun', 'adp', 'adj', 'noun', '.']\n",
            "\n",
            "Words: on review the supreme court , via mr. justice frankfurter , found southern racial problems `` a sensitive area of social policy on which the federal courts ought not to enter unless no alternative to adjudication is open '' .\n",
            "Predicted Tags: ['adp', 'noun', 'det', 'noun', 'noun', '.', 'adp', 'noun', 'noun', 'noun', '.', 'verb', 'adj', 'adj', 'noun', '.', 'det', 'adj', 'noun', 'adp', 'adj', 'noun', 'adp', 'det', 'det', 'adj', 'noun', 'verb', 'adv', 'prt', 'verb', 'adp', 'det', 'noun', 'adp', 'verb', 'verb', 'adj', '.', '.']\n",
            "\n",
            "Words: this time she submitted and in a few days was going good .\n",
            "Predicted Tags: ['det', 'noun', 'pron', 'verb', 'conj', 'adp', 'det', 'adj', 'noun', 'verb', 'verb', 'adj', '.']\n",
            "\n",
            "Words: soon they were all shouting greetings , exchanging smiles , and rejoicing to think that they were all back together again .\n",
            "Predicted Tags: ['adv', 'pron', 'verb', 'prt', 'verb', 'noun', '.', 'verb', 'noun', '.', 'conj', 'verb', 'prt', 'verb', 'adp', 'pron', 'verb', 'adv', 'adv', 'adv', 'adv', '.']\n",
            "\n",
            "Words: environmentalists criticized the program as merely a public-relations attempt to head off a white house proposal to require a million cars a year that run on cleaner-burning fuels by 1997 .\n",
            "Predicted Tags: ['noun', 'verb', 'det', 'noun', 'adp', 'adv', 'det', 'noun', 'noun', 'prt', 'verb', 'adp', 'det', 'adj', 'noun', 'noun', 'prt', 'verb', 'det', 'num', 'noun', 'det', 'noun', 'adp', 'verb', 'adp', 'adj', 'noun', 'adp', 'num', '.']\n",
            "\n",
            "Words: gibbs : next !\n",
            "Predicted Tags: ['noun', '.', 'adj', '.']\n",
            "\n",
            "Words: i stood up and began pacing .\n",
            "Predicted Tags: ['pron', 'verb', 'prt', 'conj', 'verb', 'verb', '.']\n",
            "\n",
            "Words: rt @insurgent video of @shellyroche of breakthematrix on fox business today about tea parties & tarp - http://tinyurl.com/d8w8h7\n",
            "Predicted Tags: ['noun', 'noun', 'noun', 'adp', 'num', 'adp', 'noun', 'adp', 'noun', 'noun', 'noun', 'adp', 'noun', 'noun', 'conj', 'noun', 'x', 'adj']\n",
            "\n",
            "Words: recent changes .\n",
            "Predicted Tags: ['adj', 'noun', '.']\n",
            "\n",
            "Words: the years of joseph's partnership with his father were numbered .\n",
            "Predicted Tags: ['det', 'noun', 'adp', 'noun', 'noun', 'adp', 'det', 'noun', 'verb', 'verb', '.']\n",
            "\n",
            "Words: of course , most toilets are eastern style -- at floor level -- but even when they are raised to chair height , they are actually outside toilets -- inside .\n",
            "Predicted Tags: ['adp', 'noun', '.', 'adj', 'noun', 'verb', 'adj', 'noun', '.', 'adp', 'noun', 'noun', '.', 'conj', 'adv', 'adv', 'pron', 'verb', 'verb', 'adp', 'noun', 'noun', '.', 'pron', 'verb', 'adv', 'adp', 'noun', '.', 'adp', '.']\n",
            "\n",
            "Words: we get 250,000 planets ; ;\n",
            "Predicted Tags: ['pron', 'verb', 'num', 'noun', '.', '.']\n",
            "\n",
            "Words: the reporter nodded as he moved up beside him at the bar .\n",
            "Predicted Tags: ['det', 'noun', 'verb', 'adp', 'pron', 'verb', 'prt', 'adp', 'pron', 'adp', 'det', 'noun', '.']\n",
            "\n",
            "Words: of all the whig tracts written in support of the succession , the crisis is perhaps the most significant .\n",
            "Predicted Tags: ['adp', 'prt', 'det', 'noun', 'noun', 'verb', 'adp', 'noun', 'adp', 'det', 'noun', '.', 'det', 'noun', 'verb', 'adv', 'det', 'adv', 'adj', '.']\n",
            "\n",
            "Words: circumstances .\n",
            "Predicted Tags: ['noun', '.']\n",
            "\n",
            "Words: do n't blow this .\n",
            "Predicted Tags: ['verb', 'adv', 'verb', 'det', '.']\n",
            "\n",
            "Words: and , in a sense , that 's the kind of task individuals face in deciding what to do about stocks -- the mainstay of most serious investors ' portfolios .\n",
            "Predicted Tags: ['conj', '.', 'adp', 'det', 'noun', '.', 'adp', 'verb', 'det', 'noun', 'adp', 'noun', 'noun', 'noun', 'adp', 'verb', 'pron', 'prt', 'verb', 'adp', 'noun', '.', 'det', 'noun', 'adp', 'adj', 'adj', 'noun', 'prt', 'noun', '.']\n",
            "\n",
            "Words: but i once again assure all peoples and all nations that the united states , except in defense , will never turn loose this destructive power .\n",
            "Predicted Tags: ['conj', 'pron', 'adv', 'adv', 'verb', 'prt', 'noun', 'conj', 'prt', 'noun', 'pron', 'det', 'verb', 'noun', '.', 'adp', 'adp', 'noun', '.', 'verb', 'adv', 'verb', 'adj', 'det', 'adj', 'noun', '.']\n",
            "\n",
            "Words: know that is a thin veneer on a four-billion-year-old know-how skill abundant in the biosphere .\n",
            "Predicted Tags: ['verb', 'det', 'verb', 'det', 'adj', 'noun', 'adp', 'det', 'noun', 'noun', 'noun', 'adj', 'adp', 'det', 'noun', '.']\n",
            "\n",
            "Words: \" not everyone in calcutta , or india for that matter , is unanimous in praising the nun , whose organization was able to raise millions of dollars worldwide but made virtually no significant changes in the social structure of this collapsing city 's poor neighborhoods .\n",
            "Predicted Tags: ['.', 'adv', 'noun', 'adp', 'noun', '.', 'conj', 'noun', 'adp', 'det', 'noun', '.', 'verb', 'adj', 'adp', 'verb', 'det', 'noun', '.', 'pron', 'noun', 'verb', 'adj', 'prt', 'verb', 'noun', 'adp', 'noun', 'noun', 'conj', 'verb', 'adv', 'det', 'adj', 'noun', 'adp', 'det', 'adj', 'noun', 'adp', 'det', 'verb', 'noun', 'prt', 'adj', 'noun', '.']\n",
            "\n",
            "Words: when the tremors struck , the region 's largely unseen high-tech fabric held up surprisingly well despite the devastation visible from the air .\n",
            "Predicted Tags: ['adv', 'det', 'noun', 'verb', '.', 'det', 'noun', 'prt', 'adv', 'adj', 'adj', 'noun', 'verb', 'adp', 'noun', 'adv', 'adp', 'det', 'noun', 'adj', 'adp', 'det', 'noun', '.']\n",
            "\n",
            "Words: '' and others concerning camp friends who resided in her suburban neighborhood , , and news of her commencing again her piano lessons , her private school , a visit to boston to see her grandparents and an uncle who was a surgeon returned on furlough , wounded , from the war in europe .\n",
            "Predicted Tags: ['.', 'conj', 'noun', 'adp', 'noun', 'noun', 'pron', 'verb', 'adp', 'det', 'adj', 'noun', '.', '.', 'conj', 'noun', 'adp', 'pron', 'verb', 'adv', 'det', 'noun', 'noun', '.', 'det', 'adj', 'noun', '.', 'det', 'noun', 'adp', 'noun', 'prt', 'verb', 'det', 'noun', 'conj', 'det', 'noun', 'pron', 'verb', 'det', 'noun', 'verb', 'adp', 'noun', '.', 'verb', '.', 'adp', 'det', 'noun', 'adp', 'noun', '.']\n",
            "\n",
            "Words: you make great efforts to ensure jack sparrow 's freedom .\n",
            "Predicted Tags: ['pron', 'verb', 'adj', 'noun', 'prt', 'verb', 'noun', 'noun', 'prt', 'noun', '.']\n",
            "\n",
            "Words: what kept him happy without super-condamine ? ?\n",
            "Predicted Tags: ['det', 'verb', 'pron', 'adj', 'adp', 'noun', '.', '.']\n",
            "\n",
            "Words: `` janice , could you possibly go over and make sure everything's all right ? ?\n",
            "Predicted Tags: ['.', 'noun', '.', 'verb', 'pron', 'adv', 'verb', 'prt', 'conj', 'verb', 'adj', 'prt', 'prt', 'adj', '.', '.']\n",
            "\n",
            "Words: its richter scale measurement was reported as 6.5 , then 6.9 , then 7.0 .\n",
            "Predicted Tags: ['pron', 'noun', 'noun', 'noun', 'verb', 'verb', 'adp', 'num', '.', 'adv', 'num', '.', 'adv', 'num', '.']\n",
            "\n",
            "Words: as the onion decayed , so did the wart .\n",
            "Predicted Tags: ['adp', 'det', 'noun', 'verb', '.', 'adp', 'verb', 'det', 'noun', '.']\n",
            "\n",
            "Words: place work on a flat surface and smooth out .\n",
            "Predicted Tags: ['verb', 'noun', 'adp', 'det', 'adj', 'noun', 'conj', 'adj', 'prt', '.']\n",
            "\n",
            "Words: the concentration of effective power in rabat leads not only to party bickering , but to distraction from local activity that might have had many auxiliary benefits in addition to contributing to more meaningful elections .\n",
            "Predicted Tags: ['det', 'noun', 'adp', 'adj', 'noun', 'adp', 'noun', 'verb', 'adv', 'adv', 'prt', 'verb', 'noun', '.', 'conj', 'adp', 'noun', 'adp', 'adj', 'noun', 'adp', 'verb', 'verb', 'verb', 'adj', 'adj', 'noun', 'adp', 'noun', 'adp', 'verb', 'prt', 'adj', 'adj', 'noun', '.']\n",
            "\n",
            "Words: first priority will be given to the preparation of a meaningful state guide plan to serve as a background for all other planning activities in the state .\n",
            "Predicted Tags: ['adv', 'noun', 'verb', 'verb', 'verb', 'adp', 'det', 'noun', 'adp', 'det', 'adj', 'noun', 'noun', 'noun', 'prt', 'verb', 'adp', 'det', 'noun', 'adp', 'prt', 'adj', 'noun', 'noun', 'adp', 'det', 'noun', '.']\n",
            "\n",
            "Words: it would to me '' .\n",
            "Predicted Tags: ['pron', 'verb', 'prt', 'pron', '.', '.']\n",
            "\n",
            "Words: the ingredients of faulkner's novels and stories are by no means new with him , and most of the problems he takes up have had the attention of authors before him .\n",
            "Predicted Tags: ['det', 'noun', 'adp', 'noun', 'noun', 'conj', 'noun', 'verb', 'adp', 'det', 'noun', 'adj', 'adp', 'pron', '.', 'conj', 'adv', 'adp', 'det', 'noun', 'pron', 'verb', 'prt', 'verb', 'verb', 'det', 'noun', 'adp', 'noun', 'adp', 'pron', '.']\n",
            "\n",
            "Words: according to the la times , the documentary genre \" owes a huge debt to michael moore \" -- after bowling 's success , films like \" spellbound \" and \" capturing the friedmans \" were taken seriously and shown in many more theatres than otherwise likely .\n",
            "Predicted Tags: ['verb', 'prt', 'det', 'noun', 'noun', '.', 'det', 'noun', 'noun', '.', 'verb', 'det', 'adj', 'noun', 'prt', 'noun', 'noun', '.', '.', 'adp', 'noun', 'prt', 'noun', '.', 'noun', 'adp', '.', 'verb', '.', 'conj', '.', 'verb', 'det', 'noun', '.', 'verb', 'verb', 'adv', 'conj', 'verb', 'adp', 'adj', 'adj', 'noun', 'adp', 'adv', 'adj', '.']\n",
            "\n",
            "Words: with our company of soldiers , we made one long column of reddish dust .\n",
            "Predicted Tags: ['adp', 'det', 'noun', 'adp', 'noun', '.', 'pron', 'verb', 'num', 'adj', 'noun', 'adp', 'adj', 'noun', '.']\n",
            "\n",
            "Words: lucy ordered in a soft whisper .\n",
            "Predicted Tags: ['noun', 'verb', 'adp', 'det', 'adj', 'noun', '.']\n",
            "\n",
            "Words: in september 1822 two companies of infantry arrived at the mouth of the st. peter's river , the head of navigation on the mississippi , and began construction of fort st. anthony which , upon completion , was renamed in honor of its commander , colonel josiah snelling .\n",
            "Predicted Tags: ['adp', 'noun', 'num', 'num', 'noun', 'adp', 'noun', 'verb', 'adp', 'det', 'noun', 'adp', 'det', 'noun', 'noun', 'noun', '.', 'det', 'noun', 'adp', 'noun', 'adp', 'det', 'noun', '.', 'conj', 'verb', 'noun', 'adp', 'noun', 'noun', 'noun', 'det', '.', 'adp', 'noun', '.', 'verb', 'verb', 'adp', 'noun', 'adp', 'pron', 'noun', '.', 'noun', 'noun', 'noun', '.']\n",
            "\n",
            "Words: because that was what you said -- that 's -- the pattern under the ctea is identical to the one in the ' 76 act .\n",
            "Predicted Tags: ['adp', 'det', 'verb', 'pron', 'pron', 'verb', '.', 'det', 'verb', '.', 'det', 'noun', 'adp', 'det', 'noun', 'verb', 'adj', 'prt', 'det', 'num', 'adp', 'det', 'prt', 'num', 'noun', '.']\n",
            "\n",
            "Words: that would take all of the inputs and weight them appropriately for that question .\n",
            "Predicted Tags: ['det', 'verb', 'verb', 'det', 'adp', 'det', 'noun', 'conj', 'noun', 'pron', 'adv', 'adp', 'det', 'noun', '.']\n",
            "\n",
            "Words: in the early days of a homogeneous population , the public school was quite satisfactory .\n",
            "Predicted Tags: ['adp', 'det', 'adj', 'noun', 'adp', 'det', 'adj', 'noun', '.', 'det', 'adj', 'noun', 'verb', 'adv', 'adj', '.']\n",
            "\n"
          ]
        }
      ],
      "source": [
        "predicted_tags = [[tag_tokenizer.index_word.get(tag_index, 'PAD') for tag_index in sentence] for sentence in rnn_labels]\n",
        "predicted_tags = [[tag for tag in sentence if tag != 'PAD'] for sentence in predicted_tags]\n",
        "\n",
        "\n",
        "# Decode X_test (convert numerical sequences back to words)\n",
        "X_test_decoded = word_tokenizer.sequences_to_texts(X_test)\n",
        "\n",
        "# Print X_test with predicted tags\n",
        "for words, tags in zip(X_test_decoded[:500], predicted_tags[:500]):\n",
        "    print(f\"Words: {words}\")\n",
        "    print(f\"Predicted Tags: {tags}\\n\")"
      ]
    },
    {
      "cell_type": "code",
      "execution_count": null,
      "metadata": {
        "colab": {
          "base_uri": "https://localhost:8080/"
        },
        "id": "vamS1H3k3CSU",
        "outputId": "ac742053-315c-4d5d-ef8a-110f08199d0f"
      },
      "outputs": [
        {
          "data": {
            "text/plain": [
              "(16011, 100)"
            ]
          },
          "execution_count": 99,
          "metadata": {},
          "output_type": "execute_result"
        }
      ],
      "source": [
        "X_test.shape"
      ]
    },
    {
      "cell_type": "code",
      "execution_count": 1,
      "metadata": {
        "colab": {
          "base_uri": "https://localhost:8080/",
          "height": 245
        },
        "id": "vbSqcg-H6-eZ",
        "outputId": "632cd360-0598-4776-9a2c-76a2b866eefd"
      },
      "outputs": [
        {
          "name": "stdout",
          "output_type": "stream",
          "text": [
            "write your sentence : \n",
            "hello mr brown\n"
          ]
        },
        {
          "ename": "NameError",
          "evalue": "name 'word_tokenizer' is not defined",
          "output_type": "error",
          "traceback": [
            "\u001b[0;31m---------------------------------------------------------------------------\u001b[0m",
            "\u001b[0;31mNameError\u001b[0m                                 Traceback (most recent call last)",
            "\u001b[0;32m<ipython-input-1-bb77296761b7>\u001b[0m in \u001b[0;36m<cell line: 2>\u001b[0;34m()\u001b[0m\n\u001b[1;32m      1\u001b[0m \u001b[0msentence\u001b[0m \u001b[0;34m=\u001b[0m \u001b[0minput\u001b[0m\u001b[0;34m(\u001b[0m\u001b[0;34m'write your sentence : \\n'\u001b[0m\u001b[0;34m)\u001b[0m\u001b[0;34m\u001b[0m\u001b[0;34m\u001b[0m\u001b[0m\n\u001b[0;32m----> 2\u001b[0;31m \u001b[0msentence_encoded\u001b[0m \u001b[0;34m=\u001b[0m \u001b[0mword_tokenizer\u001b[0m\u001b[0;34m.\u001b[0m\u001b[0mtexts_to_sequences\u001b[0m\u001b[0;34m(\u001b[0m\u001b[0;34m[\u001b[0m\u001b[0msentence\u001b[0m\u001b[0;34m]\u001b[0m\u001b[0;34m)\u001b[0m\u001b[0;34m\u001b[0m\u001b[0;34m\u001b[0m\u001b[0m\n\u001b[0m\u001b[1;32m      3\u001b[0m \u001b[0msentence_padded\u001b[0m \u001b[0;34m=\u001b[0m \u001b[0mpad_sequences\u001b[0m\u001b[0;34m(\u001b[0m\u001b[0msentence_encoded\u001b[0m\u001b[0;34m,\u001b[0m \u001b[0mmaxlen\u001b[0m\u001b[0;34m=\u001b[0m\u001b[0mmax_length\u001b[0m\u001b[0;34m,\u001b[0m \u001b[0mpadding\u001b[0m\u001b[0;34m=\u001b[0m\u001b[0;34m'pre'\u001b[0m\u001b[0;34m,\u001b[0m \u001b[0mtruncating\u001b[0m\u001b[0;34m=\u001b[0m\u001b[0;34m'post'\u001b[0m\u001b[0;34m)\u001b[0m\u001b[0;34m\u001b[0m\u001b[0;34m\u001b[0m\u001b[0m\n\u001b[1;32m      4\u001b[0m \u001b[0mpredictions\u001b[0m \u001b[0;34m=\u001b[0m \u001b[0mrnn_model\u001b[0m\u001b[0;34m.\u001b[0m\u001b[0mpredict\u001b[0m\u001b[0;34m(\u001b[0m\u001b[0msentence_padded\u001b[0m\u001b[0;34m)\u001b[0m\u001b[0;34m\u001b[0m\u001b[0;34m\u001b[0m\u001b[0m\n\u001b[1;32m      5\u001b[0m \u001b[0mpredicted_labels\u001b[0m \u001b[0;34m=\u001b[0m \u001b[0mnp\u001b[0m\u001b[0;34m.\u001b[0m\u001b[0margmax\u001b[0m\u001b[0;34m(\u001b[0m\u001b[0mpredictions\u001b[0m\u001b[0;34m,\u001b[0m \u001b[0maxis\u001b[0m\u001b[0;34m=\u001b[0m\u001b[0;34m-\u001b[0m\u001b[0;36m1\u001b[0m\u001b[0;34m)\u001b[0m\u001b[0;34m\u001b[0m\u001b[0;34m\u001b[0m\u001b[0m\n",
            "\u001b[0;31mNameError\u001b[0m: name 'word_tokenizer' is not defined"
          ]
        }
      ],
      "source": [
        "# input a text and test this model\n",
        "sentence = input('write your sentence : \\n')\n",
        "sentence_encoded = word_tokenizer.texts_to_sequences([sentence])\n",
        "sentence_padded = pad_sequences(sentence_encoded, maxlen=max_length, padding='pre', truncating='post')\n",
        "predictions = rnn_model.predict(sentence_padded)\n",
        "predicted_labels = np.argmax(predictions, axis=-1)\n",
        "# Decode predictions to POS tags\n",
        "predicted_tags = [tag_tokenizer.index_word.get(tag_index, 'PAD') for tag_index in predicted_labels[0]]\n",
        "predicted_tags = [tag for tag in predicted_tags if tag != 'PAD']\n",
        "predicted_tags"
      ]
    },
    {
      "cell_type": "code",
      "execution_count": null,
      "metadata": {
        "id": "9Dq5Wq_W7BCH"
      },
      "outputs": [],
      "source": []
    }
  ],
  "metadata": {
    "colab": {
      "provenance": []
    },
    "kernelspec": {
      "display_name": "Python 3",
      "name": "python3"
    },
    "language_info": {
      "name": "python"
    }
  },
  "nbformat": 4,
  "nbformat_minor": 0
}
